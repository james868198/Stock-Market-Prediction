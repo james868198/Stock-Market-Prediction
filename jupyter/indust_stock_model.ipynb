{
 "cells": [
  {
   "cell_type": "code",
   "execution_count": 48,
   "metadata": {
    "scrolled": false
   },
   "outputs": [
    {
     "name": "stdout",
     "output_type": "stream",
     "text": [
      "         Date       Open       High        Low      Close  Adj Close  \\\n",
      "0  2014-01-02  79.382858  79.575714  78.860001  79.018570  66.964325   \n",
      "1  2014-01-03  78.980003  79.099998  77.204285  77.282860  65.493416   \n",
      "2  2014-01-06  76.778572  78.114288  76.228569  77.704285  65.850533   \n",
      "3  2014-01-07  77.760002  77.994286  76.845711  77.148575  65.379593   \n",
      "4  2014-01-08  76.972855  77.937141  76.955711  77.637146  65.793633   \n",
      "\n",
      "      Volume  \n",
      "0   58671200  \n",
      "1   98116900  \n",
      "2  103152700  \n",
      "3   79302300  \n",
      "4   64632400  \n"
     ]
    }
   ],
   "source": [
    "import tensorflow as tf\n",
    "from tensorflow.keras.models import Sequential\n",
    "from tensorflow.keras.layers import Dense, Dropout, LSTM\n",
    "from tensorflow.keras.utils import normalize\n",
    "from tensorflow.keras.callbacks import EarlyStopping\n",
    "from sklearn.preprocessing import MinMaxScaler, scale\n",
    "\n",
    "import pandas as pd\n",
    "import numpy as np\n",
    "import matplotlib.pyplot as plt\n",
    "apple = pd.read_csv('../data/transactions/Tech/AAPL.csv')  \n",
    "google = pd.read_csv('../data/transactions/Tech/GOOG.csv')  \n",
    "fb = pd.read_csv('../data/transactions/Tech/FB.csv')  \n",
    "microsoft = pd.read_csv('../data/transactions/Tech/MSFT.csv')  \n",
    "amazon = pd.read_csv('../data/transactions/Tech/AMZN.csv')  \n",
    "print(apple.head())"
   ]
  },
  {
   "cell_type": "code",
   "execution_count": 63,
   "metadata": {},
   "outputs": [],
   "source": [
    "\n",
    "\n",
    "def processData(data,result,input_unit,output_unit):\n",
    "    X,Y = [],[]\n",
    "    for i in range(len(data)-input_unit-output_unit):\n",
    "        X.append(data[i:(i+input_unit)])\n",
    "        temp = [result[j+i+input_unit] for j in range(output_unit)]\n",
    "        Y.append(temp)\n",
    "    return np.array(X),np.array(Y)\n",
    "\n",
    "def getStock(stock):\n",
    "    value = pd.Series(stock['Close']-stock['Close'].shift(1), index=stock.index) \n",
    "    value = value.bfill() \n",
    "    value[value>=0]=1\n",
    "    value[value<0]=0 \n",
    "    \n",
    "    stock = stock.drop(['Date'],axis=1)\n",
    "    stock=stock.astype('float64')\n",
    "    CloseData = np.array(stock['Close'])\n",
    "    return scale(stock), scale(CloseData),value\n"
   ]
  },
  {
   "cell_type": "code",
   "execution_count": 64,
   "metadata": {},
   "outputs": [],
   "source": [
    "#model parameters\n",
    "cell_unit = 50\n",
    "learn_rate = 1e-3\n",
    "decay_rate = 1e-6\n",
    "train_epochs = 500\n",
    "\n",
    "#input parameters\n",
    "intput = apple\n",
    "time_num = 10\n",
    "output_num = 1\n",
    "precentage = 0.75"
   ]
  },
  {
   "cell_type": "code",
   "execution_count": 68,
   "metadata": {},
   "outputs": [
    {
     "name": "stdout",
     "output_type": "stream",
     "text": [
      "[[-1.38570986 -1.39788315 -1.3824354  -1.3963611  -1.50066002  0.66773249]\n",
      " [-1.39647738 -1.41048265 -1.42712404 -1.44277139 -1.53808318  2.3410576 ]\n",
      " [-1.45531728 -1.4365895  -1.45345912 -1.43150312 -1.52899734  2.55468115]\n",
      " [-1.42908559 -1.43976779 -1.43680214 -1.44636197 -1.54097908  1.5429239 ]\n",
      " [-1.45012448 -1.44128129 -1.43383318 -1.43329831 -1.530445    0.92061242]\n",
      " [-1.41961623 -1.43636257 -1.44671149 -1.45980772 -1.55182122  1.13928406]\n",
      " [-1.44622986 -1.45929132 -1.46306    -1.47348257 -1.56284812  1.41318783]\n",
      " [-1.48410713 -1.45285912 -1.46780256 -1.46282527 -1.55425416  2.19285143]\n",
      " [-1.45237717 -1.4368544  -1.43780457 -1.42210635 -1.52141956  1.70573985]\n",
      " [-1.39395735 -1.38588906 -1.38382352 -1.38020339 -1.48763126  2.33226797]]\n",
      "[-1.3963611  -1.44277139 -1.43150312 -1.44636197 -1.43329831 -1.45980772\n",
      " -1.47348257 -1.46282527 -1.42210635 -1.38020339]\n",
      "0    0.0\n",
      "1    0.0\n",
      "2    1.0\n",
      "3    0.0\n",
      "4    1.0\n",
      "5    0.0\n",
      "6    0.0\n",
      "7    1.0\n",
      "8    1.0\n",
      "9    1.0\n",
      "Name: Close, dtype: float64\n",
      "(1247, 10, 6)\n",
      "(1247, 1)\n",
      "(935, 10, 6)\n",
      "(935, 1)\n"
     ]
    }
   ],
   "source": [
    "#data,result = getStock(intput)\n",
    "data,result,val = getStock(intput)\n",
    "print(data[:10])\n",
    "print(result[:10])\n",
    "print(val[:10])\n",
    "data,result = processData(data,result,time_num,output_num)\n",
    "samples_num = data.shape[1]\n",
    "features_num = data.shape[2]\n",
    "print(data.shape)\n",
    "print(result.shape)\n",
    "n = len(data)\n",
    "train_size = int(n*precentage)\n",
    "data_train,data_test = data[0:train_size],data[train_size:]\n",
    "result_train,result_test = result[0:train_size],result[train_size:]\n",
    "print(data_train.shape)\n",
    "print(result_train.shape)"
   ]
  },
  {
   "cell_type": "code",
   "execution_count": 69,
   "metadata": {},
   "outputs": [],
   "source": [
    "# print(data_train)\n",
    "# print(result_train)"
   ]
  },
  {
   "cell_type": "code",
   "execution_count": 70,
   "metadata": {},
   "outputs": [],
   "source": [
    "# basic model\n",
    "\n",
    "model = Sequential() # most common\n",
    "model.add(LSTM(cell_unit, input_shape = (time_num,features_num), activation = 'relu')) \n",
    "# model.add(Dropout(0.2))\n",
    "\n",
    "# model.add(LSTM(cell_unit, activation = 'relu'))\n",
    "# model.add(Dropout(0.2))\n",
    "\n",
    "# model.add(Dense(time_steps, activation = 'relu'))\n",
    "# model.add(Dropout(0.2))\n",
    "\n",
    "model.add(Dense(1))\n",
    "\n",
    "apt = tf.keras.optimizers.Adam(lr=learn_rate, decay=decay_rate)\n",
    "model.compile(optimizer=apt, loss='mse') \n",
    "callback = EarlyStopping(monitor='val_loss', patience=10,verbose=1,mode='auto')\n"
   ]
  },
  {
   "cell_type": "code",
   "execution_count": 58,
   "metadata": {},
   "outputs": [],
   "source": [
    "# basic mul layer model \n",
    "\n",
    "model = Sequential() # most common\n",
    "model.add(LSTM(cell_unit, input_shape = (time_num,features_num), activation = 'relu')) \n",
    "model.add(Dropout(0.2))\n",
    "model.add(LSTM(cell_unit, activation = 'relu',return_sequences = True))\n",
    "model.add(Dropout(0.2))\n",
    "model.add(Dense(time_num, activation = 'relu'))\n",
    "model.add(Dropout(0.2))\n",
    "\n",
    "model.add(Dense(output_num))\n",
    "\n",
    "apt = tf.keras.optimizers.Adam(lr=learn_rate, decay=decay_rate)\n",
    "model.compile(optimizer=apt, loss='mse') \n",
    "callback = EarlyStopping(monitor='loss', patience=10,verbose=1,mode='auto')"
   ]
  },
  {
   "cell_type": "code",
   "execution_count": null,
   "metadata": {},
   "outputs": [],
   "source": [
    "# mul model 1\n",
    "\n",
    "model = Sequential() # most common\n",
    "model.add(LSTM(cell_unit, input_shape = (time_num,features_num),return_sequences = True, activation = 'relu')) \n",
    "model.add(Dropout(0.2))\n",
    "model.add(LSTM(cell_unit, activation = 'relu',return_sequences = True))\n",
    "model.add(Dropout(0.2))\n",
    "model.add(Dense(time_num, activation = 'relu'))\n",
    "model.add(Dropout(0.2))\n",
    "\n",
    "model.add(Dense(output_num))\n",
    "\n",
    "apt = tf.keras.optimizers.Adam(lr=learn_rate, decay=decay_rate)\n",
    "model.compile(optimizer=apt, loss='mse') \n",
    "callback = EarlyStopping(monitor='loss', patience=10,verbose=1,mode='auto')"
   ]
  },
  {
   "cell_type": "code",
   "execution_count": 149,
   "metadata": {},
   "outputs": [],
   "source": [
    "# basic model mul output\n",
    "\n",
    "model = Sequential() # most common\n",
    "model.add(LSTM(cell_unit, input_shape = (time_num,features_num), activation = 'relu')) \n",
    "# model.add(Dropout(0.2))\n",
    "\n",
    "# model.add(LSTM(cell_unit, activation = 'relu'))\n",
    "# model.add(Dropout(0.2))\n",
    "\n",
    "# model.add(Dense(time_steps, activation = 'relu'))\n",
    "# model.add(Dropout(0.2))\n",
    "\n",
    "model.add(Dense(output_num))\n",
    "\n",
    "apt = tf.keras.optimizers.Adam(lr=learn_rate, decay=decay_rate)\n",
    "model.compile(optimizer=apt, loss='mse') \n",
    "callback = EarlyStopping(monitor='val_loss', patience=10,verbose=1,mode='auto')\n"
   ]
  },
  {
   "cell_type": "code",
   "execution_count": 31,
   "metadata": {},
   "outputs": [],
   "source": [
    "# model 1\n",
    "\n",
    "model = Sequential() # most common\n",
    "model.add(LSTM(cell_unit, input_shape = (time_num,features_num), activation = 'relu')) \n",
    "model.add(Dropout(0.2))\n",
    "model.add(Dense(1))\n",
    "\n",
    "apt = tf.keras.optimizers.Adam(lr=learn_rate, decay=decay_rate)\n",
    "model.compile(optimizer=apt, loss='mse') \n",
    "callback = EarlyStopping(monitor='loss', patience=10,verbose=1,mode='auto')"
   ]
  },
  {
   "cell_type": "code",
   "execution_count": 71,
   "metadata": {},
   "outputs": [
    {
     "name": "stdout",
     "output_type": "stream",
     "text": [
      "Train on 935 samples, validate on 312 samples\n",
      "Epoch 1/500\n",
      "935/935 [==============================] - 2s 2ms/step - loss: 0.4456 - val_loss: 2.1163\n",
      "Epoch 2/500\n",
      "935/935 [==============================] - 0s 442us/step - loss: 0.2528 - val_loss: 1.2213\n",
      "Epoch 3/500\n",
      "935/935 [==============================] - 0s 441us/step - loss: 0.0851 - val_loss: 0.2214\n",
      "Epoch 4/500\n",
      "935/935 [==============================] - 0s 461us/step - loss: 0.0117 - val_loss: 7.8362\n",
      "Epoch 5/500\n",
      "935/935 [==============================] - 0s 488us/step - loss: 0.0102 - val_loss: 2.1066\n",
      "Epoch 6/500\n",
      "935/935 [==============================] - 0s 447us/step - loss: 0.0098 - val_loss: 10.6620\n",
      "Epoch 7/500\n",
      "935/935 [==============================] - 0s 521us/step - loss: 0.0104 - val_loss: 1.2383\n",
      "Epoch 8/500\n",
      "935/935 [==============================] - 1s 601us/step - loss: 0.0082 - val_loss: 9.6622\n",
      "Epoch 9/500\n",
      "935/935 [==============================] - 0s 495us/step - loss: 0.0093 - val_loss: 1.2765\n",
      "Epoch 10/500\n",
      "935/935 [==============================] - 0s 415us/step - loss: 0.0075 - val_loss: 7.8326\n",
      "Epoch 11/500\n",
      "935/935 [==============================] - 0s 491us/step - loss: 0.0088 - val_loss: 1.0953\n",
      "Epoch 12/500\n",
      "935/935 [==============================] - 0s 439us/step - loss: 0.0070 - val_loss: 5.9893\n",
      "Epoch 13/500\n",
      "935/935 [==============================] - 0s 430us/step - loss: 0.0083 - val_loss: 0.8928\n",
      "Epoch 00013: early stopping\n"
     ]
    }
   ],
   "source": [
    "history = model.fit(data_train,result_train, epochs = train_epochs, validation_data=(data_test,result_test),shuffle=False,callbacks =[callback])"
   ]
  },
  {
   "cell_type": "code",
   "execution_count": 72,
   "metadata": {},
   "outputs": [],
   "source": [
    "predictions = model.predict([data_test])\n",
    "predictions = np.array(predictions)\n",
    "real = result_test\n"
   ]
  },
  {
   "cell_type": "code",
   "execution_count": 83,
   "metadata": {},
   "outputs": [
    {
     "name": "stdout",
     "output_type": "stream",
     "text": [
      "[[0.]\n",
      " [0.]\n",
      " [0.]\n",
      " [0.]\n",
      " [0.]\n",
      " [0.]\n",
      " [0.]\n",
      " [0.]\n",
      " [0.]\n",
      " [0.]]\n",
      "\n",
      "0.5192307692307693\n"
     ]
    }
   ],
   "source": [
    "pred = predictions-real\n",
    "pred[pred>=0]=1\n",
    "pred[pred<0]=0 \n",
    "print(pred[:10])\n",
    "print()\n",
    "\n",
    "t = len(pred)\n",
    "val = np.array(val)\n",
    "test_val = val[train_size:]\n",
    "countTrue = 0\n",
    "for i in range(t):\n",
    "    if pred[i][0] == test_val[i]:\n",
    "        countTrue +=1\n",
    "print(countTrue/t)"
   ]
  },
  {
   "cell_type": "code",
   "execution_count": 62,
   "metadata": {},
   "outputs": [
    {
     "data": {
      "image/png": "[encoded data removed]",
      "text/plain": [
       "<Figure size 432x288 with 1 Axes>"
      ]
     },
     "metadata": {
      "needs_background": "light"
     },
     "output_type": "display_data"
    }
   ],
   "source": [
    "plt.plot(predictions,color='green')\n",
    "plt.plot(real,color='red')\n",
    "plt.ylabel(\"price\")\n",
    "plt.xlabel(\"time\")\n",
    "\n",
    "plt.show()\n",
    "\n"
   ]
  },
  {
   "cell_type": "code",
   "execution_count": null,
   "metadata": {},
   "outputs": [],
   "source": [
    "# error\n",
    "plt.plot((predictions-real)/(max(real)-min(real)),color='black')\n",
    "plt.ylabel(\"error\")\n",
    "plt.xlabel(\"time\")\n",
    "\n",
    "plt.show()\n",
    "print(real)"
   ]
  }
 ],
 "metadata": {
  "kernelspec": {
   "display_name": "Python 3",
   "language": "python",
   "name": "python3"
  },
  "language_info": {
   "codemirror_mode": {
    "name": "ipython",
    "version": 3
   },
   "file_extension": ".py",
   "mimetype": "text/x-python",
   "name": "python",
   "nbconvert_exporter": "python",
   "pygments_lexer": "ipython3",
   "version": "3.6.8"
  }
 },
 "nbformat": 4,
 "nbformat_minor": 1
}
