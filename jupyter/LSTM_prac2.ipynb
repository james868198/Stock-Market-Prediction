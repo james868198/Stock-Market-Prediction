{
 "cells": [
  {
   "cell_type": "code",
   "execution_count": 1,
   "metadata": {},
   "outputs": [],
   "source": [
    "import numpy as np\n",
    "import matplotlib.pyplot as plt\n",
    "import random\n",
    "\n",
    "n = 1000\n",
    "time_unit = 20\n",
    "X = []\n",
    "Y = []\n",
    "for i in range(n):\n",
    "    X.append([20*np.sin(i)+10*random.random(),20*np.cos(i)+15*random.random()])\n",
    "    Y.append(10*np.sin(i)+30*np.cos(i)+11*random.random())\n",
    "\n",
    "    \n",
    "result = np.array(Y)\n",
    "inp = np.array(X)\n",
    "del Y\n",
    "del X\n",
    "\n",
    "# plt.plot(inp)\n",
    "# plt.plot(result)\n",
    "# plt.plot\n"
   ]
  },
  {
   "cell_type": "code",
   "execution_count": 2,
   "metadata": {},
   "outputs": [],
   "source": [
    "def processData(data,lb):\n",
    "    X = []\n",
    "    for i in range(len(data)-lb):\n",
    "        xVal = data[i:(i+lb)]\n",
    "        X.append(xVal)\n",
    "    return np.array(X)\n",
    "data = processData(inp,time_unit)\n",
    "data_train,data_test = data[:int(data.shape[0]*0.80)],data[int(data.shape[0]*0.80):]\n",
    "result_train,result_test = result[:int(data.shape[0]*0.80)],result[int(data.shape[0]*0.80):data.shape[0]]\n",
    "data"
   ]
  },
  {
   "cell_type": "code",
   "execution_count": 6,
   "metadata": {},
   "outputs": [
    {
     "name": "stdout",
     "output_type": "stream",
     "text": [
      "Train on 784 samples, validate on 196 samples\n",
      "Epoch 1/100\n",
      "784/784 [==============================] - 5s 7ms/step - loss: 445.5701 - val_loss: 379.9747\n",
      "Epoch 2/100\n",
      "784/784 [==============================] - 1s 2ms/step - loss: 314.4357 - val_loss: 154.0277\n",
      "Epoch 3/100\n",
      "784/784 [==============================] - 1s 2ms/step - loss: 146.3480 - val_loss: 54.6704\n",
      "Epoch 4/100\n",
      "784/784 [==============================] - 1s 2ms/step - loss: 134.8064 - val_loss: 50.8757\n",
      "Epoch 5/100\n",
      "784/784 [==============================] - 1s 2ms/step - loss: 106.6171 - val_loss: 54.0359\n",
      "Epoch 6/100\n",
      "784/784 [==============================] - 1s 2ms/step - loss: 90.4409 - val_loss: 52.7753\n",
      "Epoch 7/100\n",
      "784/784 [==============================] - 1s 2ms/step - loss: 92.1456 - val_loss: 48.4952\n",
      "Epoch 8/100\n",
      "784/784 [==============================] - 2s 2ms/step - loss: 88.3928 - val_loss: 42.7752\n",
      "Epoch 9/100\n",
      "784/784 [==============================] - 1s 2ms/step - loss: 76.6416 - val_loss: 41.0912\n",
      "Epoch 10/100\n",
      "784/784 [==============================] - 1s 2ms/step - loss: 73.1317 - val_loss: 44.4996\n",
      "Epoch 11/100\n",
      "784/784 [==============================] - 1s 2ms/step - loss: 74.8048 - val_loss: 45.6600\n",
      "Epoch 12/100\n",
      "784/784 [==============================] - 1s 2ms/step - loss: 80.5978 - val_loss: 41.7609\n",
      "Epoch 13/100\n",
      "784/784 [==============================] - 1s 2ms/step - loss: 70.3545 - val_loss: 37.4898\n",
      "Epoch 14/100\n",
      "784/784 [==============================] - 1s 2ms/step - loss: 65.4409 - val_loss: 31.8063\n",
      "Epoch 15/100\n",
      "784/784 [==============================] - 2s 2ms/step - loss: 69.3670 - val_loss: 34.0342\n",
      "Epoch 16/100\n",
      "784/784 [==============================] - 1s 2ms/step - loss: 66.5631 - val_loss: 32.2593\n",
      "Epoch 17/100\n",
      "784/784 [==============================] - 1s 2ms/step - loss: 69.5416 - val_loss: 31.2823\n",
      "Epoch 18/100\n",
      "784/784 [==============================] - 1s 2ms/step - loss: 64.5225 - val_loss: 29.6254\n",
      "Epoch 19/100\n",
      "784/784 [==============================] - 1s 2ms/step - loss: 64.5244 - val_loss: 35.0087\n",
      "Epoch 20/100\n",
      "784/784 [==============================] - 1s 2ms/step - loss: 65.3722 - val_loss: 34.3865\n",
      "Epoch 21/100\n",
      "784/784 [==============================] - 1s 2ms/step - loss: 54.8234 - val_loss: 30.4771\n",
      "Epoch 22/100\n",
      "784/784 [==============================] - 1s 2ms/step - loss: 61.5237 - val_loss: 38.1850\n",
      "Epoch 23/100\n",
      "784/784 [==============================] - 1s 2ms/step - loss: 57.0600 - val_loss: 39.8125\n",
      "Epoch 24/100\n",
      "784/784 [==============================] - 2s 2ms/step - loss: 53.9081 - val_loss: 39.2513\n",
      "Epoch 25/100\n",
      "784/784 [==============================] - 2s 2ms/step - loss: 57.2793 - val_loss: 38.3721\n",
      "Epoch 26/100\n",
      "784/784 [==============================] - 2s 2ms/step - loss: 52.6602 - val_loss: 37.2771\n",
      "Epoch 27/100\n",
      "224/784 [=======>......................] - ETA: 1s - loss: 60.9380"
     ]
    },
    {
     "ename": "KeyboardInterrupt",
     "evalue": "",
     "output_type": "error",
     "traceback": [
      "\u001b[0;31m--------------------------------------------------------------\u001b[0m",
      "\u001b[0;31mKeyboardInterrupt\u001b[0m            Traceback (most recent call last)",
      "\u001b[0;32m<ipython-input-6-fdc15f265474>\u001b[0m in \u001b[0;36m<module>\u001b[0;34m\u001b[0m\n\u001b[1;32m     18\u001b[0m \u001b[0;31m# print(result_train.shape)\u001b[0m\u001b[0;34m\u001b[0m\u001b[0;34m\u001b[0m\u001b[0;34m\u001b[0m\u001b[0m\n\u001b[1;32m     19\u001b[0m \u001b[0;31m# print(result_test.shape)\u001b[0m\u001b[0;34m\u001b[0m\u001b[0;34m\u001b[0m\u001b[0;34m\u001b[0m\u001b[0m\n\u001b[0;32m---> 20\u001b[0;31m \u001b[0mhistory\u001b[0m \u001b[0;34m=\u001b[0m \u001b[0mmodel\u001b[0m\u001b[0;34m.\u001b[0m\u001b[0mfit\u001b[0m\u001b[0;34m(\u001b[0m\u001b[0mdata_train\u001b[0m\u001b[0;34m,\u001b[0m\u001b[0mresult_train\u001b[0m\u001b[0;34m,\u001b[0m \u001b[0mepochs\u001b[0m \u001b[0;34m=\u001b[0m \u001b[0;36m100\u001b[0m\u001b[0;34m,\u001b[0m \u001b[0mvalidation_data\u001b[0m\u001b[0;34m=\u001b[0m\u001b[0;34m(\u001b[0m\u001b[0mdata_test\u001b[0m\u001b[0;34m,\u001b[0m\u001b[0mresult_test\u001b[0m\u001b[0;34m)\u001b[0m\u001b[0;34m,\u001b[0m\u001b[0mshuffle\u001b[0m\u001b[0;34m=\u001b[0m\u001b[0;32mFalse\u001b[0m\u001b[0;34m)\u001b[0m\u001b[0;34m\u001b[0m\u001b[0;34m\u001b[0m\u001b[0m\n\u001b[0m",
      "\u001b[0;32m//anaconda/envs/stock/lib/python3.6/site-packages/tensorflow/python/keras/engine/training.py\u001b[0m in \u001b[0;36mfit\u001b[0;34m(self, x, y, batch_size, epochs, verbose, callbacks, validation_split, validation_data, shuffle, class_weight, sample_weight, initial_epoch, steps_per_epoch, validation_steps, max_queue_size, workers, use_multiprocessing, **kwargs)\u001b[0m\n\u001b[1;32m   1637\u001b[0m           \u001b[0minitial_epoch\u001b[0m\u001b[0;34m=\u001b[0m\u001b[0minitial_epoch\u001b[0m\u001b[0;34m,\u001b[0m\u001b[0;34m\u001b[0m\u001b[0;34m\u001b[0m\u001b[0m\n\u001b[1;32m   1638\u001b[0m           \u001b[0msteps_per_epoch\u001b[0m\u001b[0;34m=\u001b[0m\u001b[0msteps_per_epoch\u001b[0m\u001b[0;34m,\u001b[0m\u001b[0;34m\u001b[0m\u001b[0;34m\u001b[0m\u001b[0m\n\u001b[0;32m-> 1639\u001b[0;31m           validation_steps=validation_steps)\n\u001b[0m\u001b[1;32m   1640\u001b[0m \u001b[0;34m\u001b[0m\u001b[0m\n\u001b[1;32m   1641\u001b[0m   def evaluate(self,\n",
      "\u001b[0;32m//anaconda/envs/stock/lib/python3.6/site-packages/tensorflow/python/keras/engine/training_arrays.py\u001b[0m in \u001b[0;36mfit_loop\u001b[0;34m(model, inputs, targets, sample_weights, batch_size, epochs, verbose, callbacks, val_inputs, val_targets, val_sample_weights, shuffle, initial_epoch, steps_per_epoch, validation_steps)\u001b[0m\n\u001b[1;32m    213\u001b[0m           \u001b[0mins_batch\u001b[0m\u001b[0;34m[\u001b[0m\u001b[0mi\u001b[0m\u001b[0;34m]\u001b[0m \u001b[0;34m=\u001b[0m \u001b[0mins_batch\u001b[0m\u001b[0;34m[\u001b[0m\u001b[0mi\u001b[0m\u001b[0;34m]\u001b[0m\u001b[0;34m.\u001b[0m\u001b[0mtoarray\u001b[0m\u001b[0;34m(\u001b[0m\u001b[0;34m)\u001b[0m\u001b[0;34m\u001b[0m\u001b[0;34m\u001b[0m\u001b[0m\n\u001b[1;32m    214\u001b[0m \u001b[0;34m\u001b[0m\u001b[0m\n\u001b[0;32m--> 215\u001b[0;31m         \u001b[0mouts\u001b[0m \u001b[0;34m=\u001b[0m \u001b[0mf\u001b[0m\u001b[0;34m(\u001b[0m\u001b[0mins_batch\u001b[0m\u001b[0;34m)\u001b[0m\u001b[0;34m\u001b[0m\u001b[0;34m\u001b[0m\u001b[0m\n\u001b[0m\u001b[1;32m    216\u001b[0m         \u001b[0;32mif\u001b[0m \u001b[0;32mnot\u001b[0m \u001b[0misinstance\u001b[0m\u001b[0;34m(\u001b[0m\u001b[0mouts\u001b[0m\u001b[0;34m,\u001b[0m \u001b[0mlist\u001b[0m\u001b[0;34m)\u001b[0m\u001b[0;34m:\u001b[0m\u001b[0;34m\u001b[0m\u001b[0;34m\u001b[0m\u001b[0m\n\u001b[1;32m    217\u001b[0m           \u001b[0mouts\u001b[0m \u001b[0;34m=\u001b[0m \u001b[0;34m[\u001b[0m\u001b[0mouts\u001b[0m\u001b[0;34m]\u001b[0m\u001b[0;34m\u001b[0m\u001b[0;34m\u001b[0m\u001b[0m\n",
      "\u001b[0;32m//anaconda/envs/stock/lib/python3.6/site-packages/tensorflow/python/keras/backend.py\u001b[0m in \u001b[0;36m__call__\u001b[0;34m(self, inputs)\u001b[0m\n\u001b[1;32m   2984\u001b[0m \u001b[0;34m\u001b[0m\u001b[0m\n\u001b[1;32m   2985\u001b[0m     fetched = self._callable_fn(*array_vals,\n\u001b[0;32m-> 2986\u001b[0;31m                                 run_metadata=self.run_metadata)\n\u001b[0m\u001b[1;32m   2987\u001b[0m     \u001b[0mself\u001b[0m\u001b[0;34m.\u001b[0m\u001b[0m_call_fetch_callbacks\u001b[0m\u001b[0;34m(\u001b[0m\u001b[0mfetched\u001b[0m\u001b[0;34m[\u001b[0m\u001b[0;34m-\u001b[0m\u001b[0mlen\u001b[0m\u001b[0;34m(\u001b[0m\u001b[0mself\u001b[0m\u001b[0;34m.\u001b[0m\u001b[0m_fetches\u001b[0m\u001b[0;34m)\u001b[0m\u001b[0;34m:\u001b[0m\u001b[0;34m]\u001b[0m\u001b[0;34m)\u001b[0m\u001b[0;34m\u001b[0m\u001b[0;34m\u001b[0m\u001b[0m\n\u001b[1;32m   2988\u001b[0m     \u001b[0;32mreturn\u001b[0m \u001b[0mfetched\u001b[0m\u001b[0;34m[\u001b[0m\u001b[0;34m:\u001b[0m\u001b[0mlen\u001b[0m\u001b[0;34m(\u001b[0m\u001b[0mself\u001b[0m\u001b[0;34m.\u001b[0m\u001b[0moutputs\u001b[0m\u001b[0;34m)\u001b[0m\u001b[0;34m]\u001b[0m\u001b[0;34m\u001b[0m\u001b[0;34m\u001b[0m\u001b[0m\n",
      "\u001b[0;32m//anaconda/envs/stock/lib/python3.6/site-packages/tensorflow/python/client/session.py\u001b[0m in \u001b[0;36m__call__\u001b[0;34m(self, *args, **kwargs)\u001b[0m\n\u001b[1;32m   1437\u001b[0m           ret = tf_session.TF_SessionRunCallable(\n\u001b[1;32m   1438\u001b[0m               \u001b[0mself\u001b[0m\u001b[0;34m.\u001b[0m\u001b[0m_session\u001b[0m\u001b[0;34m.\u001b[0m\u001b[0m_session\u001b[0m\u001b[0;34m,\u001b[0m \u001b[0mself\u001b[0m\u001b[0;34m.\u001b[0m\u001b[0m_handle\u001b[0m\u001b[0;34m,\u001b[0m \u001b[0margs\u001b[0m\u001b[0;34m,\u001b[0m \u001b[0mstatus\u001b[0m\u001b[0;34m,\u001b[0m\u001b[0;34m\u001b[0m\u001b[0;34m\u001b[0m\u001b[0m\n\u001b[0;32m-> 1439\u001b[0;31m               run_metadata_ptr)\n\u001b[0m\u001b[1;32m   1440\u001b[0m         \u001b[0;32mif\u001b[0m \u001b[0mrun_metadata\u001b[0m\u001b[0;34m:\u001b[0m\u001b[0;34m\u001b[0m\u001b[0;34m\u001b[0m\u001b[0m\n\u001b[1;32m   1441\u001b[0m           \u001b[0mproto_data\u001b[0m \u001b[0;34m=\u001b[0m \u001b[0mtf_session\u001b[0m\u001b[0;34m.\u001b[0m\u001b[0mTF_GetBuffer\u001b[0m\u001b[0;34m(\u001b[0m\u001b[0mrun_metadata_ptr\u001b[0m\u001b[0;34m)\u001b[0m\u001b[0;34m\u001b[0m\u001b[0;34m\u001b[0m\u001b[0m\n",
      "\u001b[0;31mKeyboardInterrupt\u001b[0m: "
     ]
    }
   ],
   "source": [
    "# define/select model\n",
    "import tensorflow as tf\n",
    "from tensorflow.keras.models import Sequential\n",
    "from tensorflow.keras.layers import Dense, Dropout, LSTM\n",
    "from tensorflow.keras.callbacks import EarlyStopping\n",
    "\n",
    "model = Sequential()\n",
    "model.add(LSTM(16, input_shape=(time_unit, 2), activation = 'relu'))\n",
    "model.add(Dropout(0.2))\n",
    "model.add(Dense(time_unit, activation = 'relu'))\n",
    "model.add(Dropout(0.2))\n",
    "model.add(Dense(1))\n",
    "\n",
    "apt = tf.keras.optimizers.Adam(lr=1e-3, decay=1e-5)\n",
    "model.compile(optimizer=apt, loss='mse') \n",
    "# print(data_train.shape)\n",
    "# print(data_test.shape)\n",
    "# print(result_train.shape)\n",
    "# print(result_test.shape)\n",
    "history = model.fit(data_train,result_train, epochs = 100, validation_data=(data_test,result_test),shuffle=False)"
   ]
  },
  {
   "cell_type": "code",
   "execution_count": null,
   "metadata": {},
   "outputs": [],
   "source": [
    "predictions = model.predict([data_test])\n",
    "print(predictions[0]) #the result is the con\n",
    "print(result_test[0]) #the result is the con"
   ]
  },
  {
   "cell_type": "code",
   "execution_count": null,
   "metadata": {},
   "outputs": [],
   "source": []
  },
  {
   "cell_type": "code",
   "execution_count": null,
   "metadata": {},
   "outputs": [],
   "source": []
  }
 ],
 "metadata": {
  "anaconda-cloud": {},
  "kernelspec": {
   "display_name": "Python 3",
   "language": "python",
   "name": "python3"
  },
  "language_info": {
   "codemirror_mode": {
    "name": "ipython",
    "version": 3
   },
   "file_extension": ".py",
   "mimetype": "text/x-python",
   "name": "python",
   "nbconvert_exporter": "python",
   "pygments_lexer": "ipython3",
   "version": "3.7.1"
  }
 },
 "nbformat": 4,
 "nbformat_minor": 1
}
