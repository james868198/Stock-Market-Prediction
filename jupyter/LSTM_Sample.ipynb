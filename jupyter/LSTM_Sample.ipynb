{
 "cells": [
  {
   "cell_type": "code",
   "execution_count": 2,
   "metadata": {},
   "outputs": [],
   "source": [
    "import numpy as np # linear algebra\n",
    "import pandas as pd # data processing, CSV file I/O (e.g. pd.read_csv)\n",
    "import tensorflow as tf\n",
    "from tensorflow.keras.models import Sequential\n",
    "from tensorflow.keras.layers import Dense, Dropout, LSTM\n",
    "from tensorflow.keras.utils import normalize\n",
    "from tensorflow.keras.callbacks import EarlyStopping\n",
    "from sklearn.preprocessing import MinMaxScaler, scale\n",
    "import matplotlib.pyplot as plt\n"
   ]
  },
  {
   "cell_type": "code",
   "execution_count": 3,
   "metadata": {},
   "outputs": [],
   "source": [
    "google = pd.read_csv('../data/transactions/Tech/GOOG.csv')  \n",
    "google = google.drop(['Date'],axis=1)\n",
    "google=google.astype('float64')\n",
    "cl = np.array(google['Low'])\n",
    "scl = MinMaxScaler()\n",
    "#Scale the data\n",
    "cl = cl.reshape(cl.shape[0],1)\n",
    "cl = scl.fit_transform(cl)\n"
   ]
  },
  {
   "cell_type": "code",
   "execution_count": 4,
   "metadata": {},
   "outputs": [
    {
     "name": "stdout",
     "output_type": "stream",
     "text": [
      "1000\n",
      "250\n",
      "1000\n",
      "250\n"
     ]
    }
   ],
   "source": [
    "def processData(data,lb):\n",
    "    X,Y = [],[]\n",
    "    for i in range(len(data)-lb-1):\n",
    "        X.append(data[i:(i+lb),0])\n",
    "        Y.append(data[(i+lb),0])\n",
    "    return np.array(X),np.array(Y)\n",
    "X,y = processData(cl,7)\n",
    "train_size = int(X.shape[0]*0.80)\n",
    "X_train,X_test = X[:int(X.shape[0]*0.80)],X[int(X.shape[0]*0.80):]\n",
    "y_train,y_test = y[:int(y.shape[0]*0.80)],y[int(y.shape[0]*0.80):]\n",
    "print(X_train.shape[0])\n",
    "print(X_test.shape[0])\n",
    "print(y_train.shape[0])\n",
    "print(y_test.shape[0])"
   ]
  },
  {
   "cell_type": "code",
   "execution_count": null,
   "metadata": {},
   "outputs": [
    {
     "name": "stdout",
     "output_type": "stream",
     "text": [
      "Train on 1000 samples, validate on 250 samples\n",
      "Epoch 1/300\n",
      "1000/1000 [==============================] - 7s 7ms/step - loss: 0.0038 - val_loss: 0.0024\n",
      "Epoch 2/300\n",
      "1000/1000 [==============================] - 3s 3ms/step - loss: 0.0032 - val_loss: 0.0020\n",
      "Epoch 3/300\n",
      "1000/1000 [==============================] - 3s 3ms/step - loss: 0.0047 - val_loss: 0.0032\n",
      "Epoch 4/300\n",
      "1000/1000 [==============================] - 3s 3ms/step - loss: 0.0010 - val_loss: 0.0023\n",
      "Epoch 5/300\n",
      "1000/1000 [==============================] - 3s 3ms/step - loss: 7.4557e-04 - val_loss: 0.0018\n",
      "Epoch 6/300\n",
      "1000/1000 [==============================] - 3s 3ms/step - loss: 4.4291e-04 - val_loss: 0.0018\n",
      "Epoch 7/300\n",
      "1000/1000 [==============================] - 3s 3ms/step - loss: 4.5778e-04 - val_loss: 0.0017\n",
      "Epoch 8/300\n",
      "1000/1000 [==============================] - 3s 3ms/step - loss: 4.9811e-04 - val_loss: 0.0017\n",
      "Epoch 9/300\n",
      "1000/1000 [==============================] - 3s 3ms/step - loss: 6.9527e-04 - val_loss: 0.0017\n",
      "Epoch 10/300\n",
      "1000/1000 [==============================] - 3s 3ms/step - loss: 0.0010 - val_loss: 0.0021\n",
      "Epoch 11/300\n",
      "1000/1000 [==============================] - 3s 3ms/step - loss: 0.0011 - val_loss: 0.0022\n",
      "Epoch 12/300\n",
      "1000/1000 [==============================] - 3s 3ms/step - loss: 7.5346e-04 - val_loss: 0.0018\n",
      "Epoch 13/300\n",
      "1000/1000 [==============================] - 3s 3ms/step - loss: 5.0207e-04 - val_loss: 0.0016\n",
      "Epoch 14/300\n",
      "1000/1000 [==============================] - 3s 3ms/step - loss: 5.2459e-04 - val_loss: 0.0016\n",
      "Epoch 15/300\n",
      "1000/1000 [==============================] - 3s 3ms/step - loss: 6.0281e-04 - val_loss: 0.0016\n",
      "Epoch 16/300\n",
      "1000/1000 [==============================] - 3s 3ms/step - loss: 7.2815e-04 - val_loss: 0.0016\n",
      "Epoch 17/300\n",
      "1000/1000 [==============================] - 4s 4ms/step - loss: 8.3276e-04 - val_loss: 0.0017\n",
      "Epoch 18/300\n",
      " 608/1000 [=================>............] - ETA: 1s - loss: 9.3646e-04"
     ]
    }
   ],
   "source": [
    "# basic model\n",
    "\n",
    "model = Sequential() # most common\n",
    "model.add(LSTM(256, input_shape = (7,1))) \n",
    "model.add(Dense(1))\n",
    "X_train = X_train.reshape((X_train.shape[0],X_train.shape[1],1))\n",
    "X_test = X_test.reshape((X_test.shape[0],X_test.shape[1],1))\n",
    "model.compile(optimizer='adam', loss='mse') \n",
    "callback = EarlyStopping(monitor='val_loss', patience=10,verbose=1,mode='auto')\n",
    "history = model.fit(X_train,y_train,epochs=300,validation_data=(X_test,y_test),shuffle=False,callbacks=[callback])"
   ]
  },
  {
   "cell_type": "code",
   "execution_count": null,
   "metadata": {},
   "outputs": [],
   "source": [
    "plt.plot(history.history['loss'],color=\"blue\")\n",
    "plt.plot(history.history['val_loss'],color=\"green\")\n",
    "plt.show()"
   ]
  },
  {
   "cell_type": "code",
   "execution_count": 43,
   "metadata": {},
   "outputs": [
    {
     "data": {
      "image/png": "[encoded data removed]",
      "text/plain": [
       "<Figure size 432x288 with 1 Axes>"
      ]
     },
     "metadata": {
      "needs_background": "light"
     },
     "output_type": "display_data"
    }
   ],
   "source": [
    "Xt = model.predict(X_test)\n",
    "\n",
    "real = scl.inverse_transform(y_test.reshape(-1,1))\n",
    "prediction = scl.inverse_transform(Xt)\n",
    "plt.plot(real,color=\"blue\")\n",
    "plt.plot(prediction,color=\"orange\")\n",
    "plt.show()"
   ]
  },
  {
   "cell_type": "code",
   "execution_count": 46,
   "metadata": {},
   "outputs": [],
   "source": [
    "def precentage(prediction, real,stock, n):\n",
    "    pred = prediction -real\n",
    "    pred[pred>=0]=1\n",
    "    pred[pred<0]=0 \n",
    "    print(pred[:100])\n",
    "    t = len(pred)\n",
    "    value = pd.Series(stock['Close']-stock['Open'].shift(1), index=stock.index) \n",
    "    value = value.bfill() \n",
    "    value[value>=0]=1\n",
    "    value[value<0]=0 \n",
    "    val = np.array(value)\n",
    "    test_val = val[n:]\n",
    "    countTrue = 0\n",
    "    for i in range(t):\n",
    "        if pred[i][0] == test_val[i]:\n",
    "            countTrue +=1\n",
    "    return countTrue/t"
   ]
  },
  {
   "cell_type": "code",
   "execution_count": 47,
   "metadata": {},
   "outputs": [
    {
     "name": "stdout",
     "output_type": "stream",
     "text": [
      "[[1.]\n",
      " [0.]\n",
      " [0.]\n",
      " [0.]\n",
      " [0.]\n",
      " [1.]\n",
      " [1.]\n",
      " [0.]\n",
      " [1.]\n",
      " [0.]\n",
      " [1.]\n",
      " [1.]\n",
      " [0.]\n",
      " [0.]\n",
      " [0.]\n",
      " [0.]\n",
      " [0.]\n",
      " [0.]\n",
      " [0.]\n",
      " [0.]\n",
      " [1.]\n",
      " [0.]\n",
      " [1.]\n",
      " [1.]\n",
      " [1.]\n",
      " [0.]\n",
      " [1.]\n",
      " [1.]\n",
      " [0.]\n",
      " [0.]\n",
      " [1.]\n",
      " [0.]\n",
      " [0.]\n",
      " [0.]\n",
      " [0.]\n",
      " [1.]\n",
      " [1.]\n",
      " [0.]\n",
      " [1.]\n",
      " [1.]\n",
      " [1.]\n",
      " [1.]\n",
      " [0.]\n",
      " [0.]\n",
      " [1.]\n",
      " [0.]\n",
      " [0.]\n",
      " [0.]\n",
      " [1.]\n",
      " [0.]\n",
      " [0.]\n",
      " [1.]\n",
      " [1.]\n",
      " [1.]\n",
      " [1.]\n",
      " [1.]\n",
      " [1.]\n",
      " [1.]\n",
      " [1.]\n",
      " [1.]\n",
      " [1.]\n",
      " [1.]\n",
      " [1.]\n",
      " [1.]\n",
      " [0.]\n",
      " [1.]\n",
      " [1.]\n",
      " [1.]\n",
      " [1.]\n",
      " [1.]\n",
      " [1.]\n",
      " [1.]\n",
      " [0.]\n",
      " [0.]\n",
      " [1.]\n",
      " [1.]\n",
      " [1.]\n",
      " [1.]\n",
      " [1.]\n",
      " [1.]\n",
      " [1.]\n",
      " [1.]\n",
      " [1.]\n",
      " [1.]\n",
      " [1.]\n",
      " [1.]\n",
      " [0.]\n",
      " [1.]\n",
      " [1.]\n",
      " [0.]\n",
      " [0.]\n",
      " [0.]\n",
      " [1.]\n",
      " [1.]\n",
      " [1.]\n",
      " [1.]\n",
      " [1.]\n",
      " [1.]\n",
      " [1.]\n",
      " [1.]]\n"
     ]
    },
    {
     "data": {
      "text/plain": [
       "0.516"
      ]
     },
     "execution_count": 47,
     "metadata": {},
     "output_type": "execute_result"
    }
   ],
   "source": [
    "precentage(prediction, real,google, train_size)"
   ]
  },
  {
   "cell_type": "code",
   "execution_count": null,
   "metadata": {},
   "outputs": [],
   "source": []
  }
 ],
 "metadata": {
  "kernelspec": {
   "display_name": "Python 3",
   "language": "python",
   "name": "python3"
  },
  "language_info": {
   "codemirror_mode": {
    "name": "ipython",
    "version": 3
   },
   "file_extension": ".py",
   "mimetype": "text/x-python",
   "name": "python",
   "nbconvert_exporter": "python",
   "pygments_lexer": "ipython3",
   "version": "3.6.8"
  }
 },
 "nbformat": 4,
 "nbformat_minor": 2
}
