{
 "cells": [
  {
   "cell_type": "code",
   "execution_count": 1,
   "metadata": {},
   "outputs": [],
   "source": [
    "import pandas as pd\n",
    "from sklearn import svm, preprocessing"
   ]
  },
  {
   "cell_type": "code",
   "execution_count": 2,
   "metadata": {},
   "outputs": [
    {
     "name": "stdout",
     "output_type": "stream",
     "text": [
      "         Date   Open       High        Low      Close  Adj Close  Volume\n",
      "0  2014-01-02  24.67  24.730000  24.639999  24.709999  18.036598   31900\n",
      "1  2014-01-03  24.74  24.750000  24.709999  24.730000  18.051197   41900\n",
      "2  2014-01-06  24.75  24.889999  24.750000  24.799999  18.102293   66900\n",
      "3  2014-01-07  24.82  24.860001  24.750000  24.750000  18.065794   35200\n",
      "4  2014-01-08  24.75  24.780001  24.709999  24.730000  18.051197   39600\n"
     ]
    }
   ],
   "source": [
    "AAPL = pd.read_csv('data/transactions/Tech/AAPL.csv')  \n",
    "GOOG = pd.read_csv('data/transactions/Tech/GOOG.csv')  \n",
    "FB = pd.read_csv('data/transactions/Tech/FB.csv')  \n",
    "MSFT = pd.read_csv('data/transactions/Tech/MSFT.csv')  \n",
    "AMZN = pd.read_csv('data/transactions/Tech/AMZN.csv') \n",
    "\n",
    "ALK = pd.read_csv('data/transactions/Airline/ALK.csv')  \n",
    "DAL = pd.read_csv('data/transactions/Airline/DAL.csv')  \n",
    "LUV = pd.read_csv('data/transactions/Airline/LUV.csv')  \n",
    "RYAAY = pd.read_csv('data/transactions/Airline/RYAAY.csv')  \n",
    "SAVE = pd.read_csv('data/transactions/Airline/SAVE.csv') \n",
    "\n",
    "JACK = pd.read_csv('data/transactions/Fastfood/JACK.csv')  \n",
    "MCD = pd.read_csv('data/transactions/Fastfood/MCD.csv')  \n",
    "TACO = pd.read_csv('data/transactions/Fastfood/TACO.csv')  \n",
    "WEN = pd.read_csv('data/transactions/Fastfood/WEN.csv')  \n",
    "YUM = pd.read_csv('data/transactions/Fastfood/YUM.csv') \n",
    "\n",
    "GS = pd.read_csv('data/transactions/Finance/GS.csv')  \n",
    "JPM = pd.read_csv('data/transactions/Finance/JPM.csv')  \n",
    "MER = pd.read_csv('data/transactions/Finance/MER-PK.csv')  \n",
    "MS = pd.read_csv('data/transactions/Finance/MS.csv')  \n",
    "WFC = pd.read_csv('data/transactions/Finance/WFC.csv') \n",
    "\n",
    "COST = pd.read_csv('data/transactions/Retailer/COST.csv')  \n",
    "HD = pd.read_csv('data/transactions/Retailer/HD.csv')  \n",
    "KR = pd.read_csv('data/transactions/Retailer/KR.csv')  \n",
    "TGT = pd.read_csv('data/transactions/Retailer/TGT.csv')  \n",
    "WMT = pd.read_csv('data/transactions/Retailer/WMT.csv') \n",
    "df_CB=MER  \n",
    "print (df_CB.head())"
   ]
  },
  {
   "cell_type": "code",
   "execution_count": 3,
   "metadata": {},
   "outputs": [],
   "source": [
    "df_CB = df_CB.set_index('Date')\n",
    "df_CB = df_CB.sort_index()"
   ]
  },
  {
   "cell_type": "code",
   "execution_count": 4,
   "metadata": {},
   "outputs": [
    {
     "name": "stdout",
     "output_type": "stream",
     "text": [
      "             Open       High        Low      Close  Adj Close  Volume\n",
      "Date                                                                 \n",
      "2014-01-02  24.67  24.730000  24.639999  24.709999  18.036598   31900\n",
      "2014-01-03  24.74  24.750000  24.709999  24.730000  18.051197   41900\n",
      "2014-01-06  24.75  24.889999  24.750000  24.799999  18.102293   66900\n",
      "2014-01-07  24.82  24.860001  24.750000  24.750000  18.065794   35200\n",
      "2014-01-08  24.75  24.780001  24.709999  24.730000  18.051197   39600\n"
     ]
    }
   ],
   "source": [
    "print (df_CB.head())"
   ]
  },
  {
   "cell_type": "code",
   "execution_count": 5,
   "metadata": {},
   "outputs": [
    {
     "name": "stdout",
     "output_type": "stream",
     "text": [
      "             Open       High        Low      Close  Adj Close  Volume  Value\n",
      "Date                                                                        \n",
      "2014-01-02  24.67  24.730000  24.639999  24.709999  18.036598   31900    1.0\n",
      "2014-01-03  24.74  24.750000  24.709999  24.730000  18.051197   41900    1.0\n",
      "2014-01-06  24.75  24.889999  24.750000  24.799999  18.102293   66900    1.0\n",
      "2014-01-07  24.82  24.860001  24.750000  24.750000  18.065794   35200    0.0\n",
      "2014-01-08  24.75  24.780001  24.709999  24.730000  18.051197   39600    0.0\n"
     ]
    }
   ],
   "source": [
    "value = pd.Series(df_CB['Close']-df_CB['Close'].shift(1), index=df_CB.index) \n",
    "value = value.bfill() \n",
    "value[value>=0]=1\n",
    "value[value<0]=0 \n",
    "df_CB['Value']=value\n",
    "print (df_CB.head())"
   ]
  },
  {
   "cell_type": "code",
   "execution_count": 6,
   "metadata": {},
   "outputs": [],
   "source": [
    "df_CB=df_CB.fillna(method='bfill')\n",
    "df_CB=df_CB.astype('float64')"
   ]
  },
  {
   "cell_type": "code",
   "execution_count": 7,
   "metadata": {},
   "outputs": [
    {
     "name": "stdout",
     "output_type": "stream",
     "text": [
      "             Open       High        Low      Close  Adj Close   Volume  Value\n",
      "Date                                                                         \n",
      "2014-01-02  24.67  24.730000  24.639999  24.709999  18.036598  31900.0    1.0\n",
      "2014-01-03  24.74  24.750000  24.709999  24.730000  18.051197  41900.0    1.0\n",
      "2014-01-06  24.75  24.889999  24.750000  24.799999  18.102293  66900.0    1.0\n",
      "2014-01-07  24.82  24.860001  24.750000  24.750000  18.065794  35200.0    0.0\n",
      "2014-01-08  24.75  24.780001  24.709999  24.730000  18.051197  39600.0    0.0\n"
     ]
    }
   ],
   "source": [
    "print (df_CB.head())"
   ]
  },
  {
   "cell_type": "code",
   "execution_count": 8,
   "metadata": {},
   "outputs": [],
   "source": [
    "L=len(df_CB)\n",
    "train=int(L*0.8)\n",
    "total_predict_data=L-train"
   ]
  },
  {
   "cell_type": "code",
   "execution_count": 9,
   "metadata": {},
   "outputs": [
    {
     "name": "stdout",
     "output_type": "stream",
     "text": [
      "                 Open       High        Low      Close  Adj Close   Volume\n",
      "Date                                                                      \n",
      "2014-01-02  24.670000  24.730000  24.639999  24.709999  18.036598  31900.0\n",
      "2014-01-03  24.740000  24.750000  24.709999  24.730000  18.051197  41900.0\n",
      "2014-01-06  24.750000  24.889999  24.750000  24.799999  18.102293  66900.0\n",
      "2014-01-07  24.820000  24.860001  24.750000  24.750000  18.065794  35200.0\n",
      "2014-01-08  24.750000  24.780001  24.709999  24.730000  18.051197  39600.0\n",
      "2014-01-09  24.760000  24.799999  24.730000  24.770000  18.080397  31300.0\n",
      "2014-01-10  24.760000  24.860001  24.760000  24.820000  18.116888  39600.0\n",
      "2014-01-13  24.820000  24.840000  24.719999  24.730000  18.051197  45700.0\n",
      "2014-01-14  24.820000  24.830000  24.750000  24.770000  18.080397  84800.0\n",
      "2014-01-15  24.809999  24.860001  24.760000  24.850000  18.138790  56900.0\n",
      "[[-3.1450448  -3.04194615 -3.10804579 -3.00474765 -1.8074693  -0.40704406]\n",
      " [-2.90797247 -2.97658382 -2.86825762 -2.93787595 -1.8006476  -0.25337569]\n",
      " [-2.87410499 -2.51905079 -2.73123238 -2.70384001 -1.77677189  0.13079524]\n",
      " [-2.63703265 -2.61708775 -2.73123238 -2.87100758 -1.79382684 -0.35633349]\n",
      " [-2.87410499 -2.87853706 -2.86825762 -2.93787595 -1.8006476  -0.28871941]\n",
      " [-2.84023751 -2.81318127 -2.79974329 -2.80413922 -1.78700327 -0.41626416]\n",
      " [-2.84023751 -2.61708775 -2.69697693 -2.63696831 -1.76995207 -0.28871941]\n",
      " [-2.63703265 -2.68245334 -2.83400217 -2.93787595 -1.8006476  -0.19498171]\n",
      " [-2.63703265 -2.71513451 -2.73123238 -2.80413922 -1.78700327  0.40586162]\n",
      " [-2.67090351 -2.61708775 -2.69697693 -2.53666576 -1.75971788 -0.02287313]]\n"
     ]
    }
   ],
   "source": [
    "df_CB_X=df_CB.drop(['Value'],axis=1)\n",
    "print(df_CB_X[:10])\n",
    "df_CB_X=preprocessing.scale(df_CB_X)\n",
    "print(df_CB_X[:10])\n"
   ]
  },
  {
   "cell_type": "code",
   "execution_count": 10,
   "metadata": {},
   "outputs": [],
   "source": [
    "correct = 0 \n",
    "train_original=train \n",
    "while train<L: \n",
    "    Data_train=df_CB_X[train-train_original:train] \n",
    "    value_train = value[train-train_original:train] \n",
    "    Data_predict=df_CB_X[train:train+1] \n",
    "    value_real = value[train:train+1] \n",
    "\n",
    "    classifier = svm.SVC(C=1.0, kernel='poly', gamma='scale') \n",
    "    #classifier = svm.SVC(kernel='linear') \n",
    "    #classifier = svm.SVC(C=1.0,kernel='rbf') \n",
    "    classifier.fit(Data_train,value_train) \n",
    "    value_predict=classifier.predict(Data_predict) \n",
    "    #print(\"value_real=%d value_predict=%d\"%(value_real[0],value_predict)) \n",
    "    \n",
    "    if(value_real[0]==int(value_predict)):\n",
    "        correct=correct+1\n",
    "    train = train+1"
   ]
  },
  {
   "cell_type": "code",
   "execution_count": 11,
   "metadata": {},
   "outputs": [
    {
     "name": "stdout",
     "output_type": "stream",
     "text": [
      "Correct=71.43%\n"
     ]
    }
   ],
   "source": [
    "correct=correct*100/total_predict_data\n",
    "print(\"Correct=%.2f%%\"%correct)"
   ]
  },
  {
   "cell_type": "code",
   "execution_count": null,
   "metadata": {},
   "outputs": [],
   "source": []
  }
 ],
 "metadata": {
  "kernelspec": {
   "display_name": "Python 3",
   "language": "python",
   "name": "python3"
  },
  "language_info": {
   "codemirror_mode": {
    "name": "ipython",
    "version": 3
   },
   "file_extension": ".py",
   "mimetype": "text/x-python",
   "name": "python",
   "nbconvert_exporter": "python",
   "pygments_lexer": "ipython3",
   "version": "3.6.8"
  }
 },
 "nbformat": 4,
 "nbformat_minor": 2
}
