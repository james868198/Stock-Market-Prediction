{
 "cells": [
  {
   "cell_type": "code",
   "execution_count": 1,
   "metadata": {},
   "outputs": [],
   "source": [
    "import numpy as np # linear algebra\n",
    "import pandas as pd # data processing, CSV file I/O (e.g. pd.read_csv)\n",
    "import tensorflow as tf\n",
    "from tensorflow.keras.models import Sequential\n",
    "from tensorflow.keras.layers import Dense, Dropout, LSTM\n",
    "from tensorflow.keras.utils import normalize\n",
    "from tensorflow.keras.callbacks import EarlyStopping\n",
    "from sklearn.preprocessing import MinMaxScaler, scale\n",
    "import matplotlib.pyplot as plt\n",
    "\n",
    "\n",
    "\n",
    "\n"
   ]
  },
  {
   "cell_type": "code",
   "execution_count": 6,
   "metadata": {},
   "outputs": [],
   "source": [
    "def category2(data, threshold):\n",
    "    top = threshold*(max(data)-min(data))+sum(data)/len(data)\n",
    "    bottom = -1*threshold*(max(data)-min(data))+sum(data)/len(data)\n",
    "    print(top,bottom)\n",
    "    new_data = []\n",
    "    for item in data:\n",
    "        if item >= top:\n",
    "            new_data.append(1)\n",
    "        elif item < bottom:\n",
    "            new_data.append(-1)\n",
    "        else:\n",
    "            new_data.append(0)\n",
    "    return new_data\n",
    "def category(data):\n",
    "    data[data>=0] = 1\n",
    "    data[data<0] = -1\n",
    "    return data\n",
    "    \n",
    "def precentage(prediction, real):\n",
    "    pred = prediction -real\n",
    "    pred = np.squeeze(prediction, axis=1)\n",
    "    pred = category(pred)\n",
    "   \n",
    "    return pred\n",
    "def realPrecentage(stock):\n",
    "    value = pd.Series(stock['Close']-stock['Close'].shift(1), index=stock.index) \n",
    "    value = value.bfill() \n",
    "    value = np.array(value) \n",
    "    val = category(value)\n",
    "   \n",
    "\n",
    "    return val\n",
    "def compare(pred, val):\n",
    "    #print(pred[:1000])\n",
    "    #print(val[:1000])\n",
    "    t = len(pred)\n",
    "    countTrue = 0\n",
    "    for i in range(t):\n",
    "        if pred[i] == val[i]:\n",
    "            countTrue +=1\n",
    "    return countTrue/t"
   ]
  },
  {
   "cell_type": "code",
   "execution_count": 2,
   "metadata": {},
   "outputs": [],
   "source": [
    "AAPL = pd.read_csv('../data/transactions/Tech/AAPL.csv')  \n",
    "GOOG = pd.read_csv('../data/transactions/Tech/GOOG.csv')  \n",
    "FB = pd.read_csv('../data/transactions/Tech/FB.csv')  \n",
    "MSFT = pd.read_csv('../data/transactions/Tech/MSFT.csv')  \n",
    "AMZN = pd.read_csv('../data/transactions/Tech/AMZN.csv') \n",
    "\n",
    "ALK = pd.read_csv('../data/transactions/Airline/ALK.csv')  \n",
    "DAL = pd.read_csv('../data/transactions/Airline/DAL.csv')  \n",
    "LUV = pd.read_csv('../data/transactions/Airline/LUV.csv')  \n",
    "RYAAY = pd.read_csv('../data/transactions/Airline/RYAAY.csv')  \n",
    "SAVE = pd.read_csv('../data/transactions/Airline/SAVE.csv') \n",
    "\n",
    "JACK = pd.read_csv('../data/transactions/Fastfood/JACK.csv')  \n",
    "MCD = pd.read_csv('../data/transactions/Fastfood/MCD.csv')  \n",
    "TACO = pd.read_csv('../data/transactions/Fastfood/TACO.csv')  \n",
    "WEN = pd.read_csv('../data/transactions/Fastfood/WEN.csv')  \n",
    "YUM = pd.read_csv('../data/transactions/Fastfood/YUM.csv') \n",
    "\n",
    "GS = pd.read_csv('../data/transactions/Finance/GS.csv')  \n",
    "JPM = pd.read_csv('../data/transactions/Finance/JPM.csv')  \n",
    "MER = pd.read_csv('../data/transactions/Finance/MER-PK.csv')  \n",
    "MS = pd.read_csv('../data/transactions/Finance/MS.csv')  \n",
    "WFC = pd.read_csv('../data/transactions/Finance/WFC.csv') \n",
    "\n",
    "COST = pd.read_csv('../data/transactions/Retailer/COST.csv')  \n",
    "HD = pd.read_csv('../data/transactions/Retailer/HD.csv')  \n",
    "KR = pd.read_csv('../data/transactions/Retailer/KR.csv')  \n",
    "TGT = pd.read_csv('../data/transactions/Retailer/TGT.csv')  \n",
    "WMT = pd.read_csv('../data/transactions/Retailer/WMT.csv') "
   ]
  },
  {
   "cell_type": "code",
   "execution_count": 11,
   "metadata": {},
   "outputs": [
    {
     "name": "stdout",
     "output_type": "stream",
     "text": [
      "[[-1.]\n",
      " [-1.]\n",
      " [ 1.]\n",
      " ...\n",
      " [ 1.]\n",
      " [-1.]\n",
      " [ 1.]]\n"
     ]
    }
   ],
   "source": [
    "def getStock(stock):\n",
    "    date = pd.to_datetime(stock[\"Date\"])\n",
    "\n",
    "    stock = stock.drop(['Date'],axis=1)\n",
    "    stock= stock.astype('float64')\n",
    "    #stock['month'] = month = np.array(date.dt.month)\n",
    "    #stock['day'] = month = np.array(date.dt.day)\n",
    "    value = pd.Series(stock['Close']-stock['Close'].shift(1), index=stock.index) \n",
    "    value = value.bfill() \n",
    "    value = np.array(value) \n",
    "    value = category(value)\n",
    "    return scale(stock), value\n",
    "\n",
    "def processData(stock, input_unit,output_unit):\n",
    "    data,result = getStock(stock)\n",
    "    X,Y = [],[]\n",
    "    for i in range(len(data)-input_unit-output_unit):\n",
    "        X.append(data[i:(i+input_unit)])\n",
    "        temp = [result[j+i+input_unit] for j in range(output_unit)]\n",
    "        Y.append(temp)\n",
    "    return np.array(X),np.array(Y)\n",
    "\n",
    "X,y = processData(AAPL,10,1)\n",
    "print(y)\n",
    "train_size = int(X.shape[0]*0.80)\n",
    "X_train,X_test = X[:int(X.shape[0]*0.80)],X[int(X.shape[0]*0.80):]\n",
    "y_train,y_test = y[:int(y.shape[0]*0.80)],y[int(y.shape[0]*0.80):]\n",
    "\n",
    "\n"
   ]
  },
  {
   "cell_type": "code",
   "execution_count": 12,
   "metadata": {},
   "outputs": [
    {
     "name": "stdout",
     "output_type": "stream",
     "text": [
      "Train on 997 samples, validate on 250 samples\n",
      "Epoch 1/300\n",
      "997/997 [==============================] - 2s 2ms/step - loss: 1.0035 - val_loss: 1.0232\n",
      "Epoch 2/300\n",
      "997/997 [==============================] - 1s 1ms/step - loss: 1.0235 - val_loss: 1.0077\n",
      "Epoch 3/300\n",
      "997/997 [==============================] - 1s 1ms/step - loss: 1.0088 - val_loss: 1.0079\n",
      "Epoch 4/300\n",
      "997/997 [==============================] - 1s 1ms/step - loss: 1.0065 - val_loss: 1.0208\n",
      "Epoch 5/300\n",
      "997/997 [==============================] - 1s 1ms/step - loss: 0.9970 - val_loss: 1.0011\n",
      "Epoch 6/300\n",
      "997/997 [==============================] - 1s 1ms/step - loss: 0.9971 - val_loss: 1.0017\n",
      "Epoch 7/300\n",
      "997/997 [==============================] - 1s 1ms/step - loss: 0.9965 - val_loss: 1.0006\n",
      "Epoch 8/300\n",
      "997/997 [==============================] - 1s 1ms/step - loss: 0.9967 - val_loss: 1.0015\n",
      "Epoch 9/300\n",
      "997/997 [==============================] - 1s 1ms/step - loss: 0.9962 - val_loss: 1.0027\n",
      "Epoch 10/300\n",
      "997/997 [==============================] - 1s 1ms/step - loss: 0.9956 - val_loss: 1.0069\n",
      "Epoch 11/300\n",
      "997/997 [==============================] - 1s 1ms/step - loss: 0.9953 - val_loss: 1.0153\n",
      "Epoch 12/300\n",
      "997/997 [==============================] - 1s 1ms/step - loss: 0.9946 - val_loss: 1.0298\n",
      "Epoch 13/300\n",
      "997/997 [==============================] - 1s 1ms/step - loss: 0.9938 - val_loss: 1.0454\n",
      "Epoch 14/300\n",
      "997/997 [==============================] - 1s 1ms/step - loss: 0.9975 - val_loss: 1.0033\n",
      "Epoch 15/300\n",
      "997/997 [==============================] - 1s 1ms/step - loss: 0.9965 - val_loss: 1.0068\n",
      "Epoch 16/300\n",
      "997/997 [==============================] - 1s 1ms/step - loss: 0.9978 - val_loss: 1.0305\n",
      "Epoch 17/300\n",
      "997/997 [==============================] - 1s 1ms/step - loss: 0.9947 - val_loss: 1.0058\n",
      "Epoch 00017: early stopping\n"
     ]
    }
   ],
   "source": [
    "# basic model\n",
    "\n",
    "model = Sequential() # most common\n",
    "model.add(LSTM(256, input_shape = (10,6))) \n",
    "model.add(Dense(1))\n",
    "\n",
    "model.compile(optimizer='adam', loss='mse') \n",
    "callback = EarlyStopping(monitor='val_loss', patience=10,verbose=1,mode='auto')\n",
    "history = model.fit(X_train,y_train,epochs=300,validation_data=(X_test,y_test),shuffle=False,callbacks=[callback])"
   ]
  },
  {
   "cell_type": "code",
   "execution_count": 13,
   "metadata": {},
   "outputs": [
    {
     "data": {
      "image/png": "[encoded data removed]",
      "text/plain": [
       "<Figure size 432x288 with 1 Axes>"
      ]
     },
     "metadata": {
      "needs_background": "light"
     },
     "output_type": "display_data"
    }
   ],
   "source": [
    "plt.plot(history.history['loss'],color=\"blue\")\n",
    "plt.plot(history.history['val_loss'],color=\"green\")\n",
    "plt.show()"
   ]
  },
  {
   "cell_type": "code",
   "execution_count": 14,
   "metadata": {},
   "outputs": [],
   "source": [
    "test = WEN \n",
    "\n",
    "#ALK = pd.read_csv('../data/transactions/Airline/ALK.csv')  \n",
    "#DAL = pd.read_csv('../data/transactions/Airline/DAL.csv')  \n",
    "#LUV = pd.read_csv('../data/transactions/Airline/LUV.csv')  \n",
    "#RYAAY = pd.read_csv('../data/transactions/Airline/RYAAY.csv')  \n",
    "#SAVE = pd.read_csv('../data/transactions/Airline/SAVE.csv') \n",
    "\n",
    "#JACK = pd.read_csv('../data/transactions/Fastfood/JACK.csv')  \n",
    "#MCD = pd.read_csv('../data/transactions/Fastfood/MCD.csv')  \n",
    "#TACO = pd.read_csv('../data/transactions/Fastfood/TACO.csv')  \n",
    "#WEN = pd.read_csv('../data/transactions/Fastfood/WEN.csv')  \n",
    "#YUM = pd.read_csv('../data/transactions/Fastfood/YUM.csv') \n",
    "\n",
    "#GS = pd.read_csv('../data/transactions/Finance/GS.csv')  \n",
    "#JPM = pd.read_csv('../data/transactions/Finance/JPM.csv')  \n",
    "#MER = pd.read_csv('../data/transactions/Finance/MER-PK.csv')  \n",
    "#MS = pd.read_csv('../data/transactions/Finance/MS.csv')  \n",
    "#WFC = pd.read_csv('../data/transactions/Finance/WFC.csv') \n",
    "\n",
    "#COST = pd.read_csv('../data/transactions/Retailer/COST.csv')  \n",
    "#HD = pd.read_csv('../data/transactions/Retailer/HD.csv')  \n",
    "#KR = pd.read_csv('../data/transactions/Retailer/KR.csv')  \n",
    "#TGT = pd.read_csv('../data/transactions/Retailer/TGT.csv')  \n",
    "#WMT = pd.read_csv('../data/transactions/Retailer/WMT.csv') "
   ]
  },
  {
   "cell_type": "code",
   "execution_count": 15,
   "metadata": {},
   "outputs": [
    {
     "name": "stdout",
     "output_type": "stream",
     "text": [
      "[[ 1.]\n",
      " [-1.]\n",
      " [ 1.]\n",
      " ...\n",
      " [ 1.]\n",
      " [-1.]\n",
      " [ 1.]]\n"
     ]
    },
    {
     "data": {
      "image/png": "[encoded data removed]",
      "text/plain": [
       "<Figure size 432x288 with 1 Axes>"
      ]
     },
     "metadata": {
      "needs_background": "light"
     },
     "output_type": "display_data"
    }
   ],
   "source": [
    "inputg,outputg = processData(test,10,1)\n",
    "print(outputg)\n",
    "\n",
    "prediction = model.predict(inputg)\n",
    "\n",
    "real = outputg\n",
    "plt.plot(real,color=\"blue\")\n",
    "plt.plot(prediction,color=\"orange\")\n",
    "plt.show()\n",
    "\n",
    "#print(prediction)\n",
    "#print(real)"
   ]
  },
  {
   "cell_type": "code",
   "execution_count": 284,
   "metadata": {},
   "outputs": [
    {
     "data": {
      "text/plain": [
       "0.5020048115477145"
      ]
     },
     "execution_count": 284,
     "metadata": {},
     "output_type": "execute_result"
    }
   ],
   "source": [
    "\n",
    "\n",
    "pred = precentage(prediction, real)\n",
    "val = realPrecentage(test)\n",
    "\n",
    "compare(pred, val)"
   ]
  },
  {
   "cell_type": "code",
   "execution_count": null,
   "metadata": {},
   "outputs": [],
   "source": []
  },
  {
   "cell_type": "code",
   "execution_count": null,
   "metadata": {},
   "outputs": [],
   "source": []
  }
 ],
 "metadata": {
  "kernelspec": {
   "display_name": "Python 3",
   "language": "python",
   "name": "python3"
  },
  "language_info": {
   "codemirror_mode": {
    "name": "ipython",
    "version": 3
   },
   "file_extension": ".py",
   "mimetype": "text/x-python",
   "name": "python",
   "nbconvert_exporter": "python",
   "pygments_lexer": "ipython3",
   "version": "3.6.8"
  }
 },
 "nbformat": 4,
 "nbformat_minor": 2
}
