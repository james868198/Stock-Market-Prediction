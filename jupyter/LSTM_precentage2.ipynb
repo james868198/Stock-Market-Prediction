{
 "cells": [
  {
   "cell_type": "code",
   "execution_count": 1,
   "metadata": {},
   "outputs": [
    {
     "ename": "ModuleNotFoundError",
     "evalue": "No module named 'tensorflow'",
     "output_type": "error",
     "traceback": [
      "\u001b[0;31m---------------------------------------------------------------------\u001b[0m",
      "\u001b[0;31mModuleNotFoundError\u001b[0m                 Traceback (most recent call last)",
      "\u001b[0;32m<ipython-input-1-10664fd702fc>\u001b[0m in \u001b[0;36m<module>\u001b[0;34m\u001b[0m\n\u001b[1;32m      1\u001b[0m \u001b[0;32mimport\u001b[0m \u001b[0mnumpy\u001b[0m \u001b[0;32mas\u001b[0m \u001b[0mnp\u001b[0m \u001b[0;31m# linear algebra\u001b[0m\u001b[0;34m\u001b[0m\u001b[0;34m\u001b[0m\u001b[0m\n\u001b[1;32m      2\u001b[0m \u001b[0;32mimport\u001b[0m \u001b[0mpandas\u001b[0m \u001b[0;32mas\u001b[0m \u001b[0mpd\u001b[0m \u001b[0;31m# data processing, CSV file I/O (e.g. pd.read_csv)\u001b[0m\u001b[0;34m\u001b[0m\u001b[0;34m\u001b[0m\u001b[0m\n\u001b[0;32m----> 3\u001b[0;31m \u001b[0;32mimport\u001b[0m \u001b[0mtensorflow\u001b[0m \u001b[0;32mas\u001b[0m \u001b[0mtf\u001b[0m\u001b[0;34m\u001b[0m\u001b[0;34m\u001b[0m\u001b[0m\n\u001b[0m\u001b[1;32m      4\u001b[0m \u001b[0;32mfrom\u001b[0m \u001b[0mtensorflow\u001b[0m\u001b[0;34m.\u001b[0m\u001b[0mkeras\u001b[0m\u001b[0;34m.\u001b[0m\u001b[0mmodels\u001b[0m \u001b[0;32mimport\u001b[0m \u001b[0mSequential\u001b[0m\u001b[0;34m\u001b[0m\u001b[0;34m\u001b[0m\u001b[0m\n\u001b[1;32m      5\u001b[0m \u001b[0;32mfrom\u001b[0m \u001b[0mtensorflow\u001b[0m\u001b[0;34m.\u001b[0m\u001b[0mkeras\u001b[0m\u001b[0;34m.\u001b[0m\u001b[0mlayers\u001b[0m \u001b[0;32mimport\u001b[0m \u001b[0mDense\u001b[0m\u001b[0;34m,\u001b[0m \u001b[0mDropout\u001b[0m\u001b[0;34m,\u001b[0m \u001b[0mLSTM\u001b[0m\u001b[0;34m\u001b[0m\u001b[0;34m\u001b[0m\u001b[0m\n",
      "\u001b[0;31mModuleNotFoundError\u001b[0m: No module named 'tensorflow'"
     ]
    }
   ],
   "source": [
    "import numpy as np # linear algebra\n",
    "import pandas as pd # data processing, CSV file I/O (e.g. pd.read_csv)\n",
    "import tensorflow as tf\n",
    "from tensorflow.keras.models import Sequential\n",
    "from tensorflow.keras.layers import Dense, Dropout, LSTM\n",
    "from tensorflow.keras.utils import normalize\n",
    "from tensorflow.keras.callbacks import EarlyStopping\n",
    "from sklearn.preprocessing import MinMaxScaler, scale\n",
    "import matplotlib.pyplot as plt\n",
    "\n",
    "\n",
    "\n",
    "\n"
   ]
  },
  {
   "cell_type": "code",
   "execution_count": 4,
   "metadata": {},
   "outputs": [],
   "source": [
    "AAPL = pd.read_csv('../data/transactions/Tech/AAPL.csv')  \n",
    "GOOG = pd.read_csv('../data/transactions/Tech/GOOG.csv')  \n",
    "FB = pd.read_csv('../data/transactions/Tech/FB.csv')  \n",
    "MSFT = pd.read_csv('../data/transactions/Tech/MSFT.csv')  \n",
    "AMZN = pd.read_csv('../data/transactions/Tech/AMZN.csv') \n",
    "\n",
    "ALK = pd.read_csv('../data/transactions/Airline/ALK.csv')  \n",
    "DAL = pd.read_csv('../data/transactions/Airline/DAL.csv')  \n",
    "LUV = pd.read_csv('../data/transactions/Airline/LUV.csv')  \n",
    "RYAAY = pd.read_csv('../data/transactions/Airline/RYAAY.csv')  \n",
    "SAVE = pd.read_csv('../data/transactions/Airline/SAVE.csv') \n",
    "\n",
    "JACK = pd.read_csv('../data/transactions/Fastfood/JACK.csv')  \n",
    "MCD = pd.read_csv('../data/transactions/Fastfood/MCD.csv')  \n",
    "TACO = pd.read_csv('../data/transactions/Fastfood/TACO.csv')  \n",
    "WEN = pd.read_csv('../data/transactions/Fastfood/WEN.csv')  \n",
    "YUM = pd.read_csv('../data/transactions/Fastfood/YUM.csv') \n",
    "\n",
    "GS = pd.read_csv('../data/transactions/Finance/GS.csv')  \n",
    "JPM = pd.read_csv('../data/transactions/Finance/JPM.csv')  \n",
    "MER = pd.read_csv('../data/transactions/Finance/MER-PK.csv')  \n",
    "MS = pd.read_csv('../data/transactions/Finance/MS.csv')  \n",
    "WFC = pd.read_csv('../data/transactions/Finance/WFC.csv') \n",
    "\n",
    "COST = pd.read_csv('../data/transactions/Retailer/COST.csv')  \n",
    "HD = pd.read_csv('../data/transactions/Retailer/HD.csv')  \n",
    "KR = pd.read_csv('../data/transactions/Retailer/KR.csv')  \n",
    "TGT = pd.read_csv('../data/transactions/Retailer/TGT.csv')  \n",
    "WMT = pd.read_csv('../data/transactions/Retailer/WMT.csv') "
   ]
  },
  {
   "cell_type": "code",
   "execution_count": 5,
   "metadata": {},
   "outputs": [
    {
     "ename": "NameError",
     "evalue": "name 'scale' is not defined",
     "output_type": "error",
     "traceback": [
      "\u001b[0;31m---------------------------------------------------------------------\u001b[0m",
      "\u001b[0;31mNameError\u001b[0m                           Traceback (most recent call last)",
      "\u001b[0;32m<ipython-input-5-81ae9be3ba72>\u001b[0m in \u001b[0;36m<module>\u001b[0;34m\u001b[0m\n\u001b[1;32m     21\u001b[0m     \u001b[0;32mreturn\u001b[0m \u001b[0mnp\u001b[0m\u001b[0;34m.\u001b[0m\u001b[0marray\u001b[0m\u001b[0;34m(\u001b[0m\u001b[0mX\u001b[0m\u001b[0;34m)\u001b[0m\u001b[0;34m,\u001b[0m\u001b[0mnp\u001b[0m\u001b[0;34m.\u001b[0m\u001b[0marray\u001b[0m\u001b[0;34m(\u001b[0m\u001b[0mY\u001b[0m\u001b[0;34m)\u001b[0m\u001b[0;34m\u001b[0m\u001b[0;34m\u001b[0m\u001b[0m\n\u001b[1;32m     22\u001b[0m \u001b[0;34m\u001b[0m\u001b[0m\n\u001b[0;32m---> 23\u001b[0;31m \u001b[0mX\u001b[0m\u001b[0;34m,\u001b[0m\u001b[0my\u001b[0m \u001b[0;34m=\u001b[0m \u001b[0mprocessData\u001b[0m\u001b[0;34m(\u001b[0m\u001b[0mAAPL\u001b[0m\u001b[0;34m,\u001b[0m\u001b[0;36m10\u001b[0m\u001b[0;34m,\u001b[0m\u001b[0;36m1\u001b[0m\u001b[0;34m)\u001b[0m\u001b[0;34m\u001b[0m\u001b[0;34m\u001b[0m\u001b[0m\n\u001b[0m\u001b[1;32m     24\u001b[0m \u001b[0mtrain_size\u001b[0m \u001b[0;34m=\u001b[0m \u001b[0mint\u001b[0m\u001b[0;34m(\u001b[0m\u001b[0mX\u001b[0m\u001b[0;34m.\u001b[0m\u001b[0mshape\u001b[0m\u001b[0;34m[\u001b[0m\u001b[0;36m0\u001b[0m\u001b[0;34m]\u001b[0m\u001b[0;34m*\u001b[0m\u001b[0;36m0.80\u001b[0m\u001b[0;34m)\u001b[0m\u001b[0;34m\u001b[0m\u001b[0;34m\u001b[0m\u001b[0m\n\u001b[1;32m     25\u001b[0m \u001b[0mX_train\u001b[0m\u001b[0;34m,\u001b[0m\u001b[0mX_test\u001b[0m \u001b[0;34m=\u001b[0m \u001b[0mX\u001b[0m\u001b[0;34m[\u001b[0m\u001b[0;34m:\u001b[0m\u001b[0mint\u001b[0m\u001b[0;34m(\u001b[0m\u001b[0mX\u001b[0m\u001b[0;34m.\u001b[0m\u001b[0mshape\u001b[0m\u001b[0;34m[\u001b[0m\u001b[0;36m0\u001b[0m\u001b[0;34m]\u001b[0m\u001b[0;34m*\u001b[0m\u001b[0;36m0.80\u001b[0m\u001b[0;34m)\u001b[0m\u001b[0;34m]\u001b[0m\u001b[0;34m,\u001b[0m\u001b[0mX\u001b[0m\u001b[0;34m[\u001b[0m\u001b[0mint\u001b[0m\u001b[0;34m(\u001b[0m\u001b[0mX\u001b[0m\u001b[0;34m.\u001b[0m\u001b[0mshape\u001b[0m\u001b[0;34m[\u001b[0m\u001b[0;36m0\u001b[0m\u001b[0;34m]\u001b[0m\u001b[0;34m*\u001b[0m\u001b[0;36m0.80\u001b[0m\u001b[0;34m)\u001b[0m\u001b[0;34m:\u001b[0m\u001b[0;34m]\u001b[0m\u001b[0;34m\u001b[0m\u001b[0;34m\u001b[0m\u001b[0m\n",
      "\u001b[0;32m<ipython-input-5-81ae9be3ba72>\u001b[0m in \u001b[0;36mprocessData\u001b[0;34m(stock, input_unit, output_unit)\u001b[0m\n\u001b[1;32m     13\u001b[0m \u001b[0;34m\u001b[0m\u001b[0m\n\u001b[1;32m     14\u001b[0m \u001b[0;32mdef\u001b[0m \u001b[0mprocessData\u001b[0m\u001b[0;34m(\u001b[0m\u001b[0mstock\u001b[0m\u001b[0;34m,\u001b[0m \u001b[0minput_unit\u001b[0m\u001b[0;34m,\u001b[0m\u001b[0moutput_unit\u001b[0m\u001b[0;34m)\u001b[0m\u001b[0;34m:\u001b[0m\u001b[0;34m\u001b[0m\u001b[0;34m\u001b[0m\u001b[0m\n\u001b[0;32m---> 15\u001b[0;31m     \u001b[0mdata\u001b[0m\u001b[0;34m,\u001b[0m\u001b[0mresult\u001b[0m \u001b[0;34m=\u001b[0m \u001b[0mgetStock\u001b[0m\u001b[0;34m(\u001b[0m\u001b[0mstock\u001b[0m\u001b[0;34m)\u001b[0m\u001b[0;34m\u001b[0m\u001b[0;34m\u001b[0m\u001b[0m\n\u001b[0m\u001b[1;32m     16\u001b[0m     \u001b[0mX\u001b[0m\u001b[0;34m,\u001b[0m\u001b[0mY\u001b[0m \u001b[0;34m=\u001b[0m \u001b[0;34m[\u001b[0m\u001b[0;34m]\u001b[0m\u001b[0;34m,\u001b[0m\u001b[0;34m[\u001b[0m\u001b[0;34m]\u001b[0m\u001b[0;34m\u001b[0m\u001b[0;34m\u001b[0m\u001b[0m\n\u001b[1;32m     17\u001b[0m     \u001b[0;32mfor\u001b[0m \u001b[0mi\u001b[0m \u001b[0;32min\u001b[0m \u001b[0mrange\u001b[0m\u001b[0;34m(\u001b[0m\u001b[0mlen\u001b[0m\u001b[0;34m(\u001b[0m\u001b[0mdata\u001b[0m\u001b[0;34m)\u001b[0m\u001b[0;34m-\u001b[0m\u001b[0minput_unit\u001b[0m\u001b[0;34m-\u001b[0m\u001b[0moutput_unit\u001b[0m\u001b[0;34m)\u001b[0m\u001b[0;34m:\u001b[0m\u001b[0;34m\u001b[0m\u001b[0;34m\u001b[0m\u001b[0m\n",
      "\u001b[0;32m<ipython-input-5-81ae9be3ba72>\u001b[0m in \u001b[0;36mgetStock\u001b[0;34m(stock)\u001b[0m\n\u001b[1;32m     10\u001b[0m     \u001b[0mvalue\u001b[0m \u001b[0;34m=\u001b[0m \u001b[0mnp\u001b[0m\u001b[0;34m.\u001b[0m\u001b[0marray\u001b[0m\u001b[0;34m(\u001b[0m\u001b[0mvalue\u001b[0m\u001b[0;34m)\u001b[0m\u001b[0;34m\u001b[0m\u001b[0;34m\u001b[0m\u001b[0m\n\u001b[1;32m     11\u001b[0m \u001b[0;34m\u001b[0m\u001b[0m\n\u001b[0;32m---> 12\u001b[0;31m     \u001b[0;32mreturn\u001b[0m \u001b[0mscale\u001b[0m\u001b[0;34m(\u001b[0m\u001b[0mstock\u001b[0m\u001b[0;34m)\u001b[0m\u001b[0;34m,\u001b[0m \u001b[0mvalue\u001b[0m\u001b[0;34m\u001b[0m\u001b[0;34m\u001b[0m\u001b[0m\n\u001b[0m\u001b[1;32m     13\u001b[0m \u001b[0;34m\u001b[0m\u001b[0m\n\u001b[1;32m     14\u001b[0m \u001b[0;32mdef\u001b[0m \u001b[0mprocessData\u001b[0m\u001b[0;34m(\u001b[0m\u001b[0mstock\u001b[0m\u001b[0;34m,\u001b[0m \u001b[0minput_unit\u001b[0m\u001b[0;34m,\u001b[0m\u001b[0moutput_unit\u001b[0m\u001b[0;34m)\u001b[0m\u001b[0;34m:\u001b[0m\u001b[0;34m\u001b[0m\u001b[0;34m\u001b[0m\u001b[0m\n",
      "\u001b[0;31mNameError\u001b[0m: name 'scale' is not defined"
     ]
    }
   ],
   "source": [
    "def getStock(stock):\n",
    "    date = pd.to_datetime(stock[\"Date\"])\n",
    "\n",
    "    stock = stock.drop(['Date'],axis=1)\n",
    "    stock= stock.astype('float64')\n",
    "    #stock['month'] = month = np.array(date.dt.month)\n",
    "    #stock['day'] = month = np.array(date.dt.day)\n",
    "    value = pd.Series(stock['Close']-stock['Close'].shift(1), index=stock.index) \n",
    "    value = value.bfill() \n",
    "    value = np.array(value) \n",
    "    \n",
    "    return scale(stock), value\n",
    "\n",
    "def processData(stock, input_unit,output_unit):\n",
    "    data,result = getStock(stock)\n",
    "    X,Y = [],[]\n",
    "    for i in range(len(data)-input_unit-output_unit):\n",
    "        X.append(data[i:(i+input_unit)])\n",
    "        temp = [result[j+i+input_unit] for j in range(output_unit)]\n",
    "        Y.append(temp)\n",
    "    return np.array(X),np.array(Y)\n",
    "\n",
    "X,y = processData(AAPL,10,1)\n",
    "train_size = int(X.shape[0]*0.80)\n",
    "X_train,X_test = X[:int(X.shape[0]*0.80)],X[int(X.shape[0]*0.80):]\n",
    "y_train,y_test = y[:int(y.shape[0]*0.80)],y[int(y.shape[0]*0.80):]\n",
    "\n",
    "\n"
   ]
  },
  {
   "cell_type": "code",
   "execution_count": 171,
   "metadata": {},
   "outputs": [
    {
     "name": "stdout",
     "output_type": "stream",
     "text": [
      "Train on 997 samples, validate on 250 samples\n",
      "Epoch 1/300\n",
      "997/997 [==============================] - 3s 3ms/step - loss: 0.1492 - val_loss: 0.0818\n",
      "Epoch 2/300\n",
      "997/997 [==============================] - 1s 1ms/step - loss: 0.0091 - val_loss: 0.0330\n",
      "Epoch 3/300\n",
      "997/997 [==============================] - 1s 1ms/step - loss: 0.0093 - val_loss: 0.1354\n",
      "Epoch 4/300\n",
      "997/997 [==============================] - 1s 1ms/step - loss: 0.0160 - val_loss: 0.0223\n",
      "Epoch 5/300\n",
      "997/997 [==============================] - 1s 1ms/step - loss: 0.0128 - val_loss: 0.1695\n",
      "Epoch 6/300\n",
      "997/997 [==============================] - 1s 1ms/step - loss: 0.0138 - val_loss: 0.0221\n",
      "Epoch 7/300\n",
      "997/997 [==============================] - 1s 1ms/step - loss: 0.0090 - val_loss: 0.0847\n",
      "Epoch 8/300\n",
      "997/997 [==============================] - 1s 1ms/step - loss: 0.0071 - val_loss: 0.0231\n",
      "Epoch 9/300\n",
      "997/997 [==============================] - 1s 1ms/step - loss: 0.0060 - val_loss: 0.0687\n",
      "Epoch 10/300\n",
      "997/997 [==============================] - 1s 1ms/step - loss: 0.0052 - val_loss: 0.0258\n",
      "Epoch 11/300\n",
      "997/997 [==============================] - 1s 1ms/step - loss: 0.0048 - val_loss: 0.0534\n",
      "Epoch 12/300\n",
      "997/997 [==============================] - 1s 1ms/step - loss: 0.0051 - val_loss: 0.0238\n",
      "Epoch 13/300\n",
      "997/997 [==============================] - 1s 1ms/step - loss: 0.0048 - val_loss: 0.0406\n",
      "Epoch 14/300\n",
      "997/997 [==============================] - 1s 1ms/step - loss: 0.0057 - val_loss: 0.0211\n",
      "Epoch 15/300\n",
      "997/997 [==============================] - 1s 1ms/step - loss: 0.0051 - val_loss: 0.0344\n",
      "Epoch 16/300\n",
      "997/997 [==============================] - 1s 1ms/step - loss: 0.0055 - val_loss: 0.0206\n",
      "Epoch 17/300\n",
      "997/997 [==============================] - 1s 1ms/step - loss: 0.0048 - val_loss: 0.0342\n",
      "Epoch 18/300\n",
      "997/997 [==============================] - 2s 2ms/step - loss: 0.0048 - val_loss: 0.0220\n",
      "Epoch 19/300\n",
      "997/997 [==============================] - 1s 1ms/step - loss: 0.0044 - val_loss: 0.0356\n",
      "Epoch 20/300\n",
      "997/997 [==============================] - 1s 1ms/step - loss: 0.0044 - val_loss: 0.0232\n",
      "Epoch 21/300\n",
      "997/997 [==============================] - 1s 1ms/step - loss: 0.0041 - val_loss: 0.0350\n",
      "Epoch 22/300\n",
      "997/997 [==============================] - 1s 1ms/step - loss: 0.0042 - val_loss: 0.0230\n",
      "Epoch 23/300\n",
      "997/997 [==============================] - 2s 2ms/step - loss: 0.0040 - val_loss: 0.0329\n",
      "Epoch 24/300\n",
      "997/997 [==============================] - 1s 1ms/step - loss: 0.0043 - val_loss: 0.0224\n",
      "Epoch 25/300\n",
      "997/997 [==============================] - 1s 1ms/step - loss: 0.0040 - val_loss: 0.0312\n",
      "Epoch 26/300\n",
      "997/997 [==============================] - 1s 1ms/step - loss: 0.0042 - val_loss: 0.0221\n",
      "Epoch 00026: early stopping\n"
     ]
    }
   ],
   "source": [
    "# basic model\n",
    "\n",
    "model = Sequential() # most common\n",
    "model.add(LSTM(256, input_shape = (10,6))) \n",
    "model.add(Dense(1))\n",
    "\n",
    "model.compile(optimizer='adam', loss='mse') \n",
    "callback = EarlyStopping(monitor='val_loss', patience=10,verbose=1,mode='auto')\n",
    "history = model.fit(X_train,y_train,epochs=300,validation_data=(X_test,y_test),shuffle=False,callbacks=[callback])"
   ]
  },
  {
   "cell_type": "code",
   "execution_count": 173,
   "metadata": {},
   "outputs": [
    {
     "data": {
      "image/png": "[encoded data removed]",
      "text/plain": [
       "<Figure size 432x288 with 1 Axes>"
      ]
     },
     "metadata": {
      "needs_background": "light"
     },
     "output_type": "display_data"
    }
   ],
   "source": [
    "plt.plot(history.history['loss'],color=\"blue\")\n",
    "plt.plot(history.history['val_loss'],color=\"green\")\n",
    "plt.show()"
   ]
  },
  {
   "cell_type": "code",
   "execution_count": 241,
   "metadata": {},
   "outputs": [],
   "source": [
    "def category2(data, threshold):\n",
    "    top = threshold*(max(data)-min(data))+sum(data)/len(data)\n",
    "    bottom = -1*threshold*(max(data)-min(data))+sum(data)/len(data)\n",
    "    print(top,bottom)\n",
    "    new_data = []\n",
    "    for item in data:\n",
    "        if item >= top:\n",
    "            new_data.append(1)\n",
    "        elif item < bottom:\n",
    "            new_data.append(-1)\n",
    "        else:\n",
    "            new_data.append(0)\n",
    "    return new_data\n",
    "def category(data):\n",
    "    data[data>=0] = 1\n",
    "    data[data<0] = -1\n",
    "    return data\n",
    "    \n",
    "def precentage(prediction, real):\n",
    "    pred = prediction -real\n",
    "    pred = np.squeeze(prediction, axis=1)\n",
    "    pred = category(pred)\n",
    "   \n",
    "    return pred\n",
    "def realPrecentage(stock):\n",
    "    value = pd.Series(stock['Close']-stock['Close'].shift(1), index=stock.index) \n",
    "    value = value.bfill() \n",
    "    value = np.array(value) \n",
    "    val = category(value)\n",
    "   \n",
    "\n",
    "    return val\n",
    "def compare(pred, val):\n",
    "    #print(pred[:1000])\n",
    "    #print(val[:1000])\n",
    "    t = len(pred)\n",
    "    countTrue = 0\n",
    "    for i in range(t):\n",
    "        if pred[i] == val[i]:\n",
    "            countTrue +=1\n",
    "    return countTrue/t"
   ]
  },
  {
   "cell_type": "code",
   "execution_count": 282,
   "metadata": {},
   "outputs": [],
   "source": [
    "test = WEN \n",
    "\n",
    "#ALK = pd.read_csv('../data/transactions/Airline/ALK.csv')  \n",
    "#DAL = pd.read_csv('../data/transactions/Airline/DAL.csv')  \n",
    "#LUV = pd.read_csv('../data/transactions/Airline/LUV.csv')  \n",
    "#RYAAY = pd.read_csv('../data/transactions/Airline/RYAAY.csv')  \n",
    "#SAVE = pd.read_csv('../data/transactions/Airline/SAVE.csv') \n",
    "\n",
    "#JACK = pd.read_csv('../data/transactions/Fastfood/JACK.csv')  \n",
    "#MCD = pd.read_csv('../data/transactions/Fastfood/MCD.csv')  \n",
    "#TACO = pd.read_csv('../data/transactions/Fastfood/TACO.csv')  \n",
    "#WEN = pd.read_csv('../data/transactions/Fastfood/WEN.csv')  \n",
    "#YUM = pd.read_csv('../data/transactions/Fastfood/YUM.csv') \n",
    "\n",
    "#GS = pd.read_csv('../data/transactions/Finance/GS.csv')  \n",
    "#JPM = pd.read_csv('../data/transactions/Finance/JPM.csv')  \n",
    "#MER = pd.read_csv('../data/transactions/Finance/MER-PK.csv')  \n",
    "#MS = pd.read_csv('../data/transactions/Finance/MS.csv')  \n",
    "#WFC = pd.read_csv('../data/transactions/Finance/WFC.csv') \n",
    "\n",
    "#COST = pd.read_csv('../data/transactions/Retailer/COST.csv')  \n",
    "#HD = pd.read_csv('../data/transactions/Retailer/HD.csv')  \n",
    "#KR = pd.read_csv('../data/transactions/Retailer/KR.csv')  \n",
    "#TGT = pd.read_csv('../data/transactions/Retailer/TGT.csv')  \n",
    "#WMT = pd.read_csv('../data/transactions/Retailer/WMT.csv') "
   ]
  },
  {
   "cell_type": "code",
   "execution_count": 283,
   "metadata": {},
   "outputs": [
    {
     "data": {
      "image/png": "[encoded data removed]",
      "text/plain": [
       "<Figure size 432x288 with 1 Axes>"
      ]
     },
     "metadata": {
      "needs_background": "light"
     },
     "output_type": "display_data"
    }
   ],
   "source": [
    "inputg,outputg = processData(test,10,1)\n",
    "\n",
    "\n",
    "prediction = model.predict(inputg)\n",
    "\n",
    "real = outputg\n",
    "plt.plot(real,color=\"blue\")\n",
    "plt.plot(prediction,color=\"orange\")\n",
    "plt.show()\n",
    "\n",
    "#print(prediction)\n",
    "#print(real)"
   ]
  },
  {
   "cell_type": "code",
   "execution_count": 284,
   "metadata": {},
   "outputs": [
    {
     "data": {
      "text/plain": [
       "0.5020048115477145"
      ]
     },
     "execution_count": 284,
     "metadata": {},
     "output_type": "execute_result"
    }
   ],
   "source": [
    "\n",
    "\n",
    "pred = precentage(prediction, real)\n",
    "val = realPrecentage(test)\n",
    "\n",
    "compare(pred, val)"
   ]
  },
  {
   "cell_type": "code",
   "execution_count": null,
   "metadata": {},
   "outputs": [],
   "source": []
  },
  {
   "cell_type": "code",
   "execution_count": null,
   "metadata": {},
   "outputs": [],
   "source": []
  }
 ],
 "metadata": {
  "kernelspec": {
   "display_name": "Python 3",
   "language": "python",
   "name": "python3"
  },
  "language_info": {
   "codemirror_mode": {
    "name": "ipython",
    "version": 3
   },
   "file_extension": ".py",
   "mimetype": "text/x-python",
   "name": "python",
   "nbconvert_exporter": "python",
   "pygments_lexer": "ipython3",
   "version": "3.7.1"
  }
 },
 "nbformat": 4,
 "nbformat_minor": 2
}
