{
 "cells": [
  {
   "cell_type": "code",
   "execution_count": 42,
   "metadata": {
    "scrolled": false
   },
   "outputs": [
    {
     "name": "stdout",
     "output_type": "stream",
     "text": [
      "         Date       Open       High        Low      Close  Adj Close  \\\n",
      "0  2014-01-02  79.382858  79.575714  78.860001  79.018570  66.964325   \n",
      "1  2014-01-03  78.980003  79.099998  77.204285  77.282860  65.493416   \n",
      "2  2014-01-06  76.778572  78.114288  76.228569  77.704285  65.850533   \n",
      "3  2014-01-07  77.760002  77.994286  76.845711  77.148575  65.379593   \n",
      "4  2014-01-08  76.972855  77.937141  76.955711  77.637146  65.793633   \n",
      "\n",
      "      Volume  \n",
      "0   58671200  \n",
      "1   98116900  \n",
      "2  103152700  \n",
      "3   79302300  \n",
      "4   64632400  \n"
     ]
    }
   ],
   "source": [
    "import tensorflow as tf\n",
    "from tensorflow.keras.models import Sequential,save_model\n",
    "from tensorflow.keras.layers import Dense, Dropout, LSTM\n",
    "from tensorflow.keras.utils import normalize\n",
    "from tensorflow.keras.callbacks import EarlyStopping\n",
    "from sklearn.preprocessing import MinMaxScaler, scale\n",
    "\n",
    "import pandas as pd\n",
    "import numpy as np\n",
    "import matplotlib.pyplot as plt\n",
    "apple = pd.read_csv('../data/transactions/Tech/AAPL.csv')  \n",
    "google = pd.read_csv('../data/transactions/Tech/GOOG.csv')  \n",
    "fb = pd.read_csv('../data/transactions/Tech/FB.csv')  \n",
    "microsoft = pd.read_csv('../data/transactions/Tech/MSFT.csv')  \n",
    "amazon = pd.read_csv('../data/transactions/Tech/AMZN.csv')  \n",
    "print(apple.head())"
   ]
  },
  {
   "cell_type": "code",
   "execution_count": 43,
   "metadata": {},
   "outputs": [],
   "source": [
    "scl = MinMaxScaler()\n",
    "def getStock(stock):\n",
    "    stock = stock.drop(['Date'],axis=1)\n",
    "    stock=stock.astype('float64')\n",
    "    close = stock['Close']\n",
    "    \n",
    "    stock = scl.fit_transform(stock)\n",
    "\n",
    "    return stock ,scale(close)\n",
    "\n",
    "def processData(stock,input_unit,output_unit):\n",
    "    data,result = getStock(stock)\n",
    "    X,Y = [],[]\n",
    "    for i in range(len(data)-input_unit-output_unit):\n",
    "        X.append(data[i:(i+input_unit)])\n",
    "        temp = [result[j+i+input_unit] for j in range(output_unit)]\n",
    "        Y.append(temp)\n",
    "    return np.array(X),np.array(Y)\n",
    "\n"
   ]
  },
  {
   "cell_type": "code",
   "execution_count": 54,
   "metadata": {},
   "outputs": [],
   "source": [
    "#model parameters\n",
    "cell_unit = 64\n",
    "learn_rate = 1e-2\n",
    "decay_rate = 1e-6\n",
    "train_epochs = 300\n",
    "\n",
    "#input parameters\n",
    "intput = apple\n",
    "time_num = 10\n",
    "output_num = 5\n",
    "precentage = 0.75\n",
    "data,result = processData(intput,time_num,output_num)\n"
   ]
  },
  {
   "cell_type": "code",
   "execution_count": 55,
   "metadata": {},
   "outputs": [
    {
     "name": "stdout",
     "output_type": "stream",
     "text": [
      "(1243, 10, 6)\n",
      "(1243, 5)\n",
      "(932, 10, 6)\n",
      "(932, 5)\n"
     ]
    }
   ],
   "source": [
    "samples_num = data.shape[1]\n",
    "features_num = data.shape[2]\n",
    "print(data.shape)\n",
    "print(result.shape)\n",
    "n = len(data)\n",
    "train_size = int(n*precentage)\n",
    "data_train,data_test = data[0:train_size],data[train_size:]\n",
    "result_train,result_test = result[0:train_size],result[train_size:]\n",
    "print(data_train.shape)\n",
    "print(result_train.shape)"
   ]
  },
  {
   "cell_type": "code",
   "execution_count": 56,
   "metadata": {},
   "outputs": [
    {
     "name": "stdout",
     "output_type": "stream",
     "text": [
      "Train on 932 samples, validate on 311 samples\n",
      "Epoch 1/300\n",
      "932/932 [==============================] - 2s 2ms/step - loss: 0.6064 - val_loss: 4.4954\n",
      "Epoch 2/300\n",
      "932/932 [==============================] - 0s 411us/step - loss: 0.4038 - val_loss: 3.2595\n",
      "Epoch 3/300\n",
      "932/932 [==============================] - 0s 403us/step - loss: 0.3768 - val_loss: 2.7331\n",
      "Epoch 4/300\n",
      "932/932 [==============================] - 0s 385us/step - loss: 0.1707 - val_loss: 1.0221\n",
      "Epoch 5/300\n",
      "932/932 [==============================] - 0s 378us/step - loss: 0.1131 - val_loss: 0.8669\n",
      "Epoch 6/300\n",
      "932/932 [==============================] - 0s 391us/step - loss: 0.0605 - val_loss: 0.5470\n",
      "Epoch 7/300\n",
      "932/932 [==============================] - 0s 384us/step - loss: 0.0771 - val_loss: 0.4566\n",
      "Epoch 8/300\n",
      "932/932 [==============================] - 0s 384us/step - loss: 0.0692 - val_loss: 0.3895\n",
      "Epoch 9/300\n",
      "932/932 [==============================] - 0s 387us/step - loss: 0.0683 - val_loss: 0.4660\n",
      "Epoch 10/300\n",
      "932/932 [==============================] - 0s 380us/step - loss: 0.0476 - val_loss: 0.3981\n",
      "Epoch 11/300\n",
      "932/932 [==============================] - 0s 412us/step - loss: 0.0602 - val_loss: 0.4991\n",
      "Epoch 12/300\n",
      "932/932 [==============================] - 0s 400us/step - loss: 0.0420 - val_loss: 0.3904\n",
      "Epoch 13/300\n",
      "932/932 [==============================] - 0s 389us/step - loss: 0.0579 - val_loss: 0.5336\n",
      "Epoch 14/300\n",
      "932/932 [==============================] - 0s 385us/step - loss: 0.0384 - val_loss: 0.3930\n",
      "Epoch 15/300\n",
      "932/932 [==============================] - 0s 388us/step - loss: 0.0533 - val_loss: 0.5587\n",
      "Epoch 16/300\n",
      "932/932 [==============================] - 0s 396us/step - loss: 0.0344 - val_loss: 0.4001\n",
      "Epoch 17/300\n",
      "932/932 [==============================] - 0s 391us/step - loss: 0.0469 - val_loss: 0.5481\n",
      "Epoch 18/300\n",
      "932/932 [==============================] - 0s 408us/step - loss: 0.0302 - val_loss: 0.4015\n",
      "Epoch 00018: early stopping\n"
     ]
    }
   ],
   "source": [
    "# basic model\n",
    "\n",
    "model = Sequential() # most common\n",
    "model.add(LSTM(cell_unit, input_shape = (time_num,features_num))) \n",
    "\n",
    "#model.add(Dropout(0.2))\n",
    "#model.add(LSTM(cell_unit//2, input_shape = (time_num,features_num), return_sequences=False)) \n",
    "#model.add(Dropout(0.2))\n",
    "\n",
    "#model.add(Dense(16, kernel_initializer='uniform', activation = 'relu'))\n",
    "\n",
    "model.add(Dense(output_num))\n",
    "\n",
    "model.compile(optimizer='Adam', loss='mse') \n",
    "callback = EarlyStopping(monitor='val_loss', patience=10,verbose=1,mode='auto')\n",
    "history = model.fit(data_train,result_train, epochs = train_epochs, validation_data=(data_test,result_test),shuffle=False,callbacks =[callback])"
   ]
  },
  {
   "cell_type": "code",
   "execution_count": 65,
   "metadata": {},
   "outputs": [
    {
     "name": "stdout",
     "output_type": "stream",
     "text": [
      "[[-1.4019533 -1.3992765 -1.4044273 -1.3863612 -1.4255704]\n",
      " [-1.4031847 -1.39809   -1.4026707 -1.3864194 -1.4239794]\n",
      " [-1.4102508 -1.4077545 -1.4134215 -1.3961293 -1.4360491]\n",
      " [-1.4140537 -1.4106895 -1.4151877 -1.3980293 -1.4380795]\n",
      " [-1.4016631 -1.3962214 -1.3998694 -1.384567  -1.4212998]]\n"
     ]
    },
    {
     "ename": "ValueError",
     "evalue": "x and y must have same first dimension, but have shapes (1,) and (5,)",
     "output_type": "error",
     "traceback": [
      "\u001b[0;31m---------------------------------------------------------------------------\u001b[0m",
      "\u001b[0;31mValueError\u001b[0m                                Traceback (most recent call last)",
      "\u001b[0;32m<ipython-input-65-15e9ff9cacc3>\u001b[0m in \u001b[0;36m<module>\u001b[0;34m\u001b[0m\n\u001b[1;32m     15\u001b[0m     \u001b[0;32mif\u001b[0m \u001b[0mi\u001b[0m\u001b[0;34m%\u001b[0m\u001b[0;36m10\u001b[0m \u001b[0;34m==\u001b[0m \u001b[0;36m0\u001b[0m\u001b[0;34m:\u001b[0m\u001b[0;34m\u001b[0m\u001b[0;34m\u001b[0m\u001b[0m\n\u001b[1;32m     16\u001b[0m         \u001b[0;32mfor\u001b[0m \u001b[0mj\u001b[0m \u001b[0;32min\u001b[0m \u001b[0mrange\u001b[0m\u001b[0;34m(\u001b[0m\u001b[0moutput_num\u001b[0m\u001b[0;34m)\u001b[0m\u001b[0;34m:\u001b[0m\u001b[0;34m\u001b[0m\u001b[0;34m\u001b[0m\u001b[0m\n\u001b[0;32m---> 17\u001b[0;31m             \u001b[0mplt\u001b[0m\u001b[0;34m.\u001b[0m\u001b[0mplot\u001b[0m\u001b[0;34m(\u001b[0m\u001b[0mi\u001b[0m\u001b[0;34m,\u001b[0m\u001b[0mprediction\u001b[0m\u001b[0;34m[\u001b[0m\u001b[0mj\u001b[0m\u001b[0;34m]\u001b[0m\u001b[0;34m,\u001b[0m\u001b[0mcolor\u001b[0m\u001b[0;34m=\u001b[0m\u001b[0;34m'r'\u001b[0m\u001b[0;34m)\u001b[0m\u001b[0;34m\u001b[0m\u001b[0;34m\u001b[0m\u001b[0m\n\u001b[0m\u001b[1;32m     18\u001b[0m \u001b[0mplt\u001b[0m\u001b[0;34m.\u001b[0m\u001b[0mshow\u001b[0m\u001b[0;34m(\u001b[0m\u001b[0;34m)\u001b[0m\u001b[0;34m\u001b[0m\u001b[0;34m\u001b[0m\u001b[0m\n",
      "\u001b[0;32m~/anaconda3/envs/stock-pred/lib/python3.6/site-packages/matplotlib/pyplot.py\u001b[0m in \u001b[0;36mplot\u001b[0;34m(scalex, scaley, data, *args, **kwargs)\u001b[0m\n\u001b[1;32m   2811\u001b[0m     return gca().plot(\n\u001b[1;32m   2812\u001b[0m         *args, scalex=scalex, scaley=scaley, **({\"data\": data} if data\n\u001b[0;32m-> 2813\u001b[0;31m         is not None else {}), **kwargs)\n\u001b[0m\u001b[1;32m   2814\u001b[0m \u001b[0;34m\u001b[0m\u001b[0m\n\u001b[1;32m   2815\u001b[0m \u001b[0;34m\u001b[0m\u001b[0m\n",
      "\u001b[0;32m~/anaconda3/envs/stock-pred/lib/python3.6/site-packages/matplotlib/__init__.py\u001b[0m in \u001b[0;36minner\u001b[0;34m(ax, data, *args, **kwargs)\u001b[0m\n\u001b[1;32m   1808\u001b[0m                         \u001b[0;34m\"the Matplotlib list!)\"\u001b[0m \u001b[0;34m%\u001b[0m \u001b[0;34m(\u001b[0m\u001b[0mlabel_namer\u001b[0m\u001b[0;34m,\u001b[0m \u001b[0mfunc\u001b[0m\u001b[0;34m.\u001b[0m\u001b[0m__name__\u001b[0m\u001b[0;34m)\u001b[0m\u001b[0;34m,\u001b[0m\u001b[0;34m\u001b[0m\u001b[0;34m\u001b[0m\u001b[0m\n\u001b[1;32m   1809\u001b[0m                         RuntimeWarning, stacklevel=2)\n\u001b[0;32m-> 1810\u001b[0;31m             \u001b[0;32mreturn\u001b[0m \u001b[0mfunc\u001b[0m\u001b[0;34m(\u001b[0m\u001b[0max\u001b[0m\u001b[0;34m,\u001b[0m \u001b[0;34m*\u001b[0m\u001b[0margs\u001b[0m\u001b[0;34m,\u001b[0m \u001b[0;34m**\u001b[0m\u001b[0mkwargs\u001b[0m\u001b[0;34m)\u001b[0m\u001b[0;34m\u001b[0m\u001b[0;34m\u001b[0m\u001b[0m\n\u001b[0m\u001b[1;32m   1811\u001b[0m \u001b[0;34m\u001b[0m\u001b[0m\n\u001b[1;32m   1812\u001b[0m         inner.__doc__ = _add_data_doc(inner.__doc__,\n",
      "\u001b[0;32m~/anaconda3/envs/stock-pred/lib/python3.6/site-packages/matplotlib/axes/_axes.py\u001b[0m in \u001b[0;36mplot\u001b[0;34m(self, scalex, scaley, *args, **kwargs)\u001b[0m\n\u001b[1;32m   1609\u001b[0m         \u001b[0mkwargs\u001b[0m \u001b[0;34m=\u001b[0m \u001b[0mcbook\u001b[0m\u001b[0;34m.\u001b[0m\u001b[0mnormalize_kwargs\u001b[0m\u001b[0;34m(\u001b[0m\u001b[0mkwargs\u001b[0m\u001b[0;34m,\u001b[0m \u001b[0mmlines\u001b[0m\u001b[0;34m.\u001b[0m\u001b[0mLine2D\u001b[0m\u001b[0;34m.\u001b[0m\u001b[0m_alias_map\u001b[0m\u001b[0;34m)\u001b[0m\u001b[0;34m\u001b[0m\u001b[0;34m\u001b[0m\u001b[0m\n\u001b[1;32m   1610\u001b[0m \u001b[0;34m\u001b[0m\u001b[0m\n\u001b[0;32m-> 1611\u001b[0;31m         \u001b[0;32mfor\u001b[0m \u001b[0mline\u001b[0m \u001b[0;32min\u001b[0m \u001b[0mself\u001b[0m\u001b[0;34m.\u001b[0m\u001b[0m_get_lines\u001b[0m\u001b[0;34m(\u001b[0m\u001b[0;34m*\u001b[0m\u001b[0margs\u001b[0m\u001b[0;34m,\u001b[0m \u001b[0;34m**\u001b[0m\u001b[0mkwargs\u001b[0m\u001b[0;34m)\u001b[0m\u001b[0;34m:\u001b[0m\u001b[0;34m\u001b[0m\u001b[0;34m\u001b[0m\u001b[0m\n\u001b[0m\u001b[1;32m   1612\u001b[0m             \u001b[0mself\u001b[0m\u001b[0;34m.\u001b[0m\u001b[0madd_line\u001b[0m\u001b[0;34m(\u001b[0m\u001b[0mline\u001b[0m\u001b[0;34m)\u001b[0m\u001b[0;34m\u001b[0m\u001b[0;34m\u001b[0m\u001b[0m\n\u001b[1;32m   1613\u001b[0m             \u001b[0mlines\u001b[0m\u001b[0;34m.\u001b[0m\u001b[0mappend\u001b[0m\u001b[0;34m(\u001b[0m\u001b[0mline\u001b[0m\u001b[0;34m)\u001b[0m\u001b[0;34m\u001b[0m\u001b[0;34m\u001b[0m\u001b[0m\n",
      "\u001b[0;32m~/anaconda3/envs/stock-pred/lib/python3.6/site-packages/matplotlib/axes/_base.py\u001b[0m in \u001b[0;36m_grab_next_args\u001b[0;34m(self, *args, **kwargs)\u001b[0m\n\u001b[1;32m    391\u001b[0m                 \u001b[0mthis\u001b[0m \u001b[0;34m+=\u001b[0m \u001b[0margs\u001b[0m\u001b[0;34m[\u001b[0m\u001b[0;36m0\u001b[0m\u001b[0;34m]\u001b[0m\u001b[0;34m,\u001b[0m\u001b[0;34m\u001b[0m\u001b[0;34m\u001b[0m\u001b[0m\n\u001b[1;32m    392\u001b[0m                 \u001b[0margs\u001b[0m \u001b[0;34m=\u001b[0m \u001b[0margs\u001b[0m\u001b[0;34m[\u001b[0m\u001b[0;36m1\u001b[0m\u001b[0;34m:\u001b[0m\u001b[0;34m]\u001b[0m\u001b[0;34m\u001b[0m\u001b[0;34m\u001b[0m\u001b[0m\n\u001b[0;32m--> 393\u001b[0;31m             \u001b[0;32myield\u001b[0m \u001b[0;32mfrom\u001b[0m \u001b[0mself\u001b[0m\u001b[0;34m.\u001b[0m\u001b[0m_plot_args\u001b[0m\u001b[0;34m(\u001b[0m\u001b[0mthis\u001b[0m\u001b[0;34m,\u001b[0m \u001b[0mkwargs\u001b[0m\u001b[0;34m)\u001b[0m\u001b[0;34m\u001b[0m\u001b[0;34m\u001b[0m\u001b[0m\n\u001b[0m\u001b[1;32m    394\u001b[0m \u001b[0;34m\u001b[0m\u001b[0m\n\u001b[1;32m    395\u001b[0m \u001b[0;34m\u001b[0m\u001b[0m\n",
      "\u001b[0;32m~/anaconda3/envs/stock-pred/lib/python3.6/site-packages/matplotlib/axes/_base.py\u001b[0m in \u001b[0;36m_plot_args\u001b[0;34m(self, tup, kwargs)\u001b[0m\n\u001b[1;32m    368\u001b[0m             \u001b[0mx\u001b[0m\u001b[0;34m,\u001b[0m \u001b[0my\u001b[0m \u001b[0;34m=\u001b[0m \u001b[0mindex_of\u001b[0m\u001b[0;34m(\u001b[0m\u001b[0mtup\u001b[0m\u001b[0;34m[\u001b[0m\u001b[0;34m-\u001b[0m\u001b[0;36m1\u001b[0m\u001b[0;34m]\u001b[0m\u001b[0;34m)\u001b[0m\u001b[0;34m\u001b[0m\u001b[0;34m\u001b[0m\u001b[0m\n\u001b[1;32m    369\u001b[0m \u001b[0;34m\u001b[0m\u001b[0m\n\u001b[0;32m--> 370\u001b[0;31m         \u001b[0mx\u001b[0m\u001b[0;34m,\u001b[0m \u001b[0my\u001b[0m \u001b[0;34m=\u001b[0m \u001b[0mself\u001b[0m\u001b[0;34m.\u001b[0m\u001b[0m_xy_from_xy\u001b[0m\u001b[0;34m(\u001b[0m\u001b[0mx\u001b[0m\u001b[0;34m,\u001b[0m \u001b[0my\u001b[0m\u001b[0;34m)\u001b[0m\u001b[0;34m\u001b[0m\u001b[0;34m\u001b[0m\u001b[0m\n\u001b[0m\u001b[1;32m    371\u001b[0m \u001b[0;34m\u001b[0m\u001b[0m\n\u001b[1;32m    372\u001b[0m         \u001b[0;32mif\u001b[0m \u001b[0mself\u001b[0m\u001b[0;34m.\u001b[0m\u001b[0mcommand\u001b[0m \u001b[0;34m==\u001b[0m \u001b[0;34m'plot'\u001b[0m\u001b[0;34m:\u001b[0m\u001b[0;34m\u001b[0m\u001b[0;34m\u001b[0m\u001b[0m\n",
      "\u001b[0;32m~/anaconda3/envs/stock-pred/lib/python3.6/site-packages/matplotlib/axes/_base.py\u001b[0m in \u001b[0;36m_xy_from_xy\u001b[0;34m(self, x, y)\u001b[0m\n\u001b[1;32m    229\u001b[0m         \u001b[0;32mif\u001b[0m \u001b[0mx\u001b[0m\u001b[0;34m.\u001b[0m\u001b[0mshape\u001b[0m\u001b[0;34m[\u001b[0m\u001b[0;36m0\u001b[0m\u001b[0;34m]\u001b[0m \u001b[0;34m!=\u001b[0m \u001b[0my\u001b[0m\u001b[0;34m.\u001b[0m\u001b[0mshape\u001b[0m\u001b[0;34m[\u001b[0m\u001b[0;36m0\u001b[0m\u001b[0;34m]\u001b[0m\u001b[0;34m:\u001b[0m\u001b[0;34m\u001b[0m\u001b[0;34m\u001b[0m\u001b[0m\n\u001b[1;32m    230\u001b[0m             raise ValueError(\"x and y must have same first dimension, but \"\n\u001b[0;32m--> 231\u001b[0;31m                              \"have shapes {} and {}\".format(x.shape, y.shape))\n\u001b[0m\u001b[1;32m    232\u001b[0m         \u001b[0;32mif\u001b[0m \u001b[0mx\u001b[0m\u001b[0;34m.\u001b[0m\u001b[0mndim\u001b[0m \u001b[0;34m>\u001b[0m \u001b[0;36m2\u001b[0m \u001b[0;32mor\u001b[0m \u001b[0my\u001b[0m\u001b[0;34m.\u001b[0m\u001b[0mndim\u001b[0m \u001b[0;34m>\u001b[0m \u001b[0;36m2\u001b[0m\u001b[0;34m:\u001b[0m\u001b[0;34m\u001b[0m\u001b[0;34m\u001b[0m\u001b[0m\n\u001b[1;32m    233\u001b[0m             raise ValueError(\"x and y can be no greater than 2-D, but have \"\n",
      "\u001b[0;31mValueError\u001b[0m: x and y must have same first dimension, but have shapes (1,) and (5,)"
     ]
    },
    {
     "data": {
      "image/png": "[encoded data removed]",
      "text/plain": [
       "<Figure size 432x288 with 1 Axes>"
      ]
     },
     "metadata": {
      "needs_background": "light"
     },
     "output_type": "display_data"
    }
   ],
   "source": [
    "\n",
    "\n",
    "test_x, test_y = processData(google,time_num,output_num)\n",
    "Xt = model.predict(test_x)\n",
    "\n",
    "\n",
    "res = np.array(google['Close'])\n",
    "\n",
    "print(Xt[:5])\n",
    "prediction = Xt\n",
    "\n",
    "real = test_y\n",
    "plt.plot(real,color=\"blue\")\n",
    "for i in range(len(prediction)):\n",
    "    if i%10 == 0:   \n",
    "        for j in range(output_num):\n",
    "            plt.plot(i,prediction[j],color='r')\n",
    "plt.show()"
   ]
  },
  {
   "cell_type": "code",
   "execution_count": 28,
   "metadata": {},
   "outputs": [],
   "source": [
    "save_model(model,'stock_model')"
   ]
  },
  {
   "cell_type": "code",
   "execution_count": null,
   "metadata": {},
   "outputs": [],
   "source": []
  }
 ],
 "metadata": {
  "kernelspec": {
   "display_name": "Python 3",
   "language": "python",
   "name": "python3"
  },
  "language_info": {
   "codemirror_mode": {
    "name": "ipython",
    "version": 3
   },
   "file_extension": ".py",
   "mimetype": "text/x-python",
   "name": "python",
   "nbconvert_exporter": "python",
   "pygments_lexer": "ipython3",
   "version": "3.6.8"
  }
 },
 "nbformat": 4,
 "nbformat_minor": 1
}
