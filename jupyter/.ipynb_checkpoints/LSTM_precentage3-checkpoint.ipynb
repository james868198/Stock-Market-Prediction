{
 "cells": [
  {
   "cell_type": "code",
   "execution_count": 1,
   "metadata": {},
   "outputs": [],
   "source": [
    "import numpy as np # linear algebra\n",
    "import pandas as pd # data processing, CSV file I/O (e.g. pd.read_csv)\n",
    "import tensorflow as tf\n",
    "from tensorflow.keras.models import Sequential\n",
    "from tensorflow.keras.layers import Dense, Dropout, LSTM\n",
    "from tensorflow.keras.utils import normalize\n",
    "from tensorflow.keras.callbacks import EarlyStopping\n",
    "from tensorflow.keras.initializers import Orthogonal\n",
    "\n",
    "from sklearn.preprocessing import MinMaxScaler, scale\n",
    "import matplotlib.pyplot as plt\n",
    "\n",
    "\n",
    "\n",
    "\n"
   ]
  },
  {
   "cell_type": "code",
   "execution_count": 2,
   "metadata": {},
   "outputs": [],
   "source": [
    "AAPL = pd.read_csv('../data/transactions/Tech/AAPL.csv')  \n",
    "GOOG = pd.read_csv('../data/transactions/Tech/GOOG.csv')  \n",
    "FB = pd.read_csv('../data/transactions/Tech/FB.csv')  \n",
    "MSFT = pd.read_csv('../data/transactions/Tech/MSFT.csv')  \n",
    "AMZN = pd.read_csv('../data/transactions/Tech/AMZN.csv') \n",
    "\n",
    "ALK = pd.read_csv('../data/transactions/Airline/ALK.csv')  \n",
    "DAL = pd.read_csv('../data/transactions/Airline/DAL.csv')  \n",
    "LUV = pd.read_csv('../data/transactions/Airline/LUV.csv')  \n",
    "RYAAY = pd.read_csv('../data/transactions/Airline/RYAAY.csv')  \n",
    "SAVE = pd.read_csv('../data/transactions/Airline/SAVE.csv') \n",
    "\n",
    "JACK = pd.read_csv('../data/transactions/Fastfood/JACK.csv')  \n",
    "MCD = pd.read_csv('../data/transactions/Fastfood/MCD.csv')  \n",
    "TACO = pd.read_csv('../data/transactions/Fastfood/TACO.csv')  \n",
    "WEN = pd.read_csv('../data/transactions/Fastfood/WEN.csv')  \n",
    "YUM = pd.read_csv('../data/transactions/Fastfood/YUM.csv') \n",
    "\n",
    "GS = pd.read_csv('../data/transactions/Finance/GS.csv')  \n",
    "JPM = pd.read_csv('../data/transactions/Finance/JPM.csv')  \n",
    "MER = pd.read_csv('../data/transactions/Finance/MER-PK.csv')  \n",
    "MS = pd.read_csv('../data/transactions/Finance/MS.csv')  \n",
    "WFC = pd.read_csv('../data/transactions/Finance/WFC.csv') \n",
    "\n",
    "COST = pd.read_csv('../data/transactions/Retailer/COST.csv')  \n",
    "HD = pd.read_csv('../data/transactions/Retailer/HD.csv')  \n",
    "KR = pd.read_csv('../data/transactions/Retailer/KR.csv')  \n",
    "TGT = pd.read_csv('../data/transactions/Retailer/TGT.csv')  \n",
    "WMT = pd.read_csv('../data/transactions/Retailer/WMT.csv') "
   ]
  },
  {
   "cell_type": "code",
   "execution_count": 51,
   "metadata": {},
   "outputs": [],
   "source": [
    "def getStock(stock):\n",
    "    date = pd.to_datetime(stock[\"Date\"])\n",
    "\n",
    "    stock = stock.drop(['Date'],axis=1)\n",
    "    stock= stock.astype('float64')\n",
    "    #stock['month'] = month = np.array(date.dt.month)\n",
    "    #stock['day'] = month = np.array(date.dt.day)\n",
    "\n",
    "    return scale(stock), scale(stock['Close'])\n",
    "\n",
    "def processData(stock, input_unit,output_unit):\n",
    "    data,result = getStock(stock)\n",
    "    X,Y = [],[]\n",
    "    for i in range(len(data)-input_unit-output_unit):\n",
    "        X.append(data[i:(i+input_unit)])\n",
    "        temp = [result[j+i+input_unit] for j in range(output_unit)]\n",
    "        Y.append(temp)\n",
    "    return np.array(X),np.array(Y)\n",
    "time_size = 30\n",
    "X,y = processData(AAPL,time_size,1)\n",
    "train_size = int(X.shape[0]*0.80)\n",
    "X_train,X_test = X[:int(X.shape[0]*0.80)],X[int(X.shape[0]*0.80):]\n",
    "y_train,y_test = y[:int(y.shape[0]*0.80)],y[int(y.shape[0]*0.80):]\n",
    "\n",
    "\n"
   ]
  },
  {
   "cell_type": "code",
   "execution_count": 52,
   "metadata": {},
   "outputs": [
    {
     "name": "stdout",
     "output_type": "stream",
     "text": [
      "Train on 981 samples, validate on 246 samples\n",
      "Epoch 1/300\n",
      "981/981 [==============================] - 3s 3ms/step - loss: 0.2503 - val_loss: 1.2533\n",
      "Epoch 2/300\n",
      "981/981 [==============================] - 1s 948us/step - loss: 0.0272 - val_loss: 0.2532\n",
      "Epoch 3/300\n",
      "981/981 [==============================] - 1s 983us/step - loss: 0.0191 - val_loss: 0.2929\n",
      "Epoch 4/300\n",
      "981/981 [==============================] - 1s 942us/step - loss: 0.0161 - val_loss: 0.1734\n",
      "Epoch 5/300\n",
      "981/981 [==============================] - 1s 927us/step - loss: 0.0136 - val_loss: 0.2104\n",
      "Epoch 6/300\n",
      "981/981 [==============================] - 1s 930us/step - loss: 0.0131 - val_loss: 0.1194\n",
      "Epoch 7/300\n",
      "981/981 [==============================] - 1s 939us/step - loss: 0.0126 - val_loss: 0.1998\n",
      "Epoch 8/300\n",
      "981/981 [==============================] - 1s 939us/step - loss: 0.0132 - val_loss: 0.0978\n",
      "Epoch 9/300\n",
      "981/981 [==============================] - 1s 970us/step - loss: 0.0151 - val_loss: 0.2432\n",
      "Epoch 10/300\n",
      "981/981 [==============================] - 1s 994us/step - loss: 0.0138 - val_loss: 0.0600\n",
      "Epoch 11/300\n",
      "981/981 [==============================] - 1s 999us/step - loss: 0.0138 - val_loss: 0.1777\n",
      "Epoch 12/300\n",
      "981/981 [==============================] - 1s 954us/step - loss: 0.0109 - val_loss: 0.0570\n",
      "Epoch 13/300\n",
      "981/981 [==============================] - 1s 953us/step - loss: 0.0091 - val_loss: 0.1387\n",
      "Epoch 14/300\n",
      "981/981 [==============================] - 1s 951us/step - loss: 0.0095 - val_loss: 0.0592\n",
      "Epoch 15/300\n",
      "981/981 [==============================] - 1s 1000us/step - loss: 0.0084 - val_loss: 0.0911\n",
      "Epoch 16/300\n",
      "981/981 [==============================] - 1s 957us/step - loss: 0.0090 - val_loss: 0.0586\n",
      "Epoch 17/300\n",
      "981/981 [==============================] - 1s 937us/step - loss: 0.0078 - val_loss: 0.0797\n",
      "Epoch 18/300\n",
      "981/981 [==============================] - 1s 940us/step - loss: 0.0079 - val_loss: 0.0504\n",
      "Epoch 19/300\n",
      "981/981 [==============================] - 1s 945us/step - loss: 0.0076 - val_loss: 0.0731\n",
      "Epoch 20/300\n",
      "981/981 [==============================] - 1s 936us/step - loss: 0.0078 - val_loss: 0.0563\n",
      "Epoch 21/300\n",
      "981/981 [==============================] - 1s 956us/step - loss: 0.0067 - val_loss: 0.0652\n",
      "Epoch 22/300\n",
      "981/981 [==============================] - 1s 952us/step - loss: 0.0069 - val_loss: 0.0547\n",
      "Epoch 23/300\n",
      "981/981 [==============================] - 1s 985us/step - loss: 0.0068 - val_loss: 0.0546\n",
      "Epoch 24/300\n",
      "981/981 [==============================] - 1s 956us/step - loss: 0.0082 - val_loss: 0.0433\n",
      "Epoch 25/300\n",
      "981/981 [==============================] - 1s 961us/step - loss: 0.0082 - val_loss: 0.0432\n",
      "Epoch 26/300\n",
      "981/981 [==============================] - 1s 963us/step - loss: 0.0077 - val_loss: 0.0387\n",
      "Epoch 27/300\n",
      "981/981 [==============================] - 1s 952us/step - loss: 0.0069 - val_loss: 0.0489\n",
      "Epoch 28/300\n",
      "981/981 [==============================] - 1s 951us/step - loss: 0.0070 - val_loss: 0.0401\n",
      "Epoch 29/300\n",
      "981/981 [==============================] - 1s 972us/step - loss: 0.0067 - val_loss: 0.0553\n",
      "Epoch 30/300\n",
      "981/981 [==============================] - 1s 963us/step - loss: 0.0069 - val_loss: 0.0465\n",
      "Epoch 31/300\n",
      "981/981 [==============================] - 1s 1ms/step - loss: 0.0061 - val_loss: 0.0603\n",
      "Epoch 32/300\n",
      "981/981 [==============================] - 1s 975us/step - loss: 0.0063 - val_loss: 0.0398\n",
      "Epoch 33/300\n",
      "981/981 [==============================] - 1s 990us/step - loss: 0.0064 - val_loss: 0.0442\n",
      "Epoch 34/300\n",
      "981/981 [==============================] - 1s 1ms/step - loss: 0.0083 - val_loss: 0.0278\n",
      "Epoch 35/300\n",
      "981/981 [==============================] - 1s 1ms/step - loss: 0.0077 - val_loss: 0.0400\n",
      "Epoch 36/300\n",
      "981/981 [==============================] - 1s 1ms/step - loss: 0.0081 - val_loss: 0.0233\n",
      "Epoch 37/300\n",
      "981/981 [==============================] - 1s 1ms/step - loss: 0.0067 - val_loss: 0.0451\n",
      "Epoch 38/300\n",
      "981/981 [==============================] - 1s 1ms/step - loss: 0.0065 - val_loss: 0.0342\n",
      "Epoch 39/300\n",
      "981/981 [==============================] - 1s 1ms/step - loss: 0.0055 - val_loss: 0.0434\n",
      "Epoch 40/300\n",
      "981/981 [==============================] - 1s 1ms/step - loss: 0.0061 - val_loss: 0.0374\n",
      "Epoch 41/300\n",
      "981/981 [==============================] - 1s 1ms/step - loss: 0.0062 - val_loss: 0.0413\n",
      "Epoch 42/300\n",
      "981/981 [==============================] - 1s 1ms/step - loss: 0.0060 - val_loss: 0.0339\n",
      "Epoch 43/300\n",
      "981/981 [==============================] - 1s 1ms/step - loss: 0.0072 - val_loss: 0.0296\n",
      "Epoch 44/300\n",
      "981/981 [==============================] - 1s 1ms/step - loss: 0.0077 - val_loss: 0.0215\n",
      "Epoch 45/300\n",
      "981/981 [==============================] - 1s 1ms/step - loss: 0.0061 - val_loss: 0.0323\n",
      "Epoch 46/300\n",
      "981/981 [==============================] - 1s 1ms/step - loss: 0.0067 - val_loss: 0.0251\n",
      "Epoch 47/300\n",
      "981/981 [==============================] - 1s 1ms/step - loss: 0.0066 - val_loss: 0.0337\n",
      "Epoch 48/300\n",
      "981/981 [==============================] - 1s 1ms/step - loss: 0.0069 - val_loss: 0.0232\n",
      "Epoch 49/300\n",
      "981/981 [==============================] - 1s 938us/step - loss: 0.0064 - val_loss: 0.0420\n",
      "Epoch 00049: early stopping\n"
     ]
    }
   ],
   "source": [
    "# basic model\n",
    "\n",
    "model = Sequential() # most common\n",
    "model.add(LSTM(64, input_shape = (time_size,6), return_sequences=False)) \n",
    "model.add(Dropout(0.3))\n",
    "\n",
    "model.add(LSTM(32, input_shape = (time_size,6), return_sequences=False)) \n",
    "model.add(Dropout(0.3))\n",
    "\n",
    "#model.add(Dense(16, kernel_initializer='uniform', activation = 'relu'))\n",
    "\n",
    "model.add(Dense(1, activation = 'linear'))\n",
    "\n",
    "model.compile(optimizer='adam', loss='mean_squared_error') \n",
    "callback = EarlyStopping(monitor='loss', patience=10,verbose=1,mode='auto')\n",
    "history = model.fit(X_train,y_train,epochs=300,validation_data=(X_test,y_test),shuffle=False,callbacks=[callback])"
   ]
  },
  {
   "cell_type": "code",
   "execution_count": 53,
   "metadata": {},
   "outputs": [
    {
     "data": {
      "image/png": "[encoded data removed]",
      "text/plain": [
       "<Figure size 432x288 with 1 Axes>"
      ]
     },
     "metadata": {
      "needs_background": "light"
     },
     "output_type": "display_data"
    }
   ],
   "source": [
    "plt.plot(history.history['loss'],color=\"blue\")\n",
    "plt.plot(history.history['val_loss'],color=\"green\")\n",
    "plt.show()"
   ]
  },
  {
   "cell_type": "code",
   "execution_count": 54,
   "metadata": {},
   "outputs": [],
   "source": [
    "def category2(data, threshold):\n",
    "    top = threshold*(max(data)-min(data))+sum(data)/len(data)\n",
    "    bottom = -1*threshold*(max(data)-min(data))+sum(data)/len(data)\n",
    "    print(top,bottom)\n",
    "    new_data = []\n",
    "    for item in data:\n",
    "        if item >= top:\n",
    "            new_data.append(1)\n",
    "        elif item < bottom:\n",
    "            new_data.append(-1)\n",
    "        else:\n",
    "            new_data.append(0)\n",
    "    return new_data\n",
    "def category(data):\n",
    "    data[data>=0] = 1\n",
    "    data[data<0] = -1\n",
    "    return data\n",
    "    \n",
    "def precentage(prediction, real):\n",
    "    pred = prediction -real\n",
    "    pred = np.squeeze(prediction, axis=1)\n",
    "    pred = category(pred)\n",
    "   \n",
    "    return pred\n",
    "def realPrecentage(stock):\n",
    "    value = pd.Series(stock['Close']-stock['Close'].shift(1), index=stock.index) \n",
    "    value = value.bfill() \n",
    "    value = np.array(value) \n",
    "    val = category(value)\n",
    "   \n",
    "\n",
    "    return val\n",
    "def compare(pred, val):\n",
    "    #print(pred[:1000])\n",
    "    #print(val[:1000])\n",
    "    t = len(pred)\n",
    "    countTrue = 0\n",
    "    for i in range(t):\n",
    "        if pred[i] == val[i]:\n",
    "            countTrue +=1\n",
    "    return countTrue/t"
   ]
  },
  {
   "cell_type": "code",
   "execution_count": 58,
   "metadata": {},
   "outputs": [],
   "source": [
    "test = RYAAY \n",
    "\n",
    "#ALK = pd.read_csv('../data/transactions/Airline/ALK.csv')  \n",
    "#DAL = pd.read_csv('../data/transactions/Airline/DAL.csv')  \n",
    "#LUV = pd.read_csv('../data/transactions/Airline/LUV.csv')  \n",
    "#RYAAY = pd.read_csv('../data/transactions/Airline/RYAAY.csv')  \n",
    "#SAVE = pd.read_csv('../data/transactions/Airline/SAVE.csv') \n",
    "\n",
    "#JACK = pd.read_csv('../data/transactions/Fastfood/JACK.csv')  \n",
    "#MCD = pd.read_csv('../data/transactions/Fastfood/MCD.csv')  \n",
    "#TACO = pd.read_csv('../data/transactions/Fastfood/TACO.csv')  \n",
    "#WEN = pd.read_csv('../data/transactions/Fastfood/WEN.csv')  \n",
    "#YUM = pd.read_csv('../data/transactions/Fastfood/YUM.csv') \n",
    "\n",
    "#GS = pd.read_csv('../data/transactions/Finance/GS.csv')  \n",
    "#JPM = pd.read_csv('../data/transactions/Finance/JPM.csv')  \n",
    "#MER = pd.read_csv('../data/transactions/Finance/MER-PK.csv')  \n",
    "#MS = pd.read_csv('../data/transactions/Finance/MS.csv')  \n",
    "#WFC = pd.read_csv('../data/transactions/Finance/WFC.csv') \n",
    "\n",
    "#COST = pd.read_csv('../data/transactions/Retailer/COST.csv')  \n",
    "#HD = pd.read_csv('../data/transactions/Retailer/HD.csv')  \n",
    "#KR = pd.read_csv('../data/transactions/Retailer/KR.csv')  \n",
    "#TGT = pd.read_csv('../data/transactions/Retailer/TGT.csv')  \n",
    "#WMT = pd.read_csv('../data/transactions/Retailer/WMT.csv') "
   ]
  },
  {
   "cell_type": "code",
   "execution_count": 59,
   "metadata": {},
   "outputs": [
    {
     "data": {
      "image/png": "[encoded data removed]",
      "text/plain": [
       "<Figure size 432x288 with 1 Axes>"
      ]
     },
     "metadata": {
      "needs_background": "light"
     },
     "output_type": "display_data"
    }
   ],
   "source": [
    "inputg,outputg = processData(test,time_size,1)\n",
    "\n",
    "\n",
    "prediction = model.predict(inputg)\n",
    "\n",
    "real = outputg\n",
    "plt.plot(real,color=\"blue\")\n",
    "plt.plot(prediction,color=\"orange\")\n",
    "plt.show()\n",
    "\n",
    "#print(prediction)\n",
    "#print(real)"
   ]
  },
  {
   "cell_type": "code",
   "execution_count": 60,
   "metadata": {},
   "outputs": [
    {
     "data": {
      "text/plain": [
       "0.49144254278728605"
      ]
     },
     "execution_count": 60,
     "metadata": {},
     "output_type": "execute_result"
    }
   ],
   "source": [
    "\n",
    "\n",
    "pred = precentage(prediction, real)\n",
    "val = realPrecentage(test)\n",
    "\n",
    "compare(pred, val)"
   ]
  },
  {
   "cell_type": "code",
   "execution_count": null,
   "metadata": {},
   "outputs": [],
   "source": []
  },
  {
   "cell_type": "code",
   "execution_count": null,
   "metadata": {},
   "outputs": [],
   "source": []
  }
 ],
 "metadata": {
  "kernelspec": {
   "display_name": "Python 3",
   "language": "python",
   "name": "python3"
  },
  "language_info": {
   "codemirror_mode": {
    "name": "ipython",
    "version": 3
   },
   "file_extension": ".py",
   "mimetype": "text/x-python",
   "name": "python",
   "nbconvert_exporter": "python",
   "pygments_lexer": "ipython3",
   "version": "3.6.8"
  }
 },
 "nbformat": 4,
 "nbformat_minor": 2
}
