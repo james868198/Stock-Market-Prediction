{
 "cells": [
  {
   "cell_type": "code",
   "execution_count": 1,
   "metadata": {},
   "outputs": [],
   "source": [
    "import pandas as pd\n",
    "from sklearn import svm, preprocessing"
   ]
  },
  {
   "cell_type": "code",
   "execution_count": 8,
   "metadata": {},
   "outputs": [],
   "source": [
    "def predict(df_CB):\n",
    "    df_CB = df_CB.set_index('Date')\n",
    "    df_CB = df_CB.sort_index()\n",
    "    \n",
    "    value = pd.Series(df_CB['Close']-df_CB['Close'].shift(1), index=df_CB.index) \n",
    "    value = value.bfill() \n",
    "    value[value>=0]=1\n",
    "    value[value<0]=0 \n",
    "    df_CB['Value']=value\n",
    "    \n",
    "    df_CB=df_CB.fillna(method='bfill')\n",
    "    df_CB=df_CB.astype('float64')\n",
    "    \n",
    "    L=len(df_CB)\n",
    "    train=int(L*0.8)\n",
    "    total_predict_data=L-train\n",
    "    \n",
    "    df_CB_X=df_CB.drop(['Value'],axis=1)\n",
    "    df_CB_X=preprocessing.scale(df_CB_X)\n",
    "    \n",
    "    correct = 0 \n",
    "    train_original=train \n",
    "    while train<L: \n",
    "        Data_train=df_CB_X[train-train_original:train-1] \n",
    "        value_train = value[train-train_original:train-1] \n",
    "        Data_predict=df_CB_X[train-1:train] \n",
    "        value_real = value[train:train+1] \n",
    "\n",
    "        #classifier = svm.SVC(C=1.0, kernel='poly', gamma='scale') \n",
    "        #classifier = svm.SVC(kernel='linear') \n",
    "        classifier = svm.SVC(C=1.0,kernel='rbf', gamma='scale')\n",
    "        classifier.fit(Data_train,value_train) \n",
    "        value_predict=classifier.predict(Data_predict) \n",
    "\n",
    "        if(value_real[0]==int(value_predict)):\n",
    "            correct=correct+1\n",
    "        train = train+1\n",
    "        \n",
    "    correct=correct*100/total_predict_data\n",
    "    print(\"%.2f%%\",correct)"
   ]
  },
  {
   "cell_type": "code",
   "execution_count": 9,
   "metadata": {},
   "outputs": [
    {
     "ename": "ValueError",
     "evalue": "incomplete format",
     "output_type": "error",
     "traceback": [
      "\u001b[0;31m---------------------------------------------------------------------\u001b[0m",
      "\u001b[0;31mValueError\u001b[0m                          Traceback (most recent call last)",
      "\u001b[0;32m<ipython-input-9-13811a800bbc>\u001b[0m in \u001b[0;36m<module>\u001b[0;34m\u001b[0m\n\u001b[1;32m      1\u001b[0m \u001b[0mdf_CB\u001b[0m\u001b[0;34m=\u001b[0m\u001b[0mpd\u001b[0m\u001b[0;34m.\u001b[0m\u001b[0mread_csv\u001b[0m\u001b[0;34m(\u001b[0m\u001b[0;34mr'../data/transactions/Finance/GS.csv'\u001b[0m\u001b[0;34m)\u001b[0m\u001b[0;34m\u001b[0m\u001b[0;34m\u001b[0m\u001b[0m\n\u001b[0;32m----> 2\u001b[0;31m \u001b[0mpredict\u001b[0m\u001b[0;34m(\u001b[0m\u001b[0mdf_CB\u001b[0m\u001b[0;34m)\u001b[0m\u001b[0;34m\u001b[0m\u001b[0;34m\u001b[0m\u001b[0m\n\u001b[0m\u001b[1;32m      3\u001b[0m \u001b[0mdf_CB\u001b[0m\u001b[0;34m=\u001b[0m\u001b[0mpd\u001b[0m\u001b[0;34m.\u001b[0m\u001b[0mread_csv\u001b[0m\u001b[0;34m(\u001b[0m\u001b[0;34mr'../data/transactions/Finance/JPM.csv'\u001b[0m\u001b[0;34m)\u001b[0m\u001b[0;34m\u001b[0m\u001b[0;34m\u001b[0m\u001b[0m\n\u001b[1;32m      4\u001b[0m \u001b[0mpredict\u001b[0m\u001b[0;34m(\u001b[0m\u001b[0mdf_CB\u001b[0m\u001b[0;34m)\u001b[0m\u001b[0;34m\u001b[0m\u001b[0;34m\u001b[0m\u001b[0m\n\u001b[1;32m      5\u001b[0m \u001b[0mdf_CB\u001b[0m\u001b[0;34m=\u001b[0m\u001b[0mpd\u001b[0m\u001b[0;34m.\u001b[0m\u001b[0mread_csv\u001b[0m\u001b[0;34m(\u001b[0m\u001b[0;34mr'../data/transactions/Finance/MER-PK.csv'\u001b[0m\u001b[0;34m)\u001b[0m\u001b[0;34m\u001b[0m\u001b[0;34m\u001b[0m\u001b[0m\n",
      "\u001b[0;32m<ipython-input-8-7fe0eeb640b2>\u001b[0m in \u001b[0;36mpredict\u001b[0;34m(df_CB)\u001b[0m\n\u001b[1;32m     38\u001b[0m \u001b[0;34m\u001b[0m\u001b[0m\n\u001b[1;32m     39\u001b[0m     \u001b[0mcorrect\u001b[0m\u001b[0;34m=\u001b[0m\u001b[0mcorrect\u001b[0m\u001b[0;34m*\u001b[0m\u001b[0;36m100\u001b[0m\u001b[0;34m/\u001b[0m\u001b[0mtotal_predict_data\u001b[0m\u001b[0;34m\u001b[0m\u001b[0;34m\u001b[0m\u001b[0m\n\u001b[0;32m---> 40\u001b[0;31m     \u001b[0mprint\u001b[0m\u001b[0;34m(\u001b[0m\u001b[0;34m\"%.2f%\"\u001b[0m\u001b[0;34m%\u001b[0m\u001b[0mcorrect\u001b[0m\u001b[0;34m)\u001b[0m\u001b[0;34m\u001b[0m\u001b[0;34m\u001b[0m\u001b[0m\n\u001b[0m",
      "\u001b[0;31mValueError\u001b[0m: incomplete format"
     ]
    }
   ],
   "source": [
    "df_CB=pd.read_csv(r'../data/transactions/Finance/GS.csv')\n",
    "predict(df_CB)\n",
    "df_CB=pd.read_csv(r'../data/transactions/Finance/JPM.csv')\n",
    "predict(df_CB)\n",
    "df_CB=pd.read_csv(r'../data/transactions/Finance/MER-PK.csv')\n",
    "predict(df_CB)\n",
    "df_CB=pd.read_csv(r'../data/transactions/Finance/MS.csv')\n",
    "predict(df_CB)\n",
    "df_CB=pd.read_csv(r'../data/transactions/Finance/WFC.csv')\n",
    "predict(df_CB)\n",
    "\n",
    "df_CB=pd.read_csv(r'../data/transactions/Tech/AAPL.csv')\n",
    "predict(df_CB)\n",
    "df_CB=pd.read_csv(r'../data/transactions/Tech/GOOG.csv')\n",
    "predict(df_CB)\n",
    "df_CB=pd.read_csv(r'../data/transactions/Tech/AMZN.csv')\n",
    "predict(df_CB)\n",
    "df_CB=pd.read_csv(r'../data/transactions/Tech/FB.csv')\n",
    "predict(df_CB)\n",
    "df_CB=pd.read_csv(r'../data/transactions/Tech/MSFT.csv')\n",
    "predict(df_CB)\n",
    "\n",
    "df_CB=pd.read_csv(r'../data/transactions/Fastfood/JACK.csv')\n",
    "predict(df_CB)\n",
    "df_CB=pd.read_csv(r'../data/transactions/Fastfood/MCD.csv')\n",
    "predict(df_CB)\n",
    "df_CB=pd.read_csv(r'../data/transactions/Fastfood/WEN.csv')\n",
    "predict(df_CB)\n",
    "df_CB=pd.read_csv(r'../data/transactions/Fastfood/TACO.csv')\n",
    "predict(df_CB)\n",
    "df_CB=pd.read_csv(r'../data/transactions/Fastfood/YUM.csv')\n",
    "predict(df_CB)\n",
    "\n",
    "df_CB=pd.read_csv(r'../data/transactions/Retailer/COST.csv')\n",
    "predict(df_CB)\n",
    "df_CB=pd.read_csv(r'../data/transactions/Retailer/HD.csv')\n",
    "predict(df_CB)\n",
    "df_CB=pd.read_csv(r'../data/transactions/Retailer/KR.csv')\n",
    "predict(df_CB)\n",
    "df_CB=pd.read_csv(r'../data/transactions/Retailer/TGT.csv')\n",
    "predict(df_CB)\n",
    "df_CB=pd.read_csv(r'../data/transactions/Retailer/WMT.csv')\n",
    "predict(df_CB)\n",
    "\n",
    "df_CB=pd.read_csv(r'../data/transactions/Airline/ALK.csv')\n",
    "predict(df_CB)\n",
    "df_CB=pd.read_csv(r'../data/transactions/Airline/DAL.csv')\n",
    "predict(df_CB)\n",
    "df_CB=pd.read_csv(r'../data/transactions/Airline/LUV.csv')\n",
    "predict(df_CB)\n",
    "df_CB=pd.read_csv(r'../data/transactions/Airline/RYAAY.csv')\n",
    "predict(df_CB)\n",
    "df_CB=pd.read_csv(r'../data/transactions/Airline/SAVE.csv')\n",
    "predict(df_CB)\n",
    "\n",
    "\n",
    "\n",
    "\n"
   ]
  },
  {
   "cell_type": "code",
   "execution_count": null,
   "metadata": {},
   "outputs": [],
   "source": []
  }
 ],
 "metadata": {
  "kernelspec": {
   "display_name": "Python 3",
   "language": "python",
   "name": "python3"
  },
  "language_info": {
   "codemirror_mode": {
    "name": "ipython",
    "version": 3
   },
   "file_extension": ".py",
   "mimetype": "text/x-python",
   "name": "python",
   "nbconvert_exporter": "python",
   "pygments_lexer": "ipython3",
   "version": "3.7.1"
  }
 },
 "nbformat": 4,
 "nbformat_minor": 2
}
