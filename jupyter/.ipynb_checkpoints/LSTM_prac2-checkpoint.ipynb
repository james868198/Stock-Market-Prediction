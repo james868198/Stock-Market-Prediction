{
 "cells": [
  {
   "cell_type": "code",
   "execution_count": 52,
   "metadata": {},
   "outputs": [],
   "source": [
    "import tensorflow as tf\n",
    "from tensorflow.keras.models import Sequential\n",
    "from tensorflow.keras.layers import Dense, Dropout, LSTM"
   ]
  },
  {
   "cell_type": "code",
   "execution_count": 53,
   "metadata": {},
   "outputs": [
    {
     "name": "stdout",
     "output_type": "stream",
     "text": [
      "(1000,)\n",
      "(1000, 2)\n"
     ]
    }
   ],
   "source": [
    "import numpy as np\n",
    "import matplotlib.pyplot as plt\n",
    "import random\n",
    "\n",
    "n = 1000\n",
    "X = []\n",
    "Y = []\n",
    "for i in range(n):\n",
    "    X.append([20*np.sin(i)+i*random.random(),20*np.cos(i)+i*random.random()])\n",
    "    Y.append(10*np.sin(i)*random.random()+10*np.cos(i)*random.random())\n",
    "\n",
    "# del X\n",
    "    \n",
    "result = np.array(Y)\n",
    "\n",
    "# del Y\n",
    "# plt.plot(a)\n",
    "# plt.plot(b)\n",
    "# plt.plot\n",
    "\n",
    "# a = a.reshape(1, n, 2)\n",
    "\n",
    "print(result.shape)\n",
    "print(np.array(X).shape)"
   ]
  },
  {
   "cell_type": "code",
   "execution_count": 64,
   "metadata": {},
   "outputs": [
    {
     "name": "stdout",
     "output_type": "stream",
     "text": [
      "(796, 5, 2)\n",
      "(199, 5, 2)\n",
      "(796,)\n",
      "(199,)\n"
     ]
    }
   ],
   "source": [
    "def processData(data,lb):\n",
    "    X = []\n",
    "    for i in range(len(data)-lb):\n",
    "        xVal = data[i:(i+lb)]\n",
    "        X.append(xVal)\n",
    "    return np.array(X)\n",
    "data = processData(np.array(X),5)\n",
    "data_train,data_test = data[:int(data.shape[0]*0.80)],data[int(data.shape[0]*0.80):]\n",
    "result_train,result_test = result[:int(data.shape[0]*0.80)],result[int(data.shape[0]*0.80):data.shape[0]]\n",
    "print(data_train.shape)\n",
    "print(data_test.shape)\n",
    "print(result_train.shape)\n",
    "print(result_test.shape)"
   ]
  },
  {
   "cell_type": "code",
   "execution_count": null,
   "metadata": {},
   "outputs": [
    {
     "name": "stdout",
     "output_type": "stream",
     "text": [
      "Train on 796 samples, validate on 199 samples\n",
      "Epoch 1/300\n"
     ]
    }
   ],
   "source": [
    "# define/select model\n",
    "\n",
    "model = Sequential()\n",
    "model.add(LSTM(32, input_shape=(5, 2)))\n",
    "model.add(Dense(1))\n",
    "\n",
    "apt = tf.keras.optimizers.Adam(lr=1e-3, decay=1e-5)\n",
    "model.compile(optimizer=apt, loss='mse') \n",
    "history = model.fit(data_train,result_train, epochs = 30, validation_data=(data_test,result_test),shuffle=False)"
   ]
  },
  {
   "cell_type": "code",
   "execution_count": null,
   "metadata": {
    "collapsed": true
   },
   "outputs": [],
   "source": []
  },
  {
   "cell_type": "code",
   "execution_count": null,
   "metadata": {
    "collapsed": true
   },
   "outputs": [],
   "source": []
  }
 ],
 "metadata": {
  "anaconda-cloud": {},
  "kernelspec": {
   "display_name": "Python (stock)",
   "language": "python",
   "name": "stock"
  },
  "language_info": {
   "codemirror_mode": {
    "name": "ipython",
    "version": 3
   },
   "file_extension": ".py",
   "mimetype": "text/x-python",
   "name": "python",
   "nbconvert_exporter": "python",
   "pygments_lexer": "ipython3",
   "version": "3.6.8"
  }
 },
 "nbformat": 4,
 "nbformat_minor": 1
}
