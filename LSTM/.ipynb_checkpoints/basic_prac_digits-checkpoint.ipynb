{
 "cells": [
  {
   "cell_type": "code",
   "execution_count": 2,
   "metadata": {
    "collapsed": false
   },
   "outputs": [
    {
     "data": {
      "text/plain": [
       "'1.10.0'"
      ]
     },
     "execution_count": 2,
     "metadata": {},
     "output_type": "execute_result"
    }
   ],
   "source": [
    "# quick start with tensorFlow karas\n",
    "# https://www.youtube.com/watch?v=wQ8BIBpya2k\n",
    "\n",
    "import tensorflow as tf\n",
    "tf.__version__"
   ]
  },
  {
   "cell_type": "code",
   "execution_count": 3,
   "metadata": {
    "collapsed": false
   },
   "outputs": [],
   "source": [
    "# import test dataset\n",
    "mnist = tf.keras.datasets.mnist #28x28 hand-written digits 0-9\n",
    "\n",
    "(x_train,y_train), (x_test,y_test) = mnist.load_data()\n"
   ]
  },
  {
   "cell_type": "code",
   "execution_count": 4,
   "metadata": {
    "collapsed": false
   },
   "outputs": [
    {
     "data": {
      "text/plain": [
       "<Figure size 640x480 with 1 Axes>"
      ]
     },
     "metadata": {},
     "output_type": "display_data"
    },
    {
     "data": {
      "text/plain": [
       "<Figure size 640x480 with 1 Axes>"
      ]
     },
     "metadata": {},
     "output_type": "display_data"
    }
   ],
   "source": [
    "# see input dataset\n",
    "\n",
    "import matplotlib.pyplot as plt\n",
    "\n",
    "# print(x_train[0])\n",
    "plt.imshow(x_train[0]) #color image\n",
    "plt.show()\n",
    "plt.imshow(x_train[1], cmap = plt.cm.binary) #non-color image\n",
    "plt.show()"
   ]
  },
  {
   "cell_type": "code",
   "execution_count": 5,
   "metadata": {
    "collapsed": false
   },
   "outputs": [
    {
     "data": {
      "image/png": "[encoded data removed]",
      "text/plain": [
       "<Figure size 432x288 with 1 Axes>"
      ]
     },
     "metadata": {
      "needs_background": "light"
     },
     "output_type": "display_data"
    }
   ],
   "source": [
    "# normalize inputs\n",
    "x_train = tf.keras.utils.normalize(x_train, axis = 1)\n",
    "x_test = tf.keras.utils.normalize(x_test, axis = 1)\n",
    "plt.imshow(x_train[0]) #color image\n",
    "plt.show()"
   ]
  },
  {
   "cell_type": "code",
   "execution_count": 6,
   "metadata": {
    "collapsed": false
   },
   "outputs": [
    {
     "name": "stdout",
     "output_type": "stream",
     "text": [
      "Epoch 1/3\n",
      "60000/60000 [==============================] - 7s 115us/step - loss: 0.2571 - acc: 0.9250\n",
      "Epoch 2/3\n",
      "60000/60000 [==============================] - 5s 89us/step - loss: 0.1074 - acc: 0.9673\n",
      "Epoch 3/3\n",
      "60000/60000 [==============================] - 6s 94us/step - loss: 0.0729 - acc: 0.9768\n"
     ]
    },
    {
     "data": {
      "text/plain": [
       "<tensorflow.python.keras.callbacks.History at 0x10489de80>"
      ]
     },
     "execution_count": 6,
     "metadata": {},
     "output_type": "execute_result"
    }
   ],
   "source": [
    "# define/select model\n",
    "model = tf.keras.models.Sequential() # most common\n",
    "model.add(tf.keras.layers.Flatten()) # [input layer]need to make inputs 28x28 be flat = 784 \n",
    "model.add(tf.keras.layers.Dense(128, activation = tf.nn.relu)) # [hidden layer 1] then decide 激勵函式：relu\n",
    "model.add(tf.keras.layers.Dense(128, activation = tf.nn.relu)) # [hidden layer 2] the same 激勵函式：relu\n",
    "model.add(tf.keras.layers.Dense(10, activation = tf.nn.softmax)) # [output layer] 激勵函式：softmax\n",
    "\n",
    "model.compile(optimizer='adam', loss='sparse_categorical_crossentropy',metrics = ['accuracy']) \n",
    "# optimizer 最佳化函式：adam (常用)\n",
    "\n",
    "model.fit(x_train,y_train, epochs = 3)\n"
   ]
  },
  {
   "cell_type": "code",
   "execution_count": 7,
   "metadata": {
    "collapsed": false
   },
   "outputs": [
    {
     "name": "stdout",
     "output_type": "stream",
     "text": [
      "10000/10000 [==============================] - 0s 34us/step\n",
      "0.0899286525436677 0.9714\n"
     ]
    }
   ],
   "source": [
    "# calculate loss\n",
    "\n",
    "val_loss, val_acc = model.evaluate(x_test,y_test)\n",
    "print(val_loss, val_acc)"
   ]
  },
  {
   "cell_type": "code",
   "execution_count": 8,
   "metadata": {
    "collapsed": false
   },
   "outputs": [],
   "source": [
    "# save model\n",
    "import h5py\n",
    "model.save('epic_num_reader.model')"
   ]
  },
  {
   "cell_type": "code",
   "execution_count": 10,
   "metadata": {
    "collapsed": false
   },
   "outputs": [],
   "source": [
    "# load model\n",
    "new_model = tf.keras.models.load_model('epic_num_reader.model')"
   ]
  },
  {
   "cell_type": "code",
   "execution_count": 11,
   "metadata": {
    "collapsed": false
   },
   "outputs": [
    {
     "name": "stdout",
     "output_type": "stream",
     "text": [
      "[[1.0148171e-09 1.7628640e-08 1.8085373e-06 ... 9.9997878e-01\n",
      "  4.8493423e-09 2.2341602e-07]\n",
      " [8.3725471e-09 1.3889140e-03 9.9831247e-01 ... 2.0864078e-08\n",
      "  2.1525063e-04 1.9424529e-10]\n",
      " [8.0701533e-08 9.9980146e-01 4.0635416e-05 ... 1.0037929e-04\n",
      "  3.5798268e-05 2.1528373e-07]\n",
      " ...\n",
      " [2.3637174e-09 1.6187057e-07 1.5377960e-08 ... 9.1972315e-06\n",
      "  8.7580001e-06 1.6857983e-05]\n",
      " [3.5956887e-06 1.2427286e-07 1.7567550e-07 ... 9.8566460e-08\n",
      "  4.9971638e-04 1.1358694e-08]\n",
      " [9.2344462e-06 9.5295275e-07 1.9714425e-06 ... 1.2392575e-09\n",
      "  4.3026824e-07 3.0261646e-10]]\n"
     ]
    }
   ],
   "source": [
    "# use new_model for prediction \n",
    "predictions = new_model.predict([x_test])\n",
    "print(predictions) #the result is the con"
   ]
  },
  {
   "cell_type": "code",
   "execution_count": 16,
   "metadata": {
    "collapsed": false
   },
   "outputs": [
    {
     "name": "stdout",
     "output_type": "stream",
     "text": [
      "7\n",
      "7\n"
     ]
    },
    {
     "data": {
      "image/png": "[encoded data removed]",
      "text/plain": [
       "<Figure size 432x288 with 1 Axes>"
      ]
     },
     "metadata": {
      "needs_background": "light"
     },
     "output_type": "display_data"
    }
   ],
   "source": [
    "import numpy as np\n",
    "print(np.argmax(predictions[0]))\n",
    "print(y_test[0])\n",
    "plt.imshow(x_test[0])\n",
    "plt.show()"
   ]
  },
  {
   "cell_type": "code",
   "execution_count": null,
   "metadata": {
    "collapsed": true
   },
   "outputs": [],
   "source": []
  }
 ],
 "metadata": {
  "kernelspec": {
   "display_name": "Python [stock]",
   "language": "python",
   "name": "Python [stock]"
  },
  "language_info": {
   "codemirror_mode": {
    "name": "ipython",
    "version": 3
   },
   "file_extension": ".py",
   "mimetype": "text/x-python",
   "name": "python",
   "nbconvert_exporter": "python",
   "pygments_lexer": "ipython3",
   "version": "3.6.8"
  }
 },
 "nbformat": 4,
 "nbformat_minor": 0
}
