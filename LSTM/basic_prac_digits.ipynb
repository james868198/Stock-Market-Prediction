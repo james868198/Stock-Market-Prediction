{
 "cells": [
  {
   "cell_type": "code",
   "execution_count": 3,
   "metadata": {
    "collapsed": false
   },
   "outputs": [
    {
     "data": {
      "text/plain": [
       "'1.10.0'"
      ]
     },
     "execution_count": 3,
     "metadata": {},
     "output_type": "execute_result"
    }
   ],
   "source": [
    "# quick start with tensorFlow karas\n",
    "# https://www.youtube.com/watch?v=wQ8BIBpya2k\n",
    "\n",
    "import tensorflow as tf\n",
    "tf.__version__"
   ]
  },
  {
   "cell_type": "code",
   "execution_count": 4,
   "metadata": {
    "collapsed": false
   },
   "outputs": [],
   "source": [
    "# import test dataset\n",
    "mnist = tf.keras.datasets.mnist #28x28 hand-written digits 0-9\n",
    "\n",
    "(x_train,y_train), (x_test,y_test) = mnist.load_data()\n"
   ]
  },
  {
   "cell_type": "code",
   "execution_count": 5,
   "metadata": {
    "collapsed": false
   },
   "outputs": [
    {
     "data": {
      "image/png": "[encoded data removed]",
      "text/plain": [
       "<Figure size 432x288 with 1 Axes>"
      ]
     },
     "metadata": {
      "needs_background": "light"
     },
     "output_type": "display_data"
    },
    {
     "data": {
      "image/png": "[encoded data removed]",
      "text/plain": [
       "<Figure size 432x288 with 1 Axes>"
      ]
     },
     "metadata": {
      "needs_background": "light"
     },
     "output_type": "display_data"
    }
   ],
   "source": [
    "# see input dataset\n",
    "\n",
    "import matplotlib.pyplot as plt\n",
    "\n",
    "# print(x_train[0])\n",
    "plt.imshow(x_train[0]) #color image\n",
    "plt.show()\n",
    "plt.imshow(x_train[1], cmap = plt.cm.binary) #non-color image\n",
    "plt.show()"
   ]
  },
  {
   "cell_type": "code",
   "execution_count": 6,
   "metadata": {
    "collapsed": false
   },
   "outputs": [
    {
     "data": {
      "image/png": "[encoded data removed]",
      "text/plain": [
       "<Figure size 432x288 with 1 Axes>"
      ]
     },
     "metadata": {
      "needs_background": "light"
     },
     "output_type": "display_data"
    }
   ],
   "source": [
    "# normalize inputs\n",
    "x_train = tf.keras.utils.normalize(x_train, axis = 1)\n",
    "x_test = tf.keras.utils.normalize(x_test, axis = 1)\n",
    "plt.imshow(x_train[0]) #color image\n",
    "plt.show()"
   ]
  },
  {
   "cell_type": "code",
   "execution_count": 7,
   "metadata": {
    "collapsed": false
   },
   "outputs": [
    {
     "name": "stdout",
     "output_type": "stream",
     "text": [
      "Epoch 1/3\n",
      "60000/60000 [==============================] - 6s 103us/step - loss: 0.2606 - acc: 0.9239\n",
      "Epoch 2/3\n",
      "60000/60000 [==============================] - 6s 104us/step - loss: 0.1080 - acc: 0.9657\n",
      "Epoch 3/3\n",
      "60000/60000 [==============================] - 6s 102us/step - loss: 0.0731 - acc: 0.9768\n"
     ]
    },
    {
     "data": {
      "text/plain": [
       "<tensorflow.python.keras.callbacks.History at 0x1296a0da0>"
      ]
     },
     "execution_count": 7,
     "metadata": {},
     "output_type": "execute_result"
    }
   ],
   "source": [
    "# define/select model\n",
    "model = tf.keras.models.Sequential() # most common\n",
    "model.add(tf.keras.layers.Flatten()) # [input layer]need to make inputs 28x28 be flat = 784 \n",
    "model.add(tf.keras.layers.Dense(128, activation = tf.nn.relu)) # [hidden layer 1] then decide 激勵函式：relu\n",
    "model.add(tf.keras.layers.Dense(128, activation = tf.nn.relu)) # [hidden layer 2] the same 激勵函式：relu\n",
    "model.add(tf.keras.layers.Dense(10, activation = tf.nn.softmax)) # [output layer] 激勵函式：softmax\n",
    "\n",
    "model.compile(optimizer='adam', loss='sparse_categorical_crossentropy',metrics = ['accuracy']) \n",
    "# optimizer 最佳化函式：adam (常用)\n",
    "\n",
    "model.fit(x_train,y_train, epochs = 3)\n"
   ]
  },
  {
   "cell_type": "code",
   "execution_count": 8,
   "metadata": {
    "collapsed": false
   },
   "outputs": [
    {
     "name": "stdout",
     "output_type": "stream",
     "text": [
      "10000/10000 [==============================] - 0s 50us/step\n",
      "0.0933069048895035 0.9712\n"
     ]
    }
   ],
   "source": [
    "# calculate loss\n",
    "\n",
    "val_loss, val_acc = model.evaluate(x_test,y_test)\n",
    "print(val_loss, val_acc)"
   ]
  },
  {
   "cell_type": "code",
   "execution_count": 9,
   "metadata": {
    "collapsed": false
   },
   "outputs": [],
   "source": [
    "# save model\n",
    "import h5py\n",
    "model.save('epic_num_reader.model')"
   ]
  },
  {
   "cell_type": "code",
   "execution_count": 10,
   "metadata": {
    "collapsed": false
   },
   "outputs": [],
   "source": [
    "# load model\n",
    "new_model = tf.keras.models.load_model('epic_num_reader.model')"
   ]
  },
  {
   "cell_type": "code",
   "execution_count": 11,
   "metadata": {
    "collapsed": false
   },
   "outputs": [
    {
     "name": "stdout",
     "output_type": "stream",
     "text": [
      "[[2.7909987e-11 7.0873263e-09 2.7002733e-07 ... 9.9999976e-01\n",
      "  3.9904777e-11 3.5081933e-09]\n",
      " [3.5227604e-08 2.8541100e-03 9.9704629e-01 ... 9.5924859e-09\n",
      "  4.0441109e-06 1.6773267e-10]\n",
      " [1.3218118e-08 9.9977547e-01 5.0707695e-06 ... 1.5501003e-04\n",
      "  2.3644874e-05 5.3649501e-06]\n",
      " ...\n",
      " [1.4088182e-10 2.3348250e-07 2.9047211e-08 ... 2.2463375e-06\n",
      "  3.1107405e-08 2.2302504e-05]\n",
      " [3.5328158e-06 1.0523404e-06 1.3281214e-08 ... 2.7292285e-07\n",
      "  3.1020383e-03 1.0564887e-07]\n",
      " [3.6216118e-06 4.4253481e-10 2.1993613e-07 ... 9.2862482e-11\n",
      "  7.2933069e-08 9.1652987e-09]]\n"
     ]
    }
   ],
   "source": [
    "# use new_model for prediction \n",
    "predictions = new_model.predict([x_test])\n",
    "print(predictions) #the result is the con"
   ]
  },
  {
   "cell_type": "code",
   "execution_count": 12,
   "metadata": {
    "collapsed": false,
    "scrolled": true
   },
   "outputs": [
    {
     "name": "stdout",
     "output_type": "stream",
     "text": [
      "7\n",
      "7\n"
     ]
    },
    {
     "data": {
      "image/png": "[encoded data removed]",
      "text/plain": [
       "<Figure size 432x288 with 1 Axes>"
      ]
     },
     "metadata": {
      "needs_background": "light"
     },
     "output_type": "display_data"
    }
   ],
   "source": [
    "import numpy as np\n",
    "print(np.argmax(predictions[0]))\n",
    "print(y_test[0])\n",
    "plt.imshow(x_test[0])\n",
    "plt.show()"
   ]
  },
  {
   "cell_type": "code",
   "execution_count": null,
   "metadata": {
    "collapsed": true
   },
   "outputs": [],
   "source": []
  }
 ],
 "metadata": {
  "kernelspec": {
   "display_name": "Python [stock]",
   "language": "python",
   "name": "Python [stock]"
  },
  "language_info": {
   "codemirror_mode": {
    "name": "ipython",
    "version": 3
   },
   "file_extension": ".py",
   "mimetype": "text/x-python",
   "name": "python",
   "nbconvert_exporter": "python",
   "pygments_lexer": "ipython3",
   "version": "3.6.8"
  }
 },
 "nbformat": 4,
 "nbformat_minor": 0
}
