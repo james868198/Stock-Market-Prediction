{
 "cells": [
  {
   "cell_type": "code",
   "execution_count": 7,
   "metadata": {
    "collapsed": false
   },
   "outputs": [],
   "source": [
    "import tensorflow as tf"
   ]
  },
  {
   "cell_type": "code",
   "execution_count": 8,
   "metadata": {
    "collapsed": false
   },
   "outputs": [
    {
     "name": "stdout",
     "output_type": "stream",
     "text": [
      "Tensor(\"Const_9:0\", shape=(), dtype=float32) Tensor(\"Const_10:0\", shape=(), dtype=float32)\n"
     ]
    }
   ],
   "source": [
    "node1 = tf.constant(3.0, dtype = tf.float32)\n",
    "node2 = tf.constant(4.0) # 預設型別亦為 tf.float32\n",
    "print(node1, node2)"
   ]
  },
  {
   "cell_type": "code",
   "execution_count": 9,
   "metadata": {
    "collapsed": false
   },
   "outputs": [
    {
     "name": "stdout",
     "output_type": "stream",
     "text": [
      "Tensor(\"Const_11:0\", shape=(), dtype=int32)\n",
      "5\n",
      "7\n"
     ]
    }
   ],
   "source": [
    "# constants\n",
    "# need to use session to run the element of tf\n",
    "result=tf.constant(5)\n",
    "print (result)\n",
    "\n",
    "with tf.Session() as sess:\n",
    "    result=sess.run(result)\n",
    "    print (result)\n",
    "\n",
    "x=tf.constant(3)\n",
    "y=tf.constant(4)\n",
    "with tf.Session() as sess:\n",
    "    print(sess.run(tf.add(x,y)))"
   ]
  },
  {
   "cell_type": "code",
   "execution_count": 10,
   "metadata": {
    "collapsed": false
   },
   "outputs": [
    {
     "name": "stdout",
     "output_type": "stream",
     "text": [
      "7\n"
     ]
    }
   ],
   "source": [
    "# placeholder 挖空格給session model, 之後再帶入值\n",
    "\n",
    "a=tf.placeholder(tf.int32)\n",
    "b=tf.placeholder(tf.int32)\n",
    "result=a+b\n",
    "with tf.Session() as sess:\n",
    "    print(sess.run(result,{a:3,b:4}))"
   ]
  },
  {
   "cell_type": "code",
   "execution_count": 12,
   "metadata": {
    "collapsed": false
   },
   "outputs": [
    {
     "name": "stdout",
     "output_type": "stream",
     "text": [
      "[0. 0. 0.]\n"
     ]
    }
   ],
   "source": [
    "# Variable\n",
    "# 訓練模型時，通常都會使用Variable來儲存或是更新參數\n",
    "# 主要都是用在weight跟bias部份，當初使化的時候，要把一個張量當作初始值傳入\n",
    "\n",
    "b=tf.Variable(tf.zeros([3])) #建立初始參數\n",
    "init_op=tf.global_variables_initializer() #宣告初始參數函式\n",
    "with tf.Session() as sess:\n",
    "    sess.run(init_op) sess #宣告sess使用初始參數函式\n",
    "    print(sess.run(b)) #執行參數初始化"
   ]
  },
  {
   "cell_type": "code",
   "execution_count": 14,
   "metadata": {
    "collapsed": false
   },
   "outputs": [],
   "source": [
    "# train.Saver\n",
    "# 會創建一個二進制文件，然後將變數名和tensor值儲存起來，首先要先透過以下的code來建立一個管理模型中的變數的Saver\n",
    "# saver = tf.train.Saver()\n",
    "# saver.save(sess, 'model.ckpt')"
   ]
  },
  {
   "cell_type": "code",
   "execution_count": null,
   "metadata": {
    "collapsed": true
   },
   "outputs": [],
   "source": [
    "# 激勵函數 f\n",
    "# output = f(input) for each node\n",
    "\n",
    "sigmoid函數\n",
    "# 神經網路常用的活化函數之一，就是顯示在下圖中的sigmoid函數，算式中的exp(-x)是指e^-x。在神經網路中，使用屬於激勵函數的sigmoid函數轉換訊號，轉換後的訊號就會傳給下一個神經元。"
   ]
  }
 ],
 "metadata": {
  "anaconda-cloud": {},
  "kernelspec": {
   "display_name": "Python [Root]",
   "language": "python",
   "name": "Python [Root]"
  },
  "language_info": {
   "codemirror_mode": {
    "name": "ipython",
    "version": 3.0
   },
   "file_extension": ".py",
   "mimetype": "text/x-python",
   "name": "python",
   "nbconvert_exporter": "python",
   "pygments_lexer": "ipython3",
   "version": "3.5.4"
  }
 },
 "nbformat": 4,
 "nbformat_minor": 0
}