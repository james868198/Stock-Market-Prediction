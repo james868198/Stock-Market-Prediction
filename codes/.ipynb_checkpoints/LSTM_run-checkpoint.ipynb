{
 "cells": [
  {
   "cell_type": "code",
   "execution_count": 1,
   "metadata": {},
   "outputs": [],
   "source": [
    "import numpy as np # linear algebra\n",
    "import pandas as pd # data processing, CSV file I/O (e.g. pd.read_csv)\n",
    "import tensorflow as tf\n",
    "from tensorflow.keras.models import Sequential\n",
    "from tensorflow.keras.layers import Dense, Dropout, LSTM\n",
    "from tensorflow.keras.utils import normalize\n",
    "from tensorflow.keras.callbacks import EarlyStopping\n",
    "from tensorflow.keras.initializers import Orthogonal\n",
    "\n",
    "from sklearn.preprocessing import MinMaxScaler, scale\n",
    "import matplotlib.pyplot as plt"
   ]
  },
  {
   "cell_type": "code",
   "execution_count": 2,
   "metadata": {},
   "outputs": [],
   "source": [
    "AAPL = pd.read_csv('../data/transactions/Tech/AAPL.csv')  \n",
    "GOOG = pd.read_csv('../data/transactions/Tech/GOOG.csv')  \n",
    "FB = pd.read_csv('../data/transactions/Tech/FB.csv')  \n",
    "MSFT = pd.read_csv('../data/transactions/Tech/MSFT.csv')  \n",
    "AMZN = pd.read_csv('../data/transactions/Tech/AMZN.csv') \n",
    "ALK = pd.read_csv('../data/transactions/Airline/ALK.csv')  \n",
    "DAL = pd.read_csv('../data/transactions/Airline/DAL.csv')  \n",
    "LUV = pd.read_csv('../data/transactions/Airline/LUV.csv')  \n",
    "RYAAY = pd.read_csv('../data/transactions/Airline/RYAAY.csv')  \n",
    "SAVE = pd.read_csv('../data/transactions/Airline/SAVE.csv') \n",
    "JACK = pd.read_csv('../data/transactions/Fastfood/JACK.csv')  \n",
    "MCD = pd.read_csv('../data/transactions/Fastfood/MCD.csv')  \n",
    "TACO = pd.read_csv('../data/transactions/Fastfood/TACO.csv')  \n",
    "WEN = pd.read_csv('../data/transactions/Fastfood/WEN.csv')  \n",
    "YUM = pd.read_csv('../data/transactions/Fastfood/YUM.csv') \n",
    "GS = pd.read_csv('../data/transactions/Finance/GS.csv')  \n",
    "JPM = pd.read_csv('../data/transactions/Finance/JPM.csv')  \n",
    "MER = pd.read_csv('../data/transactions/Finance/MER-PK.csv')  \n",
    "MS = pd.read_csv('../data/transactions/Finance/MS.csv')  \n",
    "WFC = pd.read_csv('../data/transactions/Finance/WFC.csv') \n",
    "COST = pd.read_csv('../data/transactions/Retailer/COST.csv')  \n",
    "HD = pd.read_csv('../data/transactions/Retailer/HD.csv')  \n",
    "KR = pd.read_csv('../data/transactions/Retailer/KR.csv')  \n",
    "TGT = pd.read_csv('../data/transactions/Retailer/TGT.csv')  \n",
    "WMT = pd.read_csv('../data/transactions/Retailer/WMT.csv') "
   ]
  },
  {
   "cell_type": "code",
   "execution_count": 3,
   "metadata": {},
   "outputs": [],
   "source": [
    "def category(data):\n",
    "    data[data>=0] = 1\n",
    "    data[data<0] = -1\n",
    "    return data\n",
    "    \n",
    "def precentage(prediction, real):\n",
    "    pred = prediction -real\n",
    "    pred = np.squeeze(prediction, axis=1)\n",
    "    pred = category(pred)\n",
    "   \n",
    "    return pred\n",
    "def realPrecentage(stock):\n",
    "    value = pd.Series(stock['Close']-stock['Close'].shift(1), index=stock.index) \n",
    "    value = value.bfill() \n",
    "    value = np.array(value) \n",
    "    val = category(value)\n",
    "   \n",
    "\n",
    "    return val\n",
    "def compare(pred, val):\n",
    "    #print(pred[:1000])\n",
    "    #print(val[:1000])\n",
    "    t = len(pred)\n",
    "    countTrue = 0\n",
    "    for i in range(t):\n",
    "        if pred[i] == val[i]:\n",
    "            countTrue +=1\n",
    "    return countTrue/t\n",
    "\n",
    "def getStock(stock):\n",
    "    date = pd.to_datetime(stock[\"Date\"])\n",
    "\n",
    "    stock = stock.drop(['Date'],axis=1)\n",
    "    stock= stock.astype('float64')\n",
    "    #stock['month'] = month = np.array(date.dt.month)\n",
    "    #stock['day'] = month = np.array(date.dt.day)\n",
    "\n",
    "    return scale(stock), scale(stock['Close'])\n",
    "\n",
    "\n",
    "#Samples. One sequence is one sample. A batch is comprised of one or more samples.\n",
    "#Time Steps. One time step is one point of observation in the sample.\n",
    "#Features. One feature is one observation at a time step.\n",
    "def processData(stock, input_unit,output_unit):\n",
    "    data,result = getStock(stock)\n",
    "    X,Y = [],[]\n",
    "    for i in range(len(data)-input_unit-output_unit):\n",
    "        X.append(data[i:(i+input_unit)])\n",
    "        temp = [result[j+i+input_unit] for j in range(output_unit)]\n",
    "        Y.append(temp)\n",
    "    return np.array(X),np.array(Y)\n"
   ]
  },
  {
   "cell_type": "code",
   "execution_count": 4,
   "metadata": {},
   "outputs": [],
   "source": [
    "model = tf.keras.models.load_model('LSTM')\n"
   ]
  },
  {
   "cell_type": "code",
   "execution_count": 5,
   "metadata": {},
   "outputs": [],
   "source": [
    "testdata = []\n",
    "testdata.append(ALK)\n",
    "testdata.append(DAL)\n",
    "testdata.append(RYAAY)\n",
    "testdata.append(SAVE)\n",
    "testdata.append(JACK)\n",
    "testdata.append(TACO)\n",
    "testdata.append(WEN)\n",
    "testdata.append(GS)\n",
    "testdata.append(JPM)\n",
    "testdata.append(MER)\n",
    "testdata.append(MS)\n",
    "testdata.append(WFC)\n",
    "testdata.append(COST)\n",
    "testdata.append(HD)\n",
    "testdata.append(KR)\n",
    "testdata.append(TGT)\n",
    "testdata.append(WMT)"
   ]
  },
  {
   "cell_type": "code",
   "execution_count": 6,
   "metadata": {},
   "outputs": [
    {
     "ename": "NameError",
     "evalue": "name 'time_size' is not defined",
     "output_type": "error",
     "traceback": [
      "\u001b[0;31m---------------------------------------------------------------------------\u001b[0m",
      "\u001b[0;31mNameError\u001b[0m                                 Traceback (most recent call last)",
      "\u001b[0;32m<ipython-input-6-3e1e4a299a5e>\u001b[0m in \u001b[0;36m<module>\u001b[0;34m\u001b[0m\n\u001b[1;32m      1\u001b[0m \u001b[0;32mfor\u001b[0m \u001b[0mstockdata\u001b[0m \u001b[0;32min\u001b[0m \u001b[0mtestdata\u001b[0m\u001b[0;34m:\u001b[0m\u001b[0;34m\u001b[0m\u001b[0;34m\u001b[0m\u001b[0m\n\u001b[0;32m----> 2\u001b[0;31m     \u001b[0minputg\u001b[0m\u001b[0;34m,\u001b[0m\u001b[0moutputg\u001b[0m \u001b[0;34m=\u001b[0m \u001b[0mprocessData\u001b[0m\u001b[0;34m(\u001b[0m\u001b[0mstockdata\u001b[0m\u001b[0;34m,\u001b[0m\u001b[0mtime_size\u001b[0m\u001b[0;34m,\u001b[0m\u001b[0;36m1\u001b[0m\u001b[0;34m)\u001b[0m\u001b[0;34m\u001b[0m\u001b[0;34m\u001b[0m\u001b[0m\n\u001b[0m\u001b[1;32m      3\u001b[0m     \u001b[0mprediction\u001b[0m \u001b[0;34m=\u001b[0m \u001b[0mmodel\u001b[0m\u001b[0;34m.\u001b[0m\u001b[0mpredict\u001b[0m\u001b[0;34m(\u001b[0m\u001b[0minputg\u001b[0m\u001b[0;34m)\u001b[0m\u001b[0;34m\u001b[0m\u001b[0;34m\u001b[0m\u001b[0m\n\u001b[1;32m      4\u001b[0m     \u001b[0mpred\u001b[0m \u001b[0;34m=\u001b[0m \u001b[0mprecentage\u001b[0m\u001b[0;34m(\u001b[0m\u001b[0mprediction\u001b[0m\u001b[0;34m,\u001b[0m \u001b[0moutputg\u001b[0m\u001b[0;34m)\u001b[0m\u001b[0;34m\u001b[0m\u001b[0;34m\u001b[0m\u001b[0m\n\u001b[1;32m      5\u001b[0m     \u001b[0mval\u001b[0m \u001b[0;34m=\u001b[0m \u001b[0mrealPrecentage\u001b[0m\u001b[0;34m(\u001b[0m\u001b[0mstockdata\u001b[0m\u001b[0;34m)\u001b[0m\u001b[0;34m\u001b[0m\u001b[0;34m\u001b[0m\u001b[0m\n",
      "\u001b[0;31mNameError\u001b[0m: name 'time_size' is not defined"
     ]
    }
   ],
   "source": [
    "time_size = 7\n",
    "for stockdata in testdata:\n",
    "    inputg,outputg = processData(stockdata,time_size,1)\n",
    "    prediction = model.predict(inputg)\n",
    "    pred = precentage(prediction, outputg)\n",
    "    val = realPrecentage(stockdata)\n",
    "    print(compare(pred, val))\n"
   ]
  },
  {
   "cell_type": "code",
   "execution_count": null,
   "metadata": {},
   "outputs": [],
   "source": []
  }
 ],
 "metadata": {
  "kernelspec": {
   "display_name": "Python 3",
   "language": "python",
   "name": "python3"
  },
  "language_info": {
   "codemirror_mode": {
    "name": "ipython",
    "version": 3
   },
   "file_extension": ".py",
   "mimetype": "text/x-python",
   "name": "python",
   "nbconvert_exporter": "python",
   "pygments_lexer": "ipython3",
   "version": "3.6.8"
  }
 },
 "nbformat": 4,
 "nbformat_minor": 2
}
