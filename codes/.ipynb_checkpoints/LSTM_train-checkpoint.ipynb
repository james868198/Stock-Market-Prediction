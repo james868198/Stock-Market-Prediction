{
 "cells": [
  {
   "cell_type": "code",
   "execution_count": 1,
   "metadata": {},
   "outputs": [],
   "source": [
    "import numpy as np # linear algebra\n",
    "import pandas as pd # data processing, CSV file I/O (e.g. pd.read_csv)\n",
    "import tensorflow as tf\n",
    "from tensorflow.keras.models import Sequential\n",
    "from tensorflow.keras.layers import Dense, Dropout, LSTM\n",
    "from tensorflow.keras.utils import normalize\n",
    "from tensorflow.keras.callbacks import EarlyStopping\n",
    "from tensorflow.keras.initializers import Orthogonal\n",
    "\n",
    "from sklearn.preprocessing import MinMaxScaler, scale\n",
    "import matplotlib.pyplot as plt"
   ]
  },
  {
   "cell_type": "code",
   "execution_count": 2,
   "metadata": {},
   "outputs": [],
   "source": [
    "AAPL = pd.read_csv('../data/transactions/Tech/AAPL.csv')  \n",
    "stockdata = AAPL\n"
   ]
  },
  {
   "cell_type": "code",
   "execution_count": 3,
   "metadata": {
    "scrolled": true
   },
   "outputs": [],
   "source": [
    "def getStock(stock):\n",
    "    date = pd.to_datetime(stock[\"Date\"])\n",
    "    stock = stock.drop(['Date'],axis=1)\n",
    "    stock= stock.astype('float64')\n",
    "\n",
    "    return scale(stock), scale(stock['Close'])\n",
    "\n",
    "\n",
    "#Samples. One sequence is one sample. A batch is comprised of one or more samples.\n",
    "#Time Steps. One time step is one point of observation in the sample.\n",
    "#Features. One feature is one observation at a time step.\n",
    "def processData(stock, input_unit,output_unit):\n",
    "    data,result = getStock(stock)\n",
    "    X,Y = [],[]\n",
    "    for i in range(len(data)-input_unit-output_unit):\n",
    "        X.append(data[i:(i+input_unit)])\n",
    "        temp = [result[j+i+input_unit] for j in range(output_unit)]\n",
    "        Y.append(temp)\n",
    "    return np.array(X),np.array(Y)\n",
    "\n",
    "def category(data):\n",
    "    data[data>=0] = 1\n",
    "    data[data<0] = -1\n",
    "    return data\n",
    "    \n",
    "def precentage(prediction, real):\n",
    "    pred = prediction -real\n",
    "    pred = np.squeeze(prediction, axis=1)\n",
    "    pred = category(pred)\n",
    "   \n",
    "    return pred\n",
    "def realPrecentage(stock):\n",
    "    value = pd.Series(stock['Close']-stock['Close'].shift(1), index=stock.index) \n",
    "    value = value.bfill() \n",
    "    value = np.array(value) \n",
    "    val = category(value)\n",
    "   \n",
    "    return val\n",
    "def compare(pred, val):\n",
    "    t = len(pred)\n",
    "    countTrue = 0\n",
    "    for i in range(t):\n",
    "        if pred[i] == val[i]:\n",
    "            countTrue +=1\n",
    "    return countTrue/t\n",
    "\n",
    "\n"
   ]
  },
  {
   "cell_type": "code",
   "execution_count": 4,
   "metadata": {},
   "outputs": [
    {
     "name": "stdout",
     "output_type": "stream",
     "text": [
      "(1001, 5, 6)\n",
      "(1001, 1)\n",
      "(251, 5, 6)\n",
      "(251, 1)\n"
     ]
    }
   ],
   "source": [
    "time_size = 5\n",
    "X,y = processData(stockdata,time_size,1)\n",
    "train_size = int(X.shape[0]*0.80)\n",
    "X_train,X_test = X[:int(X.shape[0]*0.80)],X[int(X.shape[0]*0.80):]\n",
    "y_train,y_test = y[:int(y.shape[0]*0.80)],y[int(y.shape[0]*0.80):]\n",
    "print(X_train.shape)\n",
    "print(y_train.shape)\n",
    "print(X_test.shape)\n",
    "print(y_test.shape)\n"
   ]
  },
  {
   "cell_type": "code",
   "execution_count": 9,
   "metadata": {},
   "outputs": [
    {
     "name": "stdout",
     "output_type": "stream",
     "text": [
      "Train on 1001 samples, validate on 251 samples\n",
      "Epoch 1/20\n",
      "1001/1001 [==============================] - 6s 6ms/step - loss: 0.0145 - val_loss: 0.3362\n",
      "Epoch 2/20\n",
      "1001/1001 [==============================] - 1s 1ms/step - loss: 0.0205 - val_loss: 0.2146\n",
      "Epoch 3/20\n",
      "1001/1001 [==============================] - 1s 1ms/step - loss: 0.0237 - val_loss: 0.4607\n",
      "Epoch 4/20\n",
      "1001/1001 [==============================] - 1s 1ms/step - loss: 0.0250 - val_loss: 0.2146\n",
      "Epoch 5/20\n",
      "1001/1001 [==============================] - 1s 1ms/step - loss: 0.0280 - val_loss: 0.5437\n",
      "Epoch 6/20\n",
      "1001/1001 [==============================] - 1s 1ms/step - loss: 0.0205 - val_loss: 0.2312\n",
      "Epoch 7/20\n",
      "1001/1001 [==============================] - 1s 1ms/step - loss: 0.0202 - val_loss: 0.4350\n",
      "Epoch 8/20\n",
      "1001/1001 [==============================] - 1s 1ms/step - loss: 0.0173 - val_loss: 0.2164\n",
      "Epoch 9/20\n",
      "1001/1001 [==============================] - 1s 1ms/step - loss: 0.0178 - val_loss: 0.4005\n",
      "Epoch 10/20\n",
      "1001/1001 [==============================] - 1s 1ms/step - loss: 0.0174 - val_loss: 0.1963\n",
      "Epoch 11/20\n",
      "1001/1001 [==============================] - 1s 1ms/step - loss: 0.0228 - val_loss: 0.4873\n",
      "Epoch 12/20\n",
      "1001/1001 [==============================] - 1s 1ms/step - loss: 0.0184 - val_loss: 0.2022\n",
      "Epoch 13/20\n",
      "1001/1001 [==============================] - 1s 1ms/step - loss: 0.0194 - val_loss: 0.4045\n",
      "Epoch 14/20\n",
      "1001/1001 [==============================] - 1s 1ms/step - loss: 0.0174 - val_loss: 0.2019\n",
      "Epoch 15/20\n",
      "1001/1001 [==============================] - 1s 1ms/step - loss: 0.0199 - val_loss: 0.3666\n",
      "Epoch 16/20\n",
      "1001/1001 [==============================] - 1s 1ms/step - loss: 0.0171 - val_loss: 0.1820\n",
      "Epoch 17/20\n",
      "1001/1001 [==============================] - 1s 1ms/step - loss: 0.0167 - val_loss: 0.3295\n",
      "Epoch 18/20\n",
      " 864/1001 [========================>.....] - ETA: 0s - loss: 0.0137"
     ]
    },
    {
     "ename": "KeyboardInterrupt",
     "evalue": "",
     "output_type": "error",
     "traceback": [
      "\u001b[0;31m---------------------------------------------------------------------------\u001b[0m",
      "\u001b[0;31mKeyboardInterrupt\u001b[0m                         Traceback (most recent call last)",
      "\u001b[0;32m<ipython-input-9-7da4a090a1d5>\u001b[0m in \u001b[0;36m<module>\u001b[0;34m\u001b[0m\n\u001b[1;32m     12\u001b[0m     \u001b[0mmodel\u001b[0m\u001b[0;34m.\u001b[0m\u001b[0mcompile\u001b[0m\u001b[0;34m(\u001b[0m\u001b[0moptimizer\u001b[0m\u001b[0;34m=\u001b[0m\u001b[0;34m'adam'\u001b[0m\u001b[0;34m,\u001b[0m \u001b[0mloss\u001b[0m\u001b[0;34m=\u001b[0m\u001b[0;34m'mean_squared_error'\u001b[0m\u001b[0;34m)\u001b[0m\u001b[0;34m\u001b[0m\u001b[0;34m\u001b[0m\u001b[0m\n\u001b[1;32m     13\u001b[0m \u001b[0mcallback\u001b[0m \u001b[0;34m=\u001b[0m \u001b[0mEarlyStopping\u001b[0m\u001b[0;34m(\u001b[0m\u001b[0mmonitor\u001b[0m\u001b[0;34m=\u001b[0m\u001b[0;34m'val_loss'\u001b[0m\u001b[0;34m,\u001b[0m \u001b[0mpatience\u001b[0m\u001b[0;34m=\u001b[0m\u001b[0;36m10\u001b[0m\u001b[0;34m,\u001b[0m\u001b[0mverbose\u001b[0m\u001b[0;34m=\u001b[0m\u001b[0;36m1\u001b[0m\u001b[0;34m,\u001b[0m\u001b[0mmode\u001b[0m\u001b[0;34m=\u001b[0m\u001b[0;34m'auto'\u001b[0m\u001b[0;34m)\u001b[0m\u001b[0;34m\u001b[0m\u001b[0;34m\u001b[0m\u001b[0m\n\u001b[0;32m---> 14\u001b[0;31m \u001b[0mhistory\u001b[0m \u001b[0;34m=\u001b[0m \u001b[0mmodel\u001b[0m\u001b[0;34m.\u001b[0m\u001b[0mfit\u001b[0m\u001b[0;34m(\u001b[0m\u001b[0mX_train\u001b[0m\u001b[0;34m,\u001b[0m\u001b[0my_train\u001b[0m\u001b[0;34m,\u001b[0m\u001b[0mepochs\u001b[0m\u001b[0;34m=\u001b[0m\u001b[0;36m20\u001b[0m\u001b[0;34m,\u001b[0m\u001b[0mvalidation_data\u001b[0m\u001b[0;34m=\u001b[0m\u001b[0;34m(\u001b[0m\u001b[0mX_test\u001b[0m\u001b[0;34m,\u001b[0m\u001b[0my_test\u001b[0m\u001b[0;34m)\u001b[0m\u001b[0;34m,\u001b[0m\u001b[0mshuffle\u001b[0m\u001b[0;34m=\u001b[0m\u001b[0;32mFalse\u001b[0m\u001b[0;34m,\u001b[0m\u001b[0mcallbacks\u001b[0m\u001b[0;34m=\u001b[0m\u001b[0;34m[\u001b[0m\u001b[0mcallback\u001b[0m\u001b[0;34m]\u001b[0m\u001b[0;34m)\u001b[0m\u001b[0;34m\u001b[0m\u001b[0;34m\u001b[0m\u001b[0m\n\u001b[0m",
      "\u001b[0;32m//anaconda/envs/stock/lib/python3.6/site-packages/tensorflow/python/keras/engine/training.py\u001b[0m in \u001b[0;36mfit\u001b[0;34m(self, x, y, batch_size, epochs, verbose, callbacks, validation_split, validation_data, shuffle, class_weight, sample_weight, initial_epoch, steps_per_epoch, validation_steps, max_queue_size, workers, use_multiprocessing, **kwargs)\u001b[0m\n\u001b[1;32m   1637\u001b[0m           \u001b[0minitial_epoch\u001b[0m\u001b[0;34m=\u001b[0m\u001b[0minitial_epoch\u001b[0m\u001b[0;34m,\u001b[0m\u001b[0;34m\u001b[0m\u001b[0;34m\u001b[0m\u001b[0m\n\u001b[1;32m   1638\u001b[0m           \u001b[0msteps_per_epoch\u001b[0m\u001b[0;34m=\u001b[0m\u001b[0msteps_per_epoch\u001b[0m\u001b[0;34m,\u001b[0m\u001b[0;34m\u001b[0m\u001b[0;34m\u001b[0m\u001b[0m\n\u001b[0;32m-> 1639\u001b[0;31m           validation_steps=validation_steps)\n\u001b[0m\u001b[1;32m   1640\u001b[0m \u001b[0;34m\u001b[0m\u001b[0m\n\u001b[1;32m   1641\u001b[0m   def evaluate(self,\n",
      "\u001b[0;32m//anaconda/envs/stock/lib/python3.6/site-packages/tensorflow/python/keras/engine/training_arrays.py\u001b[0m in \u001b[0;36mfit_loop\u001b[0;34m(model, inputs, targets, sample_weights, batch_size, epochs, verbose, callbacks, val_inputs, val_targets, val_sample_weights, shuffle, initial_epoch, steps_per_epoch, validation_steps)\u001b[0m\n\u001b[1;32m    213\u001b[0m           \u001b[0mins_batch\u001b[0m\u001b[0;34m[\u001b[0m\u001b[0mi\u001b[0m\u001b[0;34m]\u001b[0m \u001b[0;34m=\u001b[0m \u001b[0mins_batch\u001b[0m\u001b[0;34m[\u001b[0m\u001b[0mi\u001b[0m\u001b[0;34m]\u001b[0m\u001b[0;34m.\u001b[0m\u001b[0mtoarray\u001b[0m\u001b[0;34m(\u001b[0m\u001b[0;34m)\u001b[0m\u001b[0;34m\u001b[0m\u001b[0;34m\u001b[0m\u001b[0m\n\u001b[1;32m    214\u001b[0m \u001b[0;34m\u001b[0m\u001b[0m\n\u001b[0;32m--> 215\u001b[0;31m         \u001b[0mouts\u001b[0m \u001b[0;34m=\u001b[0m \u001b[0mf\u001b[0m\u001b[0;34m(\u001b[0m\u001b[0mins_batch\u001b[0m\u001b[0;34m)\u001b[0m\u001b[0;34m\u001b[0m\u001b[0;34m\u001b[0m\u001b[0m\n\u001b[0m\u001b[1;32m    216\u001b[0m         \u001b[0;32mif\u001b[0m \u001b[0;32mnot\u001b[0m \u001b[0misinstance\u001b[0m\u001b[0;34m(\u001b[0m\u001b[0mouts\u001b[0m\u001b[0;34m,\u001b[0m \u001b[0mlist\u001b[0m\u001b[0;34m)\u001b[0m\u001b[0;34m:\u001b[0m\u001b[0;34m\u001b[0m\u001b[0;34m\u001b[0m\u001b[0m\n\u001b[1;32m    217\u001b[0m           \u001b[0mouts\u001b[0m \u001b[0;34m=\u001b[0m \u001b[0;34m[\u001b[0m\u001b[0mouts\u001b[0m\u001b[0;34m]\u001b[0m\u001b[0;34m\u001b[0m\u001b[0;34m\u001b[0m\u001b[0m\n",
      "\u001b[0;32m//anaconda/envs/stock/lib/python3.6/site-packages/tensorflow/python/keras/backend.py\u001b[0m in \u001b[0;36m__call__\u001b[0;34m(self, inputs)\u001b[0m\n\u001b[1;32m   2984\u001b[0m \u001b[0;34m\u001b[0m\u001b[0m\n\u001b[1;32m   2985\u001b[0m     fetched = self._callable_fn(*array_vals,\n\u001b[0;32m-> 2986\u001b[0;31m                                 run_metadata=self.run_metadata)\n\u001b[0m\u001b[1;32m   2987\u001b[0m     \u001b[0mself\u001b[0m\u001b[0;34m.\u001b[0m\u001b[0m_call_fetch_callbacks\u001b[0m\u001b[0;34m(\u001b[0m\u001b[0mfetched\u001b[0m\u001b[0;34m[\u001b[0m\u001b[0;34m-\u001b[0m\u001b[0mlen\u001b[0m\u001b[0;34m(\u001b[0m\u001b[0mself\u001b[0m\u001b[0;34m.\u001b[0m\u001b[0m_fetches\u001b[0m\u001b[0;34m)\u001b[0m\u001b[0;34m:\u001b[0m\u001b[0;34m]\u001b[0m\u001b[0;34m)\u001b[0m\u001b[0;34m\u001b[0m\u001b[0;34m\u001b[0m\u001b[0m\n\u001b[1;32m   2988\u001b[0m     \u001b[0;32mreturn\u001b[0m \u001b[0mfetched\u001b[0m\u001b[0;34m[\u001b[0m\u001b[0;34m:\u001b[0m\u001b[0mlen\u001b[0m\u001b[0;34m(\u001b[0m\u001b[0mself\u001b[0m\u001b[0;34m.\u001b[0m\u001b[0moutputs\u001b[0m\u001b[0;34m)\u001b[0m\u001b[0;34m]\u001b[0m\u001b[0;34m\u001b[0m\u001b[0;34m\u001b[0m\u001b[0m\n",
      "\u001b[0;32m//anaconda/envs/stock/lib/python3.6/site-packages/tensorflow/python/client/session.py\u001b[0m in \u001b[0;36m__call__\u001b[0;34m(self, *args, **kwargs)\u001b[0m\n\u001b[1;32m   1437\u001b[0m           ret = tf_session.TF_SessionRunCallable(\n\u001b[1;32m   1438\u001b[0m               \u001b[0mself\u001b[0m\u001b[0;34m.\u001b[0m\u001b[0m_session\u001b[0m\u001b[0;34m.\u001b[0m\u001b[0m_session\u001b[0m\u001b[0;34m,\u001b[0m \u001b[0mself\u001b[0m\u001b[0;34m.\u001b[0m\u001b[0m_handle\u001b[0m\u001b[0;34m,\u001b[0m \u001b[0margs\u001b[0m\u001b[0;34m,\u001b[0m \u001b[0mstatus\u001b[0m\u001b[0;34m,\u001b[0m\u001b[0;34m\u001b[0m\u001b[0;34m\u001b[0m\u001b[0m\n\u001b[0;32m-> 1439\u001b[0;31m               run_metadata_ptr)\n\u001b[0m\u001b[1;32m   1440\u001b[0m         \u001b[0;32mif\u001b[0m \u001b[0mrun_metadata\u001b[0m\u001b[0;34m:\u001b[0m\u001b[0;34m\u001b[0m\u001b[0;34m\u001b[0m\u001b[0m\n\u001b[1;32m   1441\u001b[0m           \u001b[0mproto_data\u001b[0m \u001b[0;34m=\u001b[0m \u001b[0mtf_session\u001b[0m\u001b[0;34m.\u001b[0m\u001b[0mTF_GetBuffer\u001b[0m\u001b[0;34m(\u001b[0m\u001b[0mrun_metadata_ptr\u001b[0m\u001b[0;34m)\u001b[0m\u001b[0;34m\u001b[0m\u001b[0;34m\u001b[0m\u001b[0m\n",
      "\u001b[0;31mKeyboardInterrupt\u001b[0m: "
     ]
    }
   ],
   "source": [
    "model = tf.keras.models.load_model('LSTM')\n",
    "if model == None:\n",
    "    print('train from begining')\n",
    "    model = Sequential() # most common\n",
    "    model.add(LSTM(64, input_shape = (time_size,6), return_sequences=True)) \n",
    "    model.add(Dropout(0.2))\n",
    "    model.add(LSTM(32, input_shape = (time_size,6), return_sequences=False)) \n",
    "    model.add(Dropout(0.2))\n",
    "    model.add(Dense(16, kernel_initializer='uniform', activation = 'relu'))\n",
    "    model.add(Dense(1, activation = 'linear'))\n",
    "\n",
    "    model.compile(optimizer='adam', loss='mean_squared_error') \n",
    "callback = EarlyStopping(monitor='val_loss', patience=10,verbose=1,mode='auto')\n",
    "history = model.fit(X_train,y_train,epochs=300,validation_data=(X_test,y_test),shuffle=False,callbacks=[callback])"
   ]
  },
  {
   "cell_type": "code",
   "execution_count": 6,
   "metadata": {},
   "outputs": [],
   "source": [
    "#plt.plot(history.history['loss'],color=\"blue\")\n",
    "#plt.plot(history.history['val_loss'],color=\"green\")\n",
    "#plt.show()"
   ]
  },
  {
   "cell_type": "code",
   "execution_count": 7,
   "metadata": {},
   "outputs": [
    {
     "name": "stdout",
     "output_type": "stream",
     "text": [
      "0.5039936102236422\n"
     ]
    }
   ],
   "source": [
    "prediction = model.predict(X_test)\n",
    "\n",
    "real = y_test\n",
    "#plt.plot(real,color=\"blue\")\n",
    "#plt.plot(prediction,color=\"orange\")\n",
    "#plt.show()\n",
    "\n",
    "inputg,outputg = processData(stockdata,time_size,1)\n",
    "prediction = model.predict(inputg)\n",
    "pred = precentage(prediction, outputg)\n",
    "val = realPrecentage(stockdata)\n",
    "print(compare(pred, val))\n",
    "#print(prediction)\n",
    "#print(real)"
   ]
  },
  {
   "cell_type": "code",
   "execution_count": 8,
   "metadata": {},
   "outputs": [],
   "source": [
    "tf.keras.models.save_model(model,'LSTM')\n"
   ]
  },
  {
   "cell_type": "code",
   "execution_count": null,
   "metadata": {},
   "outputs": [],
   "source": []
  }
 ],
 "metadata": {
  "kernelspec": {
   "display_name": "Python 3",
   "language": "python",
   "name": "python3"
  },
  "language_info": {
   "codemirror_mode": {
    "name": "ipython",
    "version": 3
   },
   "file_extension": ".py",
   "mimetype": "text/x-python",
   "name": "python",
   "nbconvert_exporter": "python",
   "pygments_lexer": "ipython3",
   "version": "3.6.8"
  }
 },
 "nbformat": 4,
 "nbformat_minor": 2
}
