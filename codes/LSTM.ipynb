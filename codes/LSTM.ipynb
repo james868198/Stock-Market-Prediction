{
 "cells": [
  {
   "cell_type": "code",
   "execution_count": 1,
   "metadata": {},
   "outputs": [],
   "source": [
    "import numpy as np # linear algebra\n",
    "import pandas as pd # data processing, CSV file I/O (e.g. pd.read_csv)\n",
    "import tensorflow as tf\n",
    "from tensorflow.keras.models import Sequential\n",
    "from tensorflow.keras.layers import Dense, Dropout, LSTM\n",
    "from tensorflow.keras.utils import normalize\n",
    "from tensorflow.keras.callbacks import EarlyStopping\n",
    "from tensorflow.keras.initializers import Orthogonal\n",
    "\n",
    "from sklearn.preprocessing import MinMaxScaler, scale\n",
    "import matplotlib.pyplot as plt"
   ]
  },
  {
   "cell_type": "code",
   "execution_count": 2,
   "metadata": {},
   "outputs": [],
   "source": [
    "AAPL = pd.read_csv('../data/transactions/Tech/AAPL.csv')  \n",
    "GOOG = pd.read_csv('../data/transactions/Tech/GOOG.csv')  \n",
    "FB = pd.read_csv('../data/transactions/Tech/FB.csv')  \n",
    "MSFT = pd.read_csv('../data/transactions/Tech/MSFT.csv')  \n",
    "AMZN = pd.read_csv('../data/transactions/Tech/AMZN.csv') \n",
    "ALK = pd.read_csv('../data/transactions/Airline/ALK.csv')  \n",
    "DAL = pd.read_csv('../data/transactions/Airline/DAL.csv')  \n",
    "LUV = pd.read_csv('../data/transactions/Airline/LUV.csv')  \n",
    "RYAAY = pd.read_csv('../data/transactions/Airline/RYAAY.csv')  \n",
    "SAVE = pd.read_csv('../data/transactions/Airline/SAVE.csv') \n",
    "JACK = pd.read_csv('../data/transactions/Fastfood/JACK.csv')  \n",
    "MCD = pd.read_csv('../data/transactions/Fastfood/MCD.csv')  \n",
    "TACO = pd.read_csv('../data/transactions/Fastfood/TACO.csv')  \n",
    "WEN = pd.read_csv('../data/transactions/Fastfood/WEN.csv')  \n",
    "YUM = pd.read_csv('../data/transactions/Fastfood/YUM.csv') \n",
    "GS = pd.read_csv('../data/transactions/Finance/GS.csv')  \n",
    "JPM = pd.read_csv('../data/transactions/Finance/JPM.csv')  \n",
    "MER = pd.read_csv('../data/transactions/Finance/MER-PK.csv')  \n",
    "MS = pd.read_csv('../data/transactions/Finance/MS.csv')  \n",
    "WFC = pd.read_csv('../data/transactions/Finance/WFC.csv') \n",
    "COST = pd.read_csv('../data/transactions/Retailer/COST.csv')  \n",
    "HD = pd.read_csv('../data/transactions/Retailer/HD.csv')  \n",
    "KR = pd.read_csv('../data/transactions/Retailer/KR.csv')  \n",
    "TGT = pd.read_csv('../data/transactions/Retailer/TGT.csv')  \n",
    "WMT = pd.read_csv('../data/transactions/Retailer/WMT.csv') "
   ]
  },
  {
   "cell_type": "code",
   "execution_count": 3,
   "metadata": {},
   "outputs": [],
   "source": [
    "def getStock(stock):\n",
    "    date = pd.to_datetime(stock[\"Date\"])\n",
    "\n",
    "    stock = stock.drop(['Date'],axis=1)\n",
    "    stock= stock.astype('float64')\n",
    "    #stock['month'] = month = np.array(date.dt.month)\n",
    "    #stock['day'] = month = np.array(date.dt.day)\n",
    "\n",
    "    return scale(stock), scale(stock['Close'])\n",
    "\n",
    "def processData(stock, input_unit,output_unit):\n",
    "    data,result = getStock(stock)\n",
    "    X,Y = [],[]\n",
    "    for i in range(len(data)-input_unit-output_unit):\n",
    "        X.append(data[i:(i+input_unit)])\n",
    "        temp = [result[j+i+input_unit] for j in range(output_unit)]\n",
    "        Y.append(temp)\n",
    "    return np.array(X),np.array(Y)\n",
    "time_size = 30\n",
    "X,y = processData(AAPL,time_size,1)\n",
    "train_size = int(X.shape[0]*0.80)\n",
    "X_train,X_test = X[:int(X.shape[0]*0.80)],X[int(X.shape[0]*0.80):]\n",
    "y_train,y_test = y[:int(y.shape[0]*0.80)],y[int(y.shape[0]*0.80):]\n",
    "\n"
   ]
  },
  {
   "cell_type": "code",
   "execution_count": 4,
   "metadata": {},
   "outputs": [
    {
     "name": "stdout",
     "output_type": "stream",
     "text": [
      "Train on 981 samples, validate on 246 samples\n",
      "Epoch 1/300\n",
      "981/981 [==============================] - 4s 4ms/step - loss: 0.3586 - val_loss: 2.2457\n",
      "Epoch 2/300\n",
      "981/981 [==============================] - 2s 2ms/step - loss: 0.1212 - val_loss: 1.2208\n",
      "Epoch 3/300\n",
      "981/981 [==============================] - 2s 2ms/step - loss: 0.0871 - val_loss: 0.9250\n",
      "Epoch 4/300\n",
      "981/981 [==============================] - 2s 2ms/step - loss: 0.0538 - val_loss: 0.9698\n",
      "Epoch 5/300\n",
      "981/981 [==============================] - 2s 2ms/step - loss: 0.0411 - val_loss: 0.7854\n",
      "Epoch 6/300\n",
      "981/981 [==============================] - 2s 2ms/step - loss: 0.0264 - val_loss: 0.8937\n",
      "Epoch 7/300\n",
      "981/981 [==============================] - 2s 2ms/step - loss: 0.0365 - val_loss: 0.6811\n",
      "Epoch 8/300\n",
      "981/981 [==============================] - 2s 2ms/step - loss: 0.0312 - val_loss: 0.7184\n",
      "Epoch 9/300\n",
      "981/981 [==============================] - 2s 2ms/step - loss: 0.0330 - val_loss: 0.5758\n",
      "Epoch 10/300\n",
      "981/981 [==============================] - 2s 2ms/step - loss: 0.0352 - val_loss: 0.7320\n",
      "Epoch 11/300\n",
      "981/981 [==============================] - 2s 2ms/step - loss: 0.0251 - val_loss: 0.5162\n",
      "Epoch 12/300\n",
      "981/981 [==============================] - 2s 2ms/step - loss: 0.0218 - val_loss: 0.6074\n",
      "Epoch 13/300\n",
      "981/981 [==============================] - 2s 2ms/step - loss: 0.0224 - val_loss: 0.4544\n",
      "Epoch 14/300\n",
      "981/981 [==============================] - 2s 2ms/step - loss: 0.0331 - val_loss: 0.6772\n",
      "Epoch 15/300\n",
      "981/981 [==============================] - 2s 2ms/step - loss: 0.0260 - val_loss: 0.4347\n",
      "Epoch 16/300\n",
      "981/981 [==============================] - 2s 2ms/step - loss: 0.0325 - val_loss: 0.3832\n",
      "Epoch 17/300\n",
      "981/981 [==============================] - 2s 2ms/step - loss: 0.0256 - val_loss: 0.3223\n",
      "Epoch 18/300\n",
      "981/981 [==============================] - 2s 2ms/step - loss: 0.0483 - val_loss: 0.4056\n",
      "Epoch 19/300\n",
      "981/981 [==============================] - 2s 2ms/step - loss: 0.0658 - val_loss: 0.3084\n",
      "Epoch 20/300\n",
      "981/981 [==============================] - 2s 2ms/step - loss: 0.0467 - val_loss: 0.4524\n",
      "Epoch 21/300\n",
      "981/981 [==============================] - 2s 2ms/step - loss: 0.0310 - val_loss: 0.2995\n",
      "Epoch 22/300\n",
      "981/981 [==============================] - 2s 2ms/step - loss: 0.0392 - val_loss: 0.7482\n",
      "Epoch 00022: early stopping\n"
     ]
    }
   ],
   "source": [
    "model = Sequential() # most common\n",
    "model.add(LSTM(64, input_shape = (time_size,6), return_sequences=True)) \n",
    "model.add(Dropout(0.2))\n",
    "model.add(LSTM(32, input_shape = (time_size,6), return_sequences=False)) \n",
    "model.add(Dropout(0.2))\n",
    "model.add(Dense(16, kernel_initializer='uniform', activation = 'relu'))\n",
    "model.add(Dense(1, activation = 'linear'))\n",
    "\n",
    "model.compile(optimizer='adam', loss='mean_squared_error') \n",
    "callback = EarlyStopping(monitor='loss', patience=10,verbose=1,mode='auto')\n",
    "history = model.fit(X_train,y_train,epochs=300,validation_data=(X_test,y_test),shuffle=False,callbacks=[callback])"
   ]
  },
  {
   "cell_type": "code",
   "execution_count": 5,
   "metadata": {},
   "outputs": [
    {
     "data": {
      "image/png": "[encoded data removed]",
      "text/plain": [
       "<Figure size 432x288 with 1 Axes>"
      ]
     },
     "metadata": {
      "needs_background": "light"
     },
     "output_type": "display_data"
    }
   ],
   "source": [
    "plt.plot(history.history['loss'],color=\"blue\")\n",
    "plt.plot(history.history['val_loss'],color=\"green\")\n",
    "plt.show()"
   ]
  },
  {
   "cell_type": "code",
   "execution_count": 6,
   "metadata": {},
   "outputs": [],
   "source": [
    "def category2(data, threshold):\n",
    "    top = threshold*(max(data)-min(data))+sum(data)/len(data)\n",
    "    bottom = -1*threshold*(max(data)-min(data))+sum(data)/len(data)\n",
    "    print(top,bottom)\n",
    "    new_data = []\n",
    "    for item in data:\n",
    "        if item >= top:\n",
    "            new_data.append(1)\n",
    "        elif item < bottom:\n",
    "            new_data.append(-1)\n",
    "        else:\n",
    "            new_data.append(0)\n",
    "    return new_data\n",
    "def category(data):\n",
    "    data[data>=0] = 1\n",
    "    data[data<0] = -1\n",
    "    return data\n",
    "    \n",
    "def precentage(prediction, real):\n",
    "    pred = prediction -real\n",
    "    pred = np.squeeze(prediction, axis=1)\n",
    "    pred = category(pred)\n",
    "   \n",
    "    return pred\n",
    "def realPrecentage(stock):\n",
    "    value = pd.Series(stock['Close']-stock['Close'].shift(1), index=stock.index) \n",
    "    value = value.bfill() \n",
    "    value = np.array(value) \n",
    "    val = category(value)\n",
    "   \n",
    "\n",
    "    return val\n",
    "def compare(pred, val):\n",
    "    #print(pred[:1000])\n",
    "    #print(val[:1000])\n",
    "    t = len(pred)\n",
    "    countTrue = 0\n",
    "    for i in range(t):\n",
    "        if pred[i] == val[i]:\n",
    "            countTrue +=1\n",
    "    return countTrue/t"
   ]
  },
  {
   "cell_type": "code",
   "execution_count": 7,
   "metadata": {},
   "outputs": [],
   "source": [
    "testdata = []\n",
    "testdata.append(ALK)\n",
    "testdata.append(DAL)\n",
    "testdata.append(RYAAY)\n",
    "testdata.append(SAVE)\n",
    "testdata.append(JACK)\n",
    "testdata.append(TACO)\n",
    "testdata.append(WEN)\n",
    "testdata.append(GS)\n",
    "testdata.append(JPM)\n",
    "testdata.append(MER)\n",
    "testdata.append(MS)\n",
    "testdata.append(WFC)\n",
    "testdata.append(COST)\n",
    "testdata.append(HD)\n",
    "testdata.append(KR)\n",
    "testdata.append(TGT)\n",
    "testdata.append(WMT)"
   ]
  },
  {
   "cell_type": "code",
   "execution_count": 8,
   "metadata": {},
   "outputs": [
    {
     "name": "stdout",
     "output_type": "stream",
     "text": [
      "0.4963325183374083\n",
      "0.5240423797881011\n",
      "0.5069274653626732\n",
      "0.5158924205378973\n",
      "0.4906275468622657\n",
      "0.4954545454545455\n",
      "0.508557457212714\n",
      "0.49551752241238795\n",
      "0.4938875305623472\n",
      "0.5004074979625102\n",
      "0.4898125509372453\n",
      "0.5020374898125509\n",
      "0.541157294213529\n",
      "0.4971475142624287\n",
      "0.4718826405867971\n",
      "0.5240423797881011\n",
      "0.537082314588427\n"
     ]
    }
   ],
   "source": [
    "for stockdata in testdata:\n",
    "    inputg,outputg = processData(stockdata,time_size,1)\n",
    "    prediction = model.predict(inputg)\n",
    "    pred = precentage(prediction, outputg)\n",
    "    val = realPrecentage(stockdata)\n",
    "    print(compare(pred, val))\n"
   ]
  },
  {
   "cell_type": "code",
   "execution_count": null,
   "metadata": {},
   "outputs": [],
   "source": []
  }
 ],
 "metadata": {
  "kernelspec": {
   "display_name": "Python 3",
   "language": "python",
   "name": "python3"
  },
  "language_info": {
   "codemirror_mode": {
    "name": "ipython",
    "version": 3
   },
   "file_extension": ".py",
   "mimetype": "text/x-python",
   "name": "python",
   "nbconvert_exporter": "python",
   "pygments_lexer": "ipython3",
   "version": "3.6.8"
  }
 },
 "nbformat": 4,
 "nbformat_minor": 2
}
